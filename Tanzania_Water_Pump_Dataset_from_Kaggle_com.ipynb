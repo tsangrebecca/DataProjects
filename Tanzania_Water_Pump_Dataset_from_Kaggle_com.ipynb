{
  "nbformat": 4,
  "nbformat_minor": 0,
  "metadata": {
    "kernelspec": {
      "display_name": "Python 3",
      "language": "python",
      "name": "python3"
    },
    "language_info": {
      "codemirror_mode": {
        "name": "ipython",
        "version": 3
      },
      "file_extension": ".py",
      "mimetype": "text/x-python",
      "name": "python",
      "nbconvert_exporter": "python",
      "pygments_lexer": "ipython3",
      "version": "3.7.3"
    },
    "colab": {
      "provenance": [],
      "include_colab_link": true
    }
  },
  "cells": [
    {
      "cell_type": "markdown",
      "metadata": {
        "id": "view-in-github",
        "colab_type": "text"
      },
      "source": [
        "<a href=\"https://colab.research.google.com/github/tsangrebecca/PersonalProjects/blob/main/Tanzania_Water_Pump_Dataset_from_Kaggle_com.ipynb\" target=\"_parent\"><img src=\"https://colab.research.google.com/assets/colab-badge.svg\" alt=\"Open In Colab\"/></a>"
      ]
    },
    {
      "cell_type": "markdown",
      "source": [
        "## Predicting whether a water pump in Tanzania needs repair or not using random forest classification\n",
        "so we can save unnecessary trips for an inspection of a perfectly functioning pump."
      ],
      "metadata": {
        "id": "rx_c9hSpmOF2"
      }
    },
    {
      "cell_type": "code",
      "metadata": {
        "id": "wXNKAp0MFnXW"
      },
      "source": [
        "%%capture\n",
        "!pip install category_encoders==2.*"
      ],
      "execution_count": null,
      "outputs": []
    },
    {
      "cell_type": "code",
      "source": [
        "import sklearn"
      ],
      "metadata": {
        "id": "GUms3wDK1m47"
      },
      "execution_count": null,
      "outputs": []
    },
    {
      "cell_type": "code",
      "source": [
        "print(sklearn.__version__)"
      ],
      "metadata": {
        "colab": {
          "base_uri": "https://localhost:8080/"
        },
        "id": "S2w_Jof-1tkE",
        "outputId": "8d16b0b8-b238-434d-894b-6c1861aa632a"
      },
      "execution_count": null,
      "outputs": [
        {
          "output_type": "stream",
          "name": "stdout",
          "text": [
            "1.3.2\n"
          ]
        }
      ]
    },
    {
      "cell_type": "code",
      "source": [
        "pip install --upgrade scikit-learn"
      ],
      "metadata": {
        "colab": {
          "base_uri": "https://localhost:8080/",
          "height": 356
        },
        "id": "fKn1sp3-1-DM",
        "outputId": "6e1d8e0f-a6be-411d-d879-72afc8d608bc"
      },
      "execution_count": null,
      "outputs": [
        {
          "output_type": "stream",
          "name": "stdout",
          "text": [
            "Requirement already satisfied: scikit-learn in /usr/local/lib/python3.10/dist-packages (1.2.2)\n",
            "Collecting scikit-learn\n",
            "  Downloading scikit_learn-1.3.2-cp310-cp310-manylinux_2_17_x86_64.manylinux2014_x86_64.whl (10.8 MB)\n",
            "\u001b[2K     \u001b[90m━━━━━━━━━━━━━━━━━━━━━━━━━━━━━━━━━━━━━━━━\u001b[0m \u001b[32m10.8/10.8 MB\u001b[0m \u001b[31m30.5 MB/s\u001b[0m eta \u001b[36m0:00:00\u001b[0m\n",
            "\u001b[?25hRequirement already satisfied: numpy<2.0,>=1.17.3 in /usr/local/lib/python3.10/dist-packages (from scikit-learn) (1.23.5)\n",
            "Requirement already satisfied: scipy>=1.5.0 in /usr/local/lib/python3.10/dist-packages (from scikit-learn) (1.11.3)\n",
            "Requirement already satisfied: joblib>=1.1.1 in /usr/local/lib/python3.10/dist-packages (from scikit-learn) (1.3.2)\n",
            "Requirement already satisfied: threadpoolctl>=2.0.0 in /usr/local/lib/python3.10/dist-packages (from scikit-learn) (3.2.0)\n",
            "Installing collected packages: scikit-learn\n",
            "  Attempting uninstall: scikit-learn\n",
            "    Found existing installation: scikit-learn 1.2.2\n",
            "    Uninstalling scikit-learn-1.2.2:\n",
            "      Successfully uninstalled scikit-learn-1.2.2\n",
            "Successfully installed scikit-learn-1.3.2\n"
          ]
        },
        {
          "output_type": "display_data",
          "data": {
            "application/vnd.colab-display-data+json": {
              "pip_warning": {
                "packages": [
                  "sklearn"
                ]
              }
            }
          },
          "metadata": {}
        }
      ]
    },
    {
      "cell_type": "code",
      "source": [
        "from sklearn.metrics import ConfusionMatrixDisplay\n",
        "# use this instead of plot_confusion_matrix which is now defunct"
      ],
      "metadata": {
        "id": "HD2zFOZ616xM"
      },
      "execution_count": null,
      "outputs": []
    },
    {
      "cell_type": "code",
      "metadata": {
        "id": "z03W-t5_B8TY",
        "ExecuteTime": {
          "end_time": "2023-07-06T14:52:38.838317Z",
          "start_time": "2023-07-06T14:52:38.103642Z"
        }
      },
      "source": [
        "from category_encoders import OrdinalEncoder\n",
        "from sklearn.ensemble import RandomForestClassifier\n",
        "from sklearn.impute import SimpleImputer\n",
        "from sklearn.metrics import ConfusionMatrixDisplay, classification_report\n",
        "from sklearn.model_selection import train_test_split\n",
        "from sklearn.pipeline import make_pipeline\n",
        "from sklearn.preprocessing import StandardScaler\n",
        "import numpy as np\n",
        "import pandas as pd"
      ],
      "execution_count": null,
      "outputs": []
    },
    {
      "cell_type": "markdown",
      "metadata": {
        "id": "d6TZ5nDFYkCa"
      },
      "source": [
        "# Using Kaggle API to download datset"
      ]
    },
    {
      "cell_type": "code",
      "metadata": {
        "colab": {
          "base_uri": "https://localhost:8080/"
        },
        "id": "X2e6fPUATxLZ",
        "outputId": "6495b3e1-9af5-4299-b265-4acc99f18538"
      },
      "source": [
        "# mounting google drive on colab\n",
        "from google.colab import drive\n",
        "drive.mount('/content/gdrive')"
      ],
      "execution_count": null,
      "outputs": [
        {
          "output_type": "stream",
          "name": "stdout",
          "text": [
            "Mounted at /content/gdrive\n"
          ]
        }
      ]
    },
    {
      "cell_type": "code",
      "metadata": {
        "colab": {
          "base_uri": "https://localhost:8080/"
        },
        "id": "KYSpUv9uYBAo",
        "outputId": "b8e7a8fe-b024-4c72-a8ce-b4a2dae5525d"
      },
      "source": [
        "#change my working directory, if I want to or have already saved my kaggle dataset on google drive.\n",
        "%cd /content/gdrive/My Drive/Kaggle\n",
        "# update it to my folder location on drive that contains the dataset and/or kaggle API token json file."
      ],
      "execution_count": null,
      "outputs": [
        {
          "output_type": "stream",
          "name": "stdout",
          "text": [
            "/content/gdrive/My Drive/Kaggle\n"
          ]
        }
      ]
    },
    {
      "cell_type": "code",
      "metadata": {
        "id": "dXChvgdZYb_t"
      },
      "source": [
        "# Download Kaggle Dataset, if I haven't already done so.\n",
        "# import os\n",
        "# os.environ['KAGGLE_CONFIG_DIR'] = \"/content/gdrive/My Drive/Kaggle\"\n",
        "# !kaggle competitions download -c bloomtech-water-pump-challenge"
      ],
      "execution_count": null,
      "outputs": []
    },
    {
      "cell_type": "code",
      "metadata": {
        "id": "NB84qgRRYdDF"
      },
      "source": [
        "# Unzip Kaggle dataset, if I haven't already done so.\n",
        "# !unzip \\*.zip  && rm *.zip"
      ],
      "execution_count": null,
      "outputs": []
    },
    {
      "cell_type": "code",
      "metadata": {
        "colab": {
          "base_uri": "https://localhost:8080/"
        },
        "id": "eag2zYiQYf6q",
        "outputId": "b1021e6f-85fa-436f-eade-b5da315e9e19"
      },
      "source": [
        "# List all files in my Kaggle folder on google drive.\n",
        "!ls"
      ],
      "execution_count": null,
      "outputs": [
        {
          "output_type": "stream",
          "name": "stdout",
          "text": [
            "sample_submission.csv  test_features.csv  train_features.csv  train_labels.csv\n"
          ]
        }
      ]
    },
    {
      "cell_type": "markdown",
      "metadata": {
        "id": "EfhziD2Wn_iO"
      },
      "source": [
        "# I. Wrangle Data"
      ]
    },
    {
      "cell_type": "code",
      "metadata": {
        "id": "uYjLLI4ag_Bc"
      },
      "source": [
        "# Parsing dates\n",
        "def wrangle(fm_path, tv_path=None):\n",
        "  if tv_path:\n",
        "    df = pd.merge(pd.read_csv(fm_path,\n",
        "                              na_values=[0, -2.000000e-08],\n",
        "                              parse_dates=['date_recorded']),\n",
        "                  pd.read_csv(tv_path)).set_index('id')\n",
        "\n",
        "    # Or I can place this line here while we're reading the training set data\n",
        "    # df['needs_repair'] = np.where(df['status_group']=='functional',0,1) # use the where function, if it's functional then it's a 0, otherwise a 1\n",
        "    # df.drop(columns='status_group', inplace=True) # after we create the new column 'needs_repair' using 'status_group', we have to drop 'status_group' to avoid data leakage\n",
        "  else:\n",
        "\n",
        "    df = pd.read_csv(fm_path,\n",
        "                     na_values=[0, -2.000000e-08],\n",
        "                     parse_dates=['date_recorded'],\n",
        "                     index_col='id')\n",
        "\n",
        "  # Create age feature\n",
        "  df['pump_age'] = df['date_recorded'].dt.year - df['construction_year']\n",
        "  df.drop(columns='date_recorded', inplace=True)\n",
        "\n",
        "  # Drop constant columns\n",
        "  df.drop(columns=['recorded_by'], inplace=True)\n",
        "\n",
        "  # Drop HCCCs (high cardinality categorical columns)\n",
        "  cutoff = 100\n",
        "  drop_cols = [col for col in df.select_dtypes('object').columns\n",
        "              if df[col].nunique() > cutoff]\n",
        "  df.drop(columns=drop_cols, inplace=True)\n",
        "\n",
        "  # Drop duplicate columns # check for atleast a 100 values\n",
        "  dupe_cols = [col for col in df.head(100).T.duplicated().index   # using LIST COMPREHENSION aka creating a new list by iterating through an existing iterable data structure, e.g.\n",
        "              if df.head(100).T.duplicated()[col]]                # here we create a list of duplicate columns by iterating through all the columns in the dataframe\n",
        "  df.drop(columns=dupe_cols, inplace=True)\n",
        "\n",
        "  # Change multi-class classification problem to a binary classification\n",
        "  if 'status_group' in df:\n",
        "    df['needs_repair'] = np.where(df['status_group']=='functional',0,1) # use the where function, if it's functional then it's a 0, otherwise a 1\n",
        "    # without this statement, this line will try to wrangle both our training AND test set which in the test set doesn't have the column status_group,\n",
        "    # so we only apply this line of code if we have the status_group column, which in our case will be the training set\n",
        "    df.drop(columns='status_group', inplace=True) # after we create the new column 'needs_repair' using 'status_group', we have to drop 'status_group' to avoid data leakage\n",
        "\n",
        "  return df\n",
        "\n",
        "df = wrangle(fm_path='train_features.csv',\n",
        "             tv_path='train_labels.csv')\n",
        "\n",
        "X_test = wrangle(fm_path='test_features.csv')"
      ],
      "execution_count": null,
      "outputs": []
    },
    {
      "cell_type": "markdown",
      "metadata": {
        "id": "Ni2SLySrZ5ZB"
      },
      "source": [
        "## Exploratory Data Analysis (EDA)\n"
      ]
    },
    {
      "cell_type": "code",
      "source": [
        "df.shape, X_test.shape"
      ],
      "metadata": {
        "colab": {
          "base_uri": "https://localhost:8080/"
        },
        "id": "4JvbJd1QRwje",
        "outputId": "e613967d-014c-4364-e5b6-7626ae59c633"
      },
      "execution_count": null,
      "outputs": [
        {
          "output_type": "execute_result",
          "data": {
            "text/plain": [
              "((47519, 31), (11880, 30))"
            ]
          },
          "metadata": {},
          "execution_count": 4
        }
      ]
    },
    {
      "cell_type": "markdown",
      "source": [
        "Our classification target is 1 or 0.\n",
        "- 0 means it's functional and won't need inspection\n",
        "- 1 means it's non-functional and needs repair"
      ],
      "metadata": {
        "id": "y6sMK81QrcKc"
      }
    },
    {
      "cell_type": "code",
      "source": [
        "# OPTION 1\n",
        "df['needs_repair'] = np.where(df['status_group']=='functional',0,1) # use the where function, if it's functional then it's a 0, otherwise a 1"
      ],
      "metadata": {
        "id": "0wlFRLiTrTBZ"
      },
      "execution_count": null,
      "outputs": []
    },
    {
      "cell_type": "code",
      "source": [
        "# # OPTION 2\n",
        "# df['needs_repair'] = (df['status_group'] != 'functional').astype(int)\n",
        "# # if the the statement of \"not functional\" is true, returns a boolean value True, and cast it as an integer, which is 1"
      ],
      "metadata": {
        "id": "pGBCTAY4rX5S"
      },
      "execution_count": null,
      "outputs": []
    },
    {
      "cell_type": "code",
      "source": [
        "# # OPTION 3\n",
        "# df['needs_repair'] = df['status_group'].apply(lambda x: 0 if x=='functional' else 1)\n",
        "# # x is a bound variable. lambda function generally one line expression"
      ],
      "metadata": {
        "id": "zRW2JXQkrX0k"
      },
      "execution_count": null,
      "outputs": []
    },
    {
      "cell_type": "code",
      "source": [
        "df['needs_repair'].unique()"
      ],
      "metadata": {
        "colab": {
          "base_uri": "https://localhost:8080/"
        },
        "id": "wD0vQE2pZsgT",
        "outputId": "d6fc5932-33e3-44e1-c00c-7cd60316aaac"
      },
      "execution_count": null,
      "outputs": [
        {
          "output_type": "execute_result",
          "data": {
            "text/plain": [
              "array([0, 1])"
            ]
          },
          "metadata": {},
          "execution_count": 8
        }
      ]
    },
    {
      "cell_type": "markdown",
      "metadata": {
        "id": "dd3R4DDqg-Zc"
      },
      "source": [
        "# II. Split Data"
      ]
    },
    {
      "cell_type": "code",
      "metadata": {
        "id": "KJptRukxgzjH"
      },
      "source": [
        "# Split TV / FM\n",
        "target = 'needs_repair'\n",
        "X = df.drop(columns=target)\n",
        "y = df[target]\n",
        "\n",
        "# Train-val split\n",
        "X_train, X_val, y_train, y_val = train_test_split(X, y, test_size=0.2, random_state=42)\n",
        "\n",
        "# Sanity check\n",
        "assert len(X_train) + len(X_val) == len(X)"
      ],
      "execution_count": null,
      "outputs": []
    },
    {
      "cell_type": "markdown",
      "metadata": {
        "id": "u2-vAPn3hHUc"
      },
      "source": [
        "# Baseline"
      ]
    },
    {
      "cell_type": "markdown",
      "source": [
        "Because this is a yes/no classification, a simple baseline accuracy would be the maximum proportion of the majority class which is 54% in our case. But this way of measuring accuracy can be a false representation if our dataset is imbalanced. But in our case it's somewhat balanced so it's OK. A better way to measure is by using the confusion matrix."
      ],
      "metadata": {
        "id": "A_TRRXN9nF-3"
      }
    },
    {
      "cell_type": "code",
      "metadata": {
        "id": "WKceqLphhGoJ",
        "colab": {
          "base_uri": "https://localhost:8080/"
        },
        "outputId": "e1055294-7ef1-4f56-ae4b-1094d090c9d1"
      },
      "source": [
        "print('Baseline Accuracy:', y_train.value_counts(normalize=True).max())"
      ],
      "execution_count": null,
      "outputs": [
        {
          "output_type": "stream",
          "name": "stdout",
          "text": [
            "Baseline Accuracy: 0.5425489938182296\n"
          ]
        }
      ]
    },
    {
      "cell_type": "code",
      "source": [
        "# total 10000 emails\n",
        "# class 0 - 9900 - not spam\n",
        "# class 1 - 100 - spam\n",
        "\n",
        "# If my filter classifies everything as non-spam, I'll still get 9900/10000 as accuracy score, which is 99%,\n",
        "# but that's a false representation of how my model is actually performing.\n"
      ],
      "metadata": {
        "id": "E8FMZmQwie2n"
      },
      "execution_count": null,
      "outputs": []
    },
    {
      "cell_type": "markdown",
      "metadata": {
        "id": "fK1_Gn61hJYd"
      },
      "source": [
        "# Build Model\n"
      ]
    },
    {
      "cell_type": "code",
      "source": [
        "model = make_pipeline(\n",
        "    OrdinalEncoder(),\n",
        "    SimpleImputer(), # handle missing data\n",
        "    RandomForestClassifier(n_estimators=25, n_jobs=-1, random_state=42)\n",
        ")\n",
        "\n",
        "model.fit(X_train, y_train)"
      ],
      "metadata": {
        "id": "EsnnXNnurCo9",
        "colab": {
          "base_uri": "https://localhost:8080/",
          "height": 159
        },
        "outputId": "6e41841c-17f0-47e2-a288-d849bf3ca92a"
      },
      "execution_count": null,
      "outputs": [
        {
          "output_type": "execute_result",
          "data": {
            "text/plain": [
              "Pipeline(steps=[('ordinalencoder',\n",
              "                 OrdinalEncoder(cols=['basin', 'region', 'public_meeting',\n",
              "                                      'scheme_management', 'permit',\n",
              "                                      'extraction_type',\n",
              "                                      'extraction_type_group',\n",
              "                                      'extraction_type_class', 'management',\n",
              "                                      'management_group', 'payment',\n",
              "                                      'payment_type', 'water_quality',\n",
              "                                      'quality_group', 'quantity', 'source',\n",
              "                                      'source_type', 'source_class',\n",
              "                                      'waterpoint_type',\n",
              "                                      'waterpoin...\n",
              "communal standpipe multiple    3\n",
              "improved spring                4\n",
              "other                          5\n",
              "cattle trough                  6\n",
              "dam                            7\n",
              "NaN                           -2\n",
              "dtype: int64},\n",
              "                                         {'col': 'waterpoint_type_group',\n",
              "                                          'data_type': dtype('O'),\n",
              "                                          'mapping': hand pump             1\n",
              "communal standpipe    2\n",
              "improved spring       3\n",
              "other                 4\n",
              "cattle trough         5\n",
              "dam                   6\n",
              "NaN                  -2\n",
              "dtype: int64}])),\n",
              "                ('simpleimputer', SimpleImputer()),\n",
              "                ('randomforestclassifier',\n",
              "                 RandomForestClassifier(n_estimators=25, n_jobs=-1,\n",
              "                                        random_state=42))])"
            ],
            "text/html": [
              "<style>#sk-container-id-1 {color: black;background-color: white;}#sk-container-id-1 pre{padding: 0;}#sk-container-id-1 div.sk-toggleable {background-color: white;}#sk-container-id-1 label.sk-toggleable__label {cursor: pointer;display: block;width: 100%;margin-bottom: 0;padding: 0.3em;box-sizing: border-box;text-align: center;}#sk-container-id-1 label.sk-toggleable__label-arrow:before {content: \"▸\";float: left;margin-right: 0.25em;color: #696969;}#sk-container-id-1 label.sk-toggleable__label-arrow:hover:before {color: black;}#sk-container-id-1 div.sk-estimator:hover label.sk-toggleable__label-arrow:before {color: black;}#sk-container-id-1 div.sk-toggleable__content {max-height: 0;max-width: 0;overflow: hidden;text-align: left;background-color: #f0f8ff;}#sk-container-id-1 div.sk-toggleable__content pre {margin: 0.2em;color: black;border-radius: 0.25em;background-color: #f0f8ff;}#sk-container-id-1 input.sk-toggleable__control:checked~div.sk-toggleable__content {max-height: 200px;max-width: 100%;overflow: auto;}#sk-container-id-1 input.sk-toggleable__control:checked~label.sk-toggleable__label-arrow:before {content: \"▾\";}#sk-container-id-1 div.sk-estimator input.sk-toggleable__control:checked~label.sk-toggleable__label {background-color: #d4ebff;}#sk-container-id-1 div.sk-label input.sk-toggleable__control:checked~label.sk-toggleable__label {background-color: #d4ebff;}#sk-container-id-1 input.sk-hidden--visually {border: 0;clip: rect(1px 1px 1px 1px);clip: rect(1px, 1px, 1px, 1px);height: 1px;margin: -1px;overflow: hidden;padding: 0;position: absolute;width: 1px;}#sk-container-id-1 div.sk-estimator {font-family: monospace;background-color: #f0f8ff;border: 1px dotted black;border-radius: 0.25em;box-sizing: border-box;margin-bottom: 0.5em;}#sk-container-id-1 div.sk-estimator:hover {background-color: #d4ebff;}#sk-container-id-1 div.sk-parallel-item::after {content: \"\";width: 100%;border-bottom: 1px solid gray;flex-grow: 1;}#sk-container-id-1 div.sk-label:hover label.sk-toggleable__label {background-color: #d4ebff;}#sk-container-id-1 div.sk-serial::before {content: \"\";position: absolute;border-left: 1px solid gray;box-sizing: border-box;top: 0;bottom: 0;left: 50%;z-index: 0;}#sk-container-id-1 div.sk-serial {display: flex;flex-direction: column;align-items: center;background-color: white;padding-right: 0.2em;padding-left: 0.2em;position: relative;}#sk-container-id-1 div.sk-item {position: relative;z-index: 1;}#sk-container-id-1 div.sk-parallel {display: flex;align-items: stretch;justify-content: center;background-color: white;position: relative;}#sk-container-id-1 div.sk-item::before, #sk-container-id-1 div.sk-parallel-item::before {content: \"\";position: absolute;border-left: 1px solid gray;box-sizing: border-box;top: 0;bottom: 0;left: 50%;z-index: -1;}#sk-container-id-1 div.sk-parallel-item {display: flex;flex-direction: column;z-index: 1;position: relative;background-color: white;}#sk-container-id-1 div.sk-parallel-item:first-child::after {align-self: flex-end;width: 50%;}#sk-container-id-1 div.sk-parallel-item:last-child::after {align-self: flex-start;width: 50%;}#sk-container-id-1 div.sk-parallel-item:only-child::after {width: 0;}#sk-container-id-1 div.sk-dashed-wrapped {border: 1px dashed gray;margin: 0 0.4em 0.5em 0.4em;box-sizing: border-box;padding-bottom: 0.4em;background-color: white;}#sk-container-id-1 div.sk-label label {font-family: monospace;font-weight: bold;display: inline-block;line-height: 1.2em;}#sk-container-id-1 div.sk-label-container {text-align: center;}#sk-container-id-1 div.sk-container {/* jupyter's `normalize.less` sets `[hidden] { display: none; }` but bootstrap.min.css set `[hidden] { display: none !important; }` so we also need the `!important` here to be able to override the default hidden behavior on the sphinx rendered scikit-learn.org. See: https://github.com/scikit-learn/scikit-learn/issues/21755 */display: inline-block !important;position: relative;}#sk-container-id-1 div.sk-text-repr-fallback {display: none;}</style><div id=\"sk-container-id-1\" class=\"sk-top-container\"><div class=\"sk-text-repr-fallback\"><pre>Pipeline(steps=[(&#x27;ordinalencoder&#x27;,\n",
              "                 OrdinalEncoder(cols=[&#x27;basin&#x27;, &#x27;region&#x27;, &#x27;public_meeting&#x27;,\n",
              "                                      &#x27;scheme_management&#x27;, &#x27;permit&#x27;,\n",
              "                                      &#x27;extraction_type&#x27;,\n",
              "                                      &#x27;extraction_type_group&#x27;,\n",
              "                                      &#x27;extraction_type_class&#x27;, &#x27;management&#x27;,\n",
              "                                      &#x27;management_group&#x27;, &#x27;payment&#x27;,\n",
              "                                      &#x27;payment_type&#x27;, &#x27;water_quality&#x27;,\n",
              "                                      &#x27;quality_group&#x27;, &#x27;quantity&#x27;, &#x27;source&#x27;,\n",
              "                                      &#x27;source_type&#x27;, &#x27;source_class&#x27;,\n",
              "                                      &#x27;waterpoint_type&#x27;,\n",
              "                                      &#x27;waterpoin...\n",
              "communal standpipe multiple    3\n",
              "improved spring                4\n",
              "other                          5\n",
              "cattle trough                  6\n",
              "dam                            7\n",
              "NaN                           -2\n",
              "dtype: int64},\n",
              "                                         {&#x27;col&#x27;: &#x27;waterpoint_type_group&#x27;,\n",
              "                                          &#x27;data_type&#x27;: dtype(&#x27;O&#x27;),\n",
              "                                          &#x27;mapping&#x27;: hand pump             1\n",
              "communal standpipe    2\n",
              "improved spring       3\n",
              "other                 4\n",
              "cattle trough         5\n",
              "dam                   6\n",
              "NaN                  -2\n",
              "dtype: int64}])),\n",
              "                (&#x27;simpleimputer&#x27;, SimpleImputer()),\n",
              "                (&#x27;randomforestclassifier&#x27;,\n",
              "                 RandomForestClassifier(n_estimators=25, n_jobs=-1,\n",
              "                                        random_state=42))])</pre><b>In a Jupyter environment, please rerun this cell to show the HTML representation or trust the notebook. <br />On GitHub, the HTML representation is unable to render, please try loading this page with nbviewer.org.</b></div><div class=\"sk-container\" hidden><div class=\"sk-item sk-dashed-wrapped\"><div class=\"sk-label-container\"><div class=\"sk-label sk-toggleable\"><input class=\"sk-toggleable__control sk-hidden--visually\" id=\"sk-estimator-id-1\" type=\"checkbox\" ><label for=\"sk-estimator-id-1\" class=\"sk-toggleable__label sk-toggleable__label-arrow\">Pipeline</label><div class=\"sk-toggleable__content\"><pre>Pipeline(steps=[(&#x27;ordinalencoder&#x27;,\n",
              "                 OrdinalEncoder(cols=[&#x27;basin&#x27;, &#x27;region&#x27;, &#x27;public_meeting&#x27;,\n",
              "                                      &#x27;scheme_management&#x27;, &#x27;permit&#x27;,\n",
              "                                      &#x27;extraction_type&#x27;,\n",
              "                                      &#x27;extraction_type_group&#x27;,\n",
              "                                      &#x27;extraction_type_class&#x27;, &#x27;management&#x27;,\n",
              "                                      &#x27;management_group&#x27;, &#x27;payment&#x27;,\n",
              "                                      &#x27;payment_type&#x27;, &#x27;water_quality&#x27;,\n",
              "                                      &#x27;quality_group&#x27;, &#x27;quantity&#x27;, &#x27;source&#x27;,\n",
              "                                      &#x27;source_type&#x27;, &#x27;source_class&#x27;,\n",
              "                                      &#x27;waterpoint_type&#x27;,\n",
              "                                      &#x27;waterpoin...\n",
              "communal standpipe multiple    3\n",
              "improved spring                4\n",
              "other                          5\n",
              "cattle trough                  6\n",
              "dam                            7\n",
              "NaN                           -2\n",
              "dtype: int64},\n",
              "                                         {&#x27;col&#x27;: &#x27;waterpoint_type_group&#x27;,\n",
              "                                          &#x27;data_type&#x27;: dtype(&#x27;O&#x27;),\n",
              "                                          &#x27;mapping&#x27;: hand pump             1\n",
              "communal standpipe    2\n",
              "improved spring       3\n",
              "other                 4\n",
              "cattle trough         5\n",
              "dam                   6\n",
              "NaN                  -2\n",
              "dtype: int64}])),\n",
              "                (&#x27;simpleimputer&#x27;, SimpleImputer()),\n",
              "                (&#x27;randomforestclassifier&#x27;,\n",
              "                 RandomForestClassifier(n_estimators=25, n_jobs=-1,\n",
              "                                        random_state=42))])</pre></div></div></div><div class=\"sk-serial\"><div class=\"sk-item\"><div class=\"sk-estimator sk-toggleable\"><input class=\"sk-toggleable__control sk-hidden--visually\" id=\"sk-estimator-id-2\" type=\"checkbox\" ><label for=\"sk-estimator-id-2\" class=\"sk-toggleable__label sk-toggleable__label-arrow\">OrdinalEncoder</label><div class=\"sk-toggleable__content\"><pre>OrdinalEncoder(cols=[&#x27;basin&#x27;, &#x27;region&#x27;, &#x27;public_meeting&#x27;, &#x27;scheme_management&#x27;,\n",
              "                     &#x27;permit&#x27;, &#x27;extraction_type&#x27;, &#x27;extraction_type_group&#x27;,\n",
              "                     &#x27;extraction_type_class&#x27;, &#x27;management&#x27;, &#x27;management_group&#x27;,\n",
              "                     &#x27;payment&#x27;, &#x27;payment_type&#x27;, &#x27;water_quality&#x27;,\n",
              "                     &#x27;quality_group&#x27;, &#x27;quantity&#x27;, &#x27;source&#x27;, &#x27;source_type&#x27;,\n",
              "                     &#x27;source_class&#x27;, &#x27;waterpoint_type&#x27;,\n",
              "                     &#x27;waterpoint_type_group&#x27;],\n",
              "               mapping=[{&#x27;col&#x27;: &#x27;ba...\n",
              "                         &#x27;mapping&#x27;: groundwater    1\n",
              "surface        2\n",
              "unknown        3\n",
              "NaN           -2\n",
              "dtype: int64},\n",
              "                        {&#x27;col&#x27;: &#x27;waterpoint_type&#x27;, &#x27;data_type&#x27;: dtype(&#x27;O&#x27;),\n",
              "                         &#x27;mapping&#x27;: hand pump                      1\n",
              "communal standpipe             2\n",
              "communal standpipe multiple    3\n",
              "improved spring                4\n",
              "other                          5\n",
              "cattle trough                  6\n",
              "dam                            7\n",
              "NaN                           -2\n",
              "dtype: int64},\n",
              "                        {&#x27;col&#x27;: &#x27;waterpoint_type_group&#x27;,\n",
              "                         &#x27;data_type&#x27;: dtype(&#x27;O&#x27;),\n",
              "                         &#x27;mapping&#x27;: hand pump             1\n",
              "communal standpipe    2\n",
              "improved spring       3\n",
              "other                 4\n",
              "cattle trough         5\n",
              "dam                   6\n",
              "NaN                  -2\n",
              "dtype: int64}])</pre></div></div></div><div class=\"sk-item\"><div class=\"sk-estimator sk-toggleable\"><input class=\"sk-toggleable__control sk-hidden--visually\" id=\"sk-estimator-id-3\" type=\"checkbox\" ><label for=\"sk-estimator-id-3\" class=\"sk-toggleable__label sk-toggleable__label-arrow\">SimpleImputer</label><div class=\"sk-toggleable__content\"><pre>SimpleImputer()</pre></div></div></div><div class=\"sk-item\"><div class=\"sk-estimator sk-toggleable\"><input class=\"sk-toggleable__control sk-hidden--visually\" id=\"sk-estimator-id-4\" type=\"checkbox\" ><label for=\"sk-estimator-id-4\" class=\"sk-toggleable__label sk-toggleable__label-arrow\">RandomForestClassifier</label><div class=\"sk-toggleable__content\"><pre>RandomForestClassifier(n_estimators=25, n_jobs=-1, random_state=42)</pre></div></div></div></div></div></div></div>"
            ]
          },
          "metadata": {},
          "execution_count": 6
        }
      ]
    },
    {
      "cell_type": "markdown",
      "metadata": {
        "id": "8vM1rgtDzq2y"
      },
      "source": [
        "\n",
        "\n",
        "Left out `'status_group'` in my feature matrix to avoid data leakage."
      ]
    },
    {
      "cell_type": "markdown",
      "metadata": {
        "id": "DMwEt1k474xc"
      },
      "source": [
        "# Check Metrics"
      ]
    },
    {
      "cell_type": "markdown",
      "metadata": {
        "id": "judyBmufjFMO"
      },
      "source": [
        "**Accuracy Score**"
      ]
    },
    {
      "cell_type": "markdown",
      "source": [
        "Using sklearn's .score method, accuracy = number of correct predictions / total number of predictions."
      ],
      "metadata": {
        "id": "s8XTkieKuEFO"
      }
    },
    {
      "cell_type": "code",
      "metadata": {
        "id": "dYfiyggjjHJc",
        "colab": {
          "base_uri": "https://localhost:8080/"
        },
        "outputId": "82c272e7-7356-4927-a907-fda7479f1202"
      },
      "source": [
        "print('Training Accuracy:', model.score(X_train, y_train))\n",
        "print('Validation Accuracy:', model.score(X_val, y_val))"
      ],
      "execution_count": null,
      "outputs": [
        {
          "output_type": "stream",
          "name": "stdout",
          "text": [
            "Training Accuracy: 0.993660397211627\n",
            "Validation Accuracy: 0.8055555555555556\n"
          ]
        }
      ]
    },
    {
      "cell_type": "markdown",
      "metadata": {
        "id": "AYl61hLojcoI"
      },
      "source": [
        "**Confusion Matrix Notes**"
      ]
    },
    {
      "cell_type": "markdown",
      "source": [
        "- useful to identify patterns of misclassification\n",
        "- Predicted labels - precision - positive calls - P has a C in it, Columns\n",
        "- Truth - Recall - Rows"
      ],
      "metadata": {
        "id": "aBd5kA49j8jP"
      }
    },
    {
      "cell_type": "markdown",
      "source": [
        "- Type I error (alpha) - False Positive - when I reject the null hypothesis as false (positive change) when it's actually true, e.g. concluding a new drug is effective when it has no actual effect.\n",
        "- safer to have more false positives than negatives if we're predicting whether a patient has a disease or not.\n",
        "- Type II error (beta) - False Negative - when I fail to reject the null hypothesis as true (no significant change) when it's actually false, e.g. failing to recognize the new drug is effective when it does work\n",
        "- need to focus on reducing false negatives than positives if we're predicting whether an airline is overbooking because overbooking is more costly than empty seats on the plane"
      ],
      "metadata": {
        "id": "2SE3Kwsst6QL"
      }
    },
    {
      "cell_type": "code",
      "metadata": {
        "id": "GIejjFdRB7nO",
        "colab": {
          "base_uri": "https://localhost:8080/",
          "height": 466
        },
        "outputId": "769bbff0-2a03-416d-934a-b3eb4fff9e8f"
      },
      "source": [
        "# plot_confusion_matrix is outdated, we will have to use this instead\n",
        "ConfusionMatrixDisplay.from_estimator(\n",
        "    model,\n",
        "    X_val,\n",
        "    y_val,\n",
        "    values_format='.0f',  # no scientific notation\n",
        "    display_labels=['no repairs needed', 'needs repair']) # displays classes in sorted order, 0 means no repairs needed and 1 means repair needed\n",
        "    # we are evaluating our model with validation data set, something the model hasn't seen before! And it also needs to have the true labels in it. so we can't use the\n",
        "    # training set and we can't use the test set without labels"
      ],
      "execution_count": null,
      "outputs": [
        {
          "output_type": "execute_result",
          "data": {
            "text/plain": [
              "<sklearn.metrics._plot.confusion_matrix.ConfusionMatrixDisplay at 0x7fde82d670d0>"
            ]
          },
          "metadata": {},
          "execution_count": 19
        },
        {
          "output_type": "display_data",
          "data": {
            "text/plain": [
              "<Figure size 640x480 with 2 Axes>"
            ],
            "image/png": "[encoded data removed]"
          },
          "metadata": {}
        }
      ]
    },
    {
      "cell_type": "markdown",
      "source": [
        "- True Positives (green), True Negatives (yellow), False Positives Type I Error (776), False Negatives Type II Error (1072)\n",
        "- Precision: how many predicted positives are actually positive\n",
        "- Recall: How many of the actual positives are correctly predicted"
      ],
      "metadata": {
        "id": "tVtSUjNjviJX"
      }
    },
    {
      "cell_type": "markdown",
      "source": [
        "Remember: function is 0 (negative), needs repair is 1 (positive)."
      ],
      "metadata": {
        "id": "Bzhn0tAqjeZi"
      }
    },
    {
      "cell_type": "markdown",
      "source": [
        "## Calculate accuracy, precision and recall by hand"
      ],
      "metadata": {
        "id": "3B1NWY-g0UQL"
      }
    },
    {
      "cell_type": "markdown",
      "source": [
        "**Accuracy Score**\n",
        "- (True Pos + True Neg) / Everything ="
      ],
      "metadata": {
        "id": "fEvImvgJfLHI"
      }
    },
    {
      "cell_type": "code",
      "source": [
        "# calculate score by hand\n",
        " (4401 + 3255) / (1072 + 3255 + 4401 + 776)\n",
        "# it matches our validation accuracy score from sklearn"
      ],
      "metadata": {
        "colab": {
          "base_uri": "https://localhost:8080/"
        },
        "id": "Tbj8TgM4j-8q",
        "outputId": "ed97dd7e-4d11-499d-d4de-1407f0f69f7e"
      },
      "execution_count": null,
      "outputs": [
        {
          "output_type": "execute_result",
          "data": {
            "text/plain": [
              "0.8055555555555556"
            ]
          },
          "metadata": {},
          "execution_count": 10
        }
      ]
    },
    {
      "cell_type": "markdown",
      "metadata": {
        "id": "p-1W_YipqZRU"
      },
      "source": [
        "**Precision Score**\n",
        "\n",
        "Of all the pumps that I predicted as needing repair (All predicted positives), this is the proportion actually needed repair (True positive):"
      ]
    },
    {
      "cell_type": "code",
      "source": [
        "# precision = tp / (tp + fp)"
      ],
      "metadata": {
        "id": "9n6KnkW8qwaK"
      },
      "execution_count": null,
      "outputs": []
    },
    {
      "cell_type": "code",
      "source": [
        "3255 / (3255+776)"
      ],
      "metadata": {
        "id": "vPy4pV0fqwXB",
        "colab": {
          "base_uri": "https://localhost:8080/"
        },
        "outputId": "07a40d8e-b35d-4996-ac77-8b07c17faf78"
      },
      "execution_count": null,
      "outputs": [
        {
          "output_type": "execute_result",
          "data": {
            "text/plain": [
              "0.8074919374844952"
            ]
          },
          "metadata": {},
          "execution_count": 11
        }
      ]
    },
    {
      "cell_type": "markdown",
      "metadata": {
        "id": "K7LCntg4r3Dx"
      },
      "source": [
        "**Recall Score**\n",
        "\n",
        "Of those pumps that actually needed repair (True Positive and False Negative), this is the proportion I correctly predicted as needing repair (True Positive)."
      ]
    },
    {
      "cell_type": "code",
      "source": [
        "# recall tp / (tp + fn)"
      ],
      "metadata": {
        "id": "V6U_VSUvqv9q"
      },
      "execution_count": null,
      "outputs": []
    },
    {
      "cell_type": "code",
      "source": [
        "3255 / (3255 + 1072)"
      ],
      "metadata": {
        "id": "BcWG-udxqvfy",
        "colab": {
          "base_uri": "https://localhost:8080/"
        },
        "outputId": "6cfc77f0-621c-4931-c851-1f31cf429dfd"
      },
      "execution_count": null,
      "outputs": [
        {
          "output_type": "execute_result",
          "data": {
            "text/plain": [
              "0.7522532932747862"
            ]
          },
          "metadata": {},
          "execution_count": 12
        }
      ]
    },
    {
      "cell_type": "markdown",
      "metadata": {
        "id": "dlUIxr6Qsyto"
      },
      "source": [
        "## Printed classication report"
      ]
    },
    {
      "cell_type": "code",
      "source": [
        "classification_report(y_val,\n",
        "                      model.predict(X_val),\n",
        "                      target_names=['no repairs needed', 'repairs needed'])\n",
        "\n"
      ],
      "metadata": {
        "id": "6xWoHiYzqtfe",
        "colab": {
          "base_uri": "https://localhost:8080/",
          "height": 70
        },
        "outputId": "b131d91f-16ff-4441-e6b5-d3ff45b89602"
      },
      "execution_count": null,
      "outputs": [
        {
          "output_type": "execute_result",
          "data": {
            "text/plain": [
              "'                   precision    recall  f1-score   support\\n\\nno repairs needed       0.80      0.85      0.83      5177\\n   repairs needed       0.81      0.75      0.78      4327\\n\\n         accuracy                           0.81      9504\\n        macro avg       0.81      0.80      0.80      9504\\n     weighted avg       0.81      0.81      0.80      9504\\n'"
            ],
            "application/vnd.google.colaboratory.intrinsic+json": {
              "type": "string"
            }
          },
          "metadata": {},
          "execution_count": 14
        }
      ]
    },
    {
      "cell_type": "code",
      "source": [
        "# Use the print statement to have a more readable format\n",
        "print(classification_report(y_val,\n",
        "                      model.predict(X_val),\n",
        "                      target_names=['no repairs needed', 'repairs needed']))"
      ],
      "metadata": {
        "id": "ZFwk8TyzquYJ",
        "colab": {
          "base_uri": "https://localhost:8080/"
        },
        "outputId": "ed5b0906-0c5f-43d4-eb58-dd59b9c43826"
      },
      "execution_count": null,
      "outputs": [
        {
          "output_type": "stream",
          "name": "stdout",
          "text": [
            "                   precision    recall  f1-score   support\n",
            "\n",
            "no repairs needed       0.80      0.85      0.83      5177\n",
            "   repairs needed       0.81      0.75      0.78      4327\n",
            "\n",
            "         accuracy                           0.81      9504\n",
            "        macro avg       0.81      0.80      0.80      9504\n",
            "     weighted avg       0.81      0.81      0.80      9504\n",
            "\n"
          ]
        }
      ]
    },
    {
      "cell_type": "markdown",
      "source": [
        "**F-score**\n",
        "- F1-score is a harmonic mean of precision and recall\n",
        "- F1-score = 2 * (precision * recall) / (precision + recall)\n",
        "- in cases where both precision and recall are important, we wanna maximize our F1-score"
      ],
      "metadata": {
        "id": "ai4udqmusuXt"
      }
    },
    {
      "cell_type": "markdown",
      "source": [
        "**The balance between precision and recall**\n",
        "- Some cases higher recall is better than low precision e.g. medical diagnosis. We care about how our true positive calls compare to the truth, not how they compare to all our positive calls. We need to reduce number of False Negatives.\n",
        "\n",
        "- For YouTube recommendations, the precision matters more.\n",
        "- water pump example: High recall gives priority to people who need access of water (reduce FN, water pumps that actually need repair but missed). High precision gives priority to reducing unnecessary costs (reduce FP, water pumps that actually don't need repair but we go and repair them anyway).\n",
        "- At the end, it's the balance of profits and doing good."
      ],
      "metadata": {
        "id": "P9anGgxlpc7V"
      }
    },
    {
      "cell_type": "markdown",
      "metadata": {
        "id": "gY651G8UTz14"
      },
      "source": [
        "# Case Study to show the importance of using a model for predictions\n",
        "\n",
        "If it costs the Tanzanian government $100 to inspect a water pump, and there is only funding for 2000 pump inspections."
      ]
    },
    {
      "cell_type": "code",
      "source": [
        "n_inspections = 2000"
      ],
      "metadata": {
        "id": "C-Zd7BTYqq6n"
      },
      "execution_count": null,
      "outputs": []
    },
    {
      "cell_type": "markdown",
      "metadata": {
        "id": "NCEOYhXLT6jU"
      },
      "source": [
        "Scenario 1: Choose pumps randomly. No model is used, strictly based on the ratio of functional vs non-functional pumps, like our baseline."
      ]
    },
    {
      "cell_type": "code",
      "source": [
        "y_val.value_counts(normalize=True)"
      ],
      "metadata": {
        "id": "QdSCwgzQqr8_",
        "colab": {
          "base_uri": "https://localhost:8080/"
        },
        "outputId": "5596b237-d3ca-4839-ce41-9abf2586684e"
      },
      "execution_count": null,
      "outputs": [
        {
          "output_type": "execute_result",
          "data": {
            "text/plain": [
              "0    0.544718\n",
              "1    0.455282\n",
              "Name: needs_repair, dtype: float64"
            ]
          },
          "metadata": {},
          "execution_count": 18
        }
      ]
    },
    {
      "cell_type": "code",
      "source": [
        "repair_prob = y_val.value_counts(normalize=True).min()\n",
        "repair_prob"
      ],
      "metadata": {
        "id": "lV8S_Yclqr2u",
        "colab": {
          "base_uri": "https://localhost:8080/"
        },
        "outputId": "c527576c-eb59-4846-a903-8f4e5ea6c7b8"
      },
      "execution_count": null,
      "outputs": [
        {
          "output_type": "execute_result",
          "data": {
            "text/plain": [
              "0.45528198653198654"
            ]
          },
          "metadata": {},
          "execution_count": 21
        }
      ]
    },
    {
      "cell_type": "code",
      "metadata": {
        "id": "bi3hLi8sbDcS",
        "colab": {
          "base_uri": "https://localhost:8080/"
        },
        "outputId": "b1fc0692-999c-42d2-f24d-3047c06dc93b"
      },
      "source": [
        "print('Inspections conducted:', n_inspections)\n",
        "print('Pumps repaired:', int(n_inspections * repair_prob))\n",
        "print('Funds wasted:', (int(n_inspections - n_inspections * repair_prob) * 100))\n",
        "       # inspected pumps - pumps repaired are the pump inspections wasted, each pump inspection costs $100\n",
        "       # we need int because pump is a whole number"
      ],
      "execution_count": null,
      "outputs": [
        {
          "output_type": "stream",
          "name": "stdout",
          "text": [
            "Inspections conducted: 2000\n",
            "Pumps repaired: 910\n",
            "Funds wasted: 108900\n"
          ]
        }
      ]
    },
    {
      "cell_type": "code",
      "source": [
        "# If we choose pumps randomly, we could only repair less than half of the pumps, and we're losing more than half of the budget! That's not acceptable."
      ],
      "metadata": {
        "id": "yP4XNhrSw4fg"
      },
      "execution_count": null,
      "outputs": []
    },
    {
      "cell_type": "markdown",
      "metadata": {
        "id": "T1JrG_BEUgCd"
      },
      "source": [
        "Scenario 2: Using our random forest model \"out of the box\""
      ]
    },
    {
      "cell_type": "code",
      "source": [
        "# create a dictionary and then convert it to a dataframe\n",
        "data = {\n",
        "    'y_val':y_val,\n",
        "    'y_pred': model.predict(X_val)\n",
        "}\n",
        "\n",
        "results =pd.DataFrame(data)"
      ],
      "metadata": {
        "id": "GDW3853cqlpe"
      },
      "execution_count": null,
      "outputs": []
    },
    {
      "cell_type": "code",
      "source": [
        "results.head()"
      ],
      "metadata": {
        "colab": {
          "base_uri": "https://localhost:8080/",
          "height": 237
        },
        "id": "LpZHmTD64OHc",
        "outputId": "d1ff73f1-c0af-48ab-a82b-9a1e30fea704"
      },
      "execution_count": null,
      "outputs": [
        {
          "output_type": "execute_result",
          "data": {
            "text/plain": [
              "         y_val  y_pred\n",
              "id                    \n",
              "8492.0       1       0\n",
              "16772.0      1       1\n",
              "19506.0      0       1\n",
              "40301.0      1       1\n",
              "61519.0      0       0"
            ],
            "text/html": [
              "\n",
              "  <div id=\"df-cc9338ff-74fb-472f-81f4-242d90c29631\" class=\"colab-df-container\">\n",
              "    <div>\n",
              "<style scoped>\n",
              "    .dataframe tbody tr th:only-of-type {\n",
              "        vertical-align: middle;\n",
              "    }\n",
              "\n",
              "    .dataframe tbody tr th {\n",
              "        vertical-align: top;\n",
              "    }\n",
              "\n",
              "    .dataframe thead th {\n",
              "        text-align: right;\n",
              "    }\n",
              "</style>\n",
              "<table border=\"1\" class=\"dataframe\">\n",
              "  <thead>\n",
              "    <tr style=\"text-align: right;\">\n",
              "      <th></th>\n",
              "      <th>y_val</th>\n",
              "      <th>y_pred</th>\n",
              "    </tr>\n",
              "    <tr>\n",
              "      <th>id</th>\n",
              "      <th></th>\n",
              "      <th></th>\n",
              "    </tr>\n",
              "  </thead>\n",
              "  <tbody>\n",
              "    <tr>\n",
              "      <th>8492.0</th>\n",
              "      <td>1</td>\n",
              "      <td>0</td>\n",
              "    </tr>\n",
              "    <tr>\n",
              "      <th>16772.0</th>\n",
              "      <td>1</td>\n",
              "      <td>1</td>\n",
              "    </tr>\n",
              "    <tr>\n",
              "      <th>19506.0</th>\n",
              "      <td>0</td>\n",
              "      <td>1</td>\n",
              "    </tr>\n",
              "    <tr>\n",
              "      <th>40301.0</th>\n",
              "      <td>1</td>\n",
              "      <td>1</td>\n",
              "    </tr>\n",
              "    <tr>\n",
              "      <th>61519.0</th>\n",
              "      <td>0</td>\n",
              "      <td>0</td>\n",
              "    </tr>\n",
              "  </tbody>\n",
              "</table>\n",
              "</div>\n",
              "    <div class=\"colab-df-buttons\">\n",
              "\n",
              "  <div class=\"colab-df-container\">\n",
              "    <button class=\"colab-df-convert\" onclick=\"convertToInteractive('df-cc9338ff-74fb-472f-81f4-242d90c29631')\"\n",
              "            title=\"Convert this dataframe to an interactive table.\"\n",
              "            style=\"display:none;\">\n",
              "\n",
              "  <svg xmlns=\"http://www.w3.org/2000/svg\" height=\"24px\" viewBox=\"0 -960 960 960\">\n",
              "    <path d=\"M120-120v-720h720v720H120Zm60-500h600v-160H180v160Zm220 220h160v-160H400v160Zm0 220h160v-160H400v160ZM180-400h160v-160H180v160Zm440 0h160v-160H620v160ZM180-180h160v-160H180v160Zm440 0h160v-160H620v160Z\"/>\n",
              "  </svg>\n",
              "    </button>\n",
              "\n",
              "  <style>\n",
              "    .colab-df-container {\n",
              "      display:flex;\n",
              "      gap: 12px;\n",
              "    }\n",
              "\n",
              "    .colab-df-convert {\n",
              "      background-color: #E8F0FE;\n",
              "      border: none;\n",
              "      border-radius: 50%;\n",
              "      cursor: pointer;\n",
              "      display: none;\n",
              "      fill: #1967D2;\n",
              "      height: 32px;\n",
              "      padding: 0 0 0 0;\n",
              "      width: 32px;\n",
              "    }\n",
              "\n",
              "    .colab-df-convert:hover {\n",
              "      background-color: #E2EBFA;\n",
              "      box-shadow: 0px 1px 2px rgba(60, 64, 67, 0.3), 0px 1px 3px 1px rgba(60, 64, 67, 0.15);\n",
              "      fill: #174EA6;\n",
              "    }\n",
              "\n",
              "    .colab-df-buttons div {\n",
              "      margin-bottom: 4px;\n",
              "    }\n",
              "\n",
              "    [theme=dark] .colab-df-convert {\n",
              "      background-color: #3B4455;\n",
              "      fill: #D2E3FC;\n",
              "    }\n",
              "\n",
              "    [theme=dark] .colab-df-convert:hover {\n",
              "      background-color: #434B5C;\n",
              "      box-shadow: 0px 1px 3px 1px rgba(0, 0, 0, 0.15);\n",
              "      filter: drop-shadow(0px 1px 2px rgba(0, 0, 0, 0.3));\n",
              "      fill: #FFFFFF;\n",
              "    }\n",
              "  </style>\n",
              "\n",
              "    <script>\n",
              "      const buttonEl =\n",
              "        document.querySelector('#df-cc9338ff-74fb-472f-81f4-242d90c29631 button.colab-df-convert');\n",
              "      buttonEl.style.display =\n",
              "        google.colab.kernel.accessAllowed ? 'block' : 'none';\n",
              "\n",
              "      async function convertToInteractive(key) {\n",
              "        const element = document.querySelector('#df-cc9338ff-74fb-472f-81f4-242d90c29631');\n",
              "        const dataTable =\n",
              "          await google.colab.kernel.invokeFunction('convertToInteractive',\n",
              "                                                    [key], {});\n",
              "        if (!dataTable) return;\n",
              "\n",
              "        const docLinkHtml = 'Like what you see? Visit the ' +\n",
              "          '<a target=\"_blank\" href=https://colab.research.google.com/notebooks/data_table.ipynb>data table notebook</a>'\n",
              "          + ' to learn more about interactive tables.';\n",
              "        element.innerHTML = '';\n",
              "        dataTable['output_type'] = 'display_data';\n",
              "        await google.colab.output.renderOutput(dataTable, element);\n",
              "        const docLink = document.createElement('div');\n",
              "        docLink.innerHTML = docLinkHtml;\n",
              "        element.appendChild(docLink);\n",
              "      }\n",
              "    </script>\n",
              "  </div>\n",
              "\n",
              "\n",
              "<div id=\"df-85c64f03-3711-41b5-abe9-17ed294504c5\">\n",
              "  <button class=\"colab-df-quickchart\" onclick=\"quickchart('df-85c64f03-3711-41b5-abe9-17ed294504c5')\"\n",
              "            title=\"Suggest charts\"\n",
              "            style=\"display:none;\">\n",
              "\n",
              "<svg xmlns=\"http://www.w3.org/2000/svg\" height=\"24px\"viewBox=\"0 0 24 24\"\n",
              "     width=\"24px\">\n",
              "    <g>\n",
              "        <path d=\"M19 3H5c-1.1 0-2 .9-2 2v14c0 1.1.9 2 2 2h14c1.1 0 2-.9 2-2V5c0-1.1-.9-2-2-2zM9 17H7v-7h2v7zm4 0h-2V7h2v10zm4 0h-2v-4h2v4z\"/>\n",
              "    </g>\n",
              "</svg>\n",
              "  </button>\n",
              "\n",
              "<style>\n",
              "  .colab-df-quickchart {\n",
              "      --bg-color: #E8F0FE;\n",
              "      --fill-color: #1967D2;\n",
              "      --hover-bg-color: #E2EBFA;\n",
              "      --hover-fill-color: #174EA6;\n",
              "      --disabled-fill-color: #AAA;\n",
              "      --disabled-bg-color: #DDD;\n",
              "  }\n",
              "\n",
              "  [theme=dark] .colab-df-quickchart {\n",
              "      --bg-color: #3B4455;\n",
              "      --fill-color: #D2E3FC;\n",
              "      --hover-bg-color: #434B5C;\n",
              "      --hover-fill-color: #FFFFFF;\n",
              "      --disabled-bg-color: #3B4455;\n",
              "      --disabled-fill-color: #666;\n",
              "  }\n",
              "\n",
              "  .colab-df-quickchart {\n",
              "    background-color: var(--bg-color);\n",
              "    border: none;\n",
              "    border-radius: 50%;\n",
              "    cursor: pointer;\n",
              "    display: none;\n",
              "    fill: var(--fill-color);\n",
              "    height: 32px;\n",
              "    padding: 0;\n",
              "    width: 32px;\n",
              "  }\n",
              "\n",
              "  .colab-df-quickchart:hover {\n",
              "    background-color: var(--hover-bg-color);\n",
              "    box-shadow: 0 1px 2px rgba(60, 64, 67, 0.3), 0 1px 3px 1px rgba(60, 64, 67, 0.15);\n",
              "    fill: var(--button-hover-fill-color);\n",
              "  }\n",
              "\n",
              "  .colab-df-quickchart-complete:disabled,\n",
              "  .colab-df-quickchart-complete:disabled:hover {\n",
              "    background-color: var(--disabled-bg-color);\n",
              "    fill: var(--disabled-fill-color);\n",
              "    box-shadow: none;\n",
              "  }\n",
              "\n",
              "  .colab-df-spinner {\n",
              "    border: 2px solid var(--fill-color);\n",
              "    border-color: transparent;\n",
              "    border-bottom-color: var(--fill-color);\n",
              "    animation:\n",
              "      spin 1s steps(1) infinite;\n",
              "  }\n",
              "\n",
              "  @keyframes spin {\n",
              "    0% {\n",
              "      border-color: transparent;\n",
              "      border-bottom-color: var(--fill-color);\n",
              "      border-left-color: var(--fill-color);\n",
              "    }\n",
              "    20% {\n",
              "      border-color: transparent;\n",
              "      border-left-color: var(--fill-color);\n",
              "      border-top-color: var(--fill-color);\n",
              "    }\n",
              "    30% {\n",
              "      border-color: transparent;\n",
              "      border-left-color: var(--fill-color);\n",
              "      border-top-color: var(--fill-color);\n",
              "      border-right-color: var(--fill-color);\n",
              "    }\n",
              "    40% {\n",
              "      border-color: transparent;\n",
              "      border-right-color: var(--fill-color);\n",
              "      border-top-color: var(--fill-color);\n",
              "    }\n",
              "    60% {\n",
              "      border-color: transparent;\n",
              "      border-right-color: var(--fill-color);\n",
              "    }\n",
              "    80% {\n",
              "      border-color: transparent;\n",
              "      border-right-color: var(--fill-color);\n",
              "      border-bottom-color: var(--fill-color);\n",
              "    }\n",
              "    90% {\n",
              "      border-color: transparent;\n",
              "      border-bottom-color: var(--fill-color);\n",
              "    }\n",
              "  }\n",
              "</style>\n",
              "\n",
              "  <script>\n",
              "    async function quickchart(key) {\n",
              "      const quickchartButtonEl =\n",
              "        document.querySelector('#' + key + ' button');\n",
              "      quickchartButtonEl.disabled = true;  // To prevent multiple clicks.\n",
              "      quickchartButtonEl.classList.add('colab-df-spinner');\n",
              "      try {\n",
              "        const charts = await google.colab.kernel.invokeFunction(\n",
              "            'suggestCharts', [key], {});\n",
              "      } catch (error) {\n",
              "        console.error('Error during call to suggestCharts:', error);\n",
              "      }\n",
              "      quickchartButtonEl.classList.remove('colab-df-spinner');\n",
              "      quickchartButtonEl.classList.add('colab-df-quickchart-complete');\n",
              "    }\n",
              "    (() => {\n",
              "      let quickchartButtonEl =\n",
              "        document.querySelector('#df-85c64f03-3711-41b5-abe9-17ed294504c5 button');\n",
              "      quickchartButtonEl.style.display =\n",
              "        google.colab.kernel.accessAllowed ? 'block' : 'none';\n",
              "    })();\n",
              "  </script>\n",
              "</div>\n",
              "    </div>\n",
              "  </div>\n"
            ]
          },
          "metadata": {},
          "execution_count": 31
        }
      ]
    },
    {
      "cell_type": "code",
      "source": [
        "# create a mask to filter out only those pumps which my model thinks repair is necessary\n",
        "mask = (results['y_pred']==1)\n",
        "sample = results[mask].sample(n_inspections) # out of all the ones I predicted needing repair, which is > 10K, but I only have budget for 2000 pumps, so I need to take a sample"
      ],
      "metadata": {
        "id": "o64ZB62PqmiX"
      },
      "execution_count": null,
      "outputs": []
    },
    {
      "cell_type": "code",
      "metadata": {
        "id": "QFoLTRxocMpw",
        "colab": {
          "base_uri": "https://localhost:8080/"
        },
        "outputId": "f3f2bf42-f6b4-4cf3-bb7b-b3798f568fe3"
      },
      "source": [
        "print('Inspections conducted:', n_inspections)\n",
        "print('Pumps repaired:', int(sample['y_val'].sum())) # sum of the actual values column in the sample dataframe where all the predictions say repair needed, see how many match\n",
        "print('Funds wasted:', int((n_inspections - sample['y_val'].sum()))*100)"
      ],
      "execution_count": null,
      "outputs": [
        {
          "output_type": "stream",
          "name": "stdout",
          "text": [
            "Inspections conducted: 2000\n",
            "Pumps repaired: 1607\n",
            "Funds wasted: 39300\n"
          ]
        }
      ]
    },
    {
      "cell_type": "code",
      "source": [
        "# HUGE IMPROVEMENT IN REDUCING WASTE from wasting $100K to only $39"
      ],
      "metadata": {
        "id": "W4mgFhl11SkG"
      },
      "execution_count": null,
      "outputs": []
    },
    {
      "cell_type": "markdown",
      "metadata": {
        "id": "Sj_80wEQb3N1"
      },
      "source": [
        "Scenario 3: This time I empasize **precision** in my model, and only select pumps that my model is very certain (`>0.85`) need repair.\n",
        "- raising the threshold to consider a pump needs repair from 0.5 to 0.85, so more pumps inspected & repaired are actual broken pumps.\n",
        "- lower threshold favors recall and places priority on people having access to water"
      ]
    },
    {
      "cell_type": "markdown",
      "source": [
        "- To increase the threshold, we need to increase the prediction probabilities, not the predictions themselves\n",
        "- but decision trees don't have classification thresholds, unlike logistic regression\n",
        "- The prediction probability, or the predict_proba method will give the proportion of trees in the ensemble\n",
        "- Ensemble = grouping or cluster of weak learners to create a strong learner\n",
        "\n",
        "\n"
      ],
      "metadata": {
        "id": "rjeqBV2d2zpY"
      }
    },
    {
      "cell_type": "code",
      "source": [
        "model.predict_proba(X_val)"
      ],
      "metadata": {
        "colab": {
          "base_uri": "https://localhost:8080/"
        },
        "id": "Ggo_CuMj4bJ7",
        "outputId": "be72e564-bfdc-4c9c-f902-a79fd823a39f"
      },
      "execution_count": null,
      "outputs": [
        {
          "output_type": "execute_result",
          "data": {
            "text/plain": [
              "array([[0.76, 0.24],\n",
              "       [0.  , 1.  ],\n",
              "       [0.04, 0.96],\n",
              "       ...,\n",
              "       [0.08, 0.92],\n",
              "       [0.44, 0.56],\n",
              "       [0.24, 0.76]])"
            ]
          },
          "metadata": {},
          "execution_count": 32
        }
      ]
    },
    {
      "cell_type": "code",
      "metadata": {
        "id": "yB4jG29FEmUz"
      },
      "source": [
        "data = {\n",
        "    'y_val':y_val,\n",
        "    'y_pred_proba':model.predict_proba(X_val)[:,-1], # grab the very last column only, probability values ONLY for the positive class where it's 1\n",
        "}\n",
        "\n",
        "results =pd.DataFrame(data)"
      ],
      "execution_count": null,
      "outputs": []
    },
    {
      "cell_type": "code",
      "source": [
        "threshold = 0.85"
      ],
      "metadata": {
        "id": "Im5juTHQqdgb"
      },
      "execution_count": null,
      "outputs": []
    },
    {
      "cell_type": "code",
      "metadata": {
        "id": "A3aN9TD6d0ly"
      },
      "source": [
        "mask = (results['y_pred_proba'] > threshold)\n",
        "sample = results[mask].sample(n_inspections) # same concept as scenario 2"
      ],
      "execution_count": null,
      "outputs": []
    },
    {
      "cell_type": "code",
      "metadata": {
        "id": "TC1G1ZmHeVgN",
        "colab": {
          "base_uri": "https://localhost:8080/"
        },
        "outputId": "8b983a75-9ad2-4ebb-c9db-0ad97af59a55"
      },
      "source": [
        "print('Inspections conducted:', n_inspections)\n",
        "print('Pumps repaired:', int(sample['y_val'].sum()))\n",
        "print('Funds wasted:', int(n_inspections - sample['y_val'].sum())*100)\n"
      ],
      "execution_count": null,
      "outputs": [
        {
          "output_type": "stream",
          "name": "stdout",
          "text": [
            "Inspections conducted: 2000\n",
            "Pumps repaired: 1896\n",
            "Funds wasted: 10400\n"
          ]
        }
      ]
    },
    {
      "cell_type": "code",
      "source": [
        "# wasted even less money because we're more aggressive with saving money and increasing precision\n",
        "# Further reduced waste from $39K to $10K, and more non-functional pumps are being repaired\n",
        "\n",
        "# Statistical modeling and ML rule!"
      ],
      "metadata": {
        "id": "Et1TN8Ri2YMR"
      },
      "execution_count": null,
      "outputs": []
    }
  ]
}