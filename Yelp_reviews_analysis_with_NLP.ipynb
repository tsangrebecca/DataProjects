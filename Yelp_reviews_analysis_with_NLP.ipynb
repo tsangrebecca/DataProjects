{
  "nbformat": 4,
  "nbformat_minor": 0,
  "metadata": {
    "colab": {
      "provenance": [],
      "authorship_tag": "ABX9TyMncnE/0Ig0bmHLGRWUSFP4",
      "include_colab_link": true
    },
    "kernelspec": {
      "name": "python3",
      "display_name": "Python 3"
    },
    "language_info": {
      "name": "python"
    }
  },
  "cells": [
    {
      "cell_type": "markdown",
      "metadata": {
        "id": "view-in-github",
        "colab_type": "text"
      },
      "source": [
        "<a href=\"https://colab.research.google.com/github/tsangrebecca/PersonalProjects/blob/main/Yelp_reviews_analysis_with_NLP.ipynb\" target=\"_parent\"><img src=\"https://colab.research.google.com/assets/colab-badge.svg\" alt=\"Open In Colab\"/></a>"
      ]
    },
    {
      "cell_type": "markdown",
      "source": [
        "## Analyzing Yelp reviews with NLP and SpaCy"
      ],
      "metadata": {
        "id": "JflUeyEhYRGZ"
      }
    },
    {
      "cell_type": "code",
      "execution_count": null,
      "metadata": {
        "deletable": false,
        "nbgrader": {
          "cell_type": "code",
          "checksum": "8d3d0719eecd5609256125d84cc4218a",
          "grade": false,
          "grade_id": "cell-b29df5c5bfb8c0d8",
          "locked": false,
          "schema_version": 3,
          "solution": true,
          "task": false
        },
        "id": "smnAkPlMDcPQ",
        "colab": {
          "base_uri": "https://localhost:8080/"
        },
        "outputId": "0f5b7b4a-393c-4aeb-af1e-d34863c10354"
      },
      "outputs": [
        {
          "output_type": "stream",
          "name": "stderr",
          "text": [
            "/usr/local/lib/python3.10/dist-packages/ipykernel/ipkernel.py:283: DeprecationWarning: `should_run_async` will not call `transform_cell` automatically in the future. Please pass the result to `transformed_cell` argument and any exception that happen during thetransform in `preprocessing_exc_tuple` in IPython 7.17 and above.\n",
            "  and should_run_async(code)\n"
          ]
        }
      ],
      "source": [
        "import spacy\n",
        "spacy.util.fix_random_seed(0)\n",
        "\n",
        "import pandas as pd\n",
        "import seaborn as sns\n",
        "import matplotlib.pyplot as plt\n",
        "\n",
        "from sklearn.neighbors import NearestNeighbors, KNeighborsClassifier\n",
        "from sklearn.pipeline import Pipeline\n",
        "from sklearn.feature_extraction.text import TfidfVectorizer\n",
        "from sklearn.model_selection import GridSearchCV\n",
        "\n",
        "import gensim\n",
        "import gensim.corpora as corpora\n",
        "from gensim.models.ldamodel import LdaModel\n",
        "\n",
        "import re\n"
      ]
    },
    {
      "cell_type": "code",
      "source": [
        "import warnings\n",
        "\n",
        "# Filter out deprecation warnings\n",
        "warnings.filterwarnings(\"ignore\", category=DeprecationWarning)"
      ],
      "metadata": {
        "id": "703iT3X7xf1k"
      },
      "execution_count": null,
      "outputs": []
    },
    {
      "cell_type": "code",
      "execution_count": null,
      "metadata": {
        "deletable": false,
        "nbgrader": {
          "cell_type": "code",
          "checksum": "150e28699f961709cb59be5e0f8ddbe0",
          "grade": false,
          "grade_id": "cell-395851cd95d17235",
          "locked": false,
          "schema_version": 3,
          "solution": true,
          "task": false
        },
        "id": "YwwF6SeBDcPS"
      },
      "outputs": [],
      "source": [
        "# Load reviews from URL\n",
        "data_url = 'https://raw.githubusercontent.com/bloominstituteoftechnology/data-science-practice-datasets/main/unit_4/unit1_nlp/review_sample.json'\n",
        "\n",
        "# Import the data into a DataFrame named df\n",
        "df = pd.read_json(data_url, lines=True)"
      ]
    },
    {
      "cell_type": "code",
      "source": [
        "df.head()"
      ],
      "metadata": {
        "colab": {
          "base_uri": "https://localhost:8080/",
          "height": 206
        },
        "id": "TzoXR0-0VoYs",
        "outputId": "067702fb-20f3-4d0b-8875-a86694328eba"
      },
      "execution_count": null,
      "outputs": [
        {
          "output_type": "execute_result",
          "data": {
            "text/plain": [
              "              business_id  cool                date  funny  \\\n",
              "0  nDuEqIyRc8YKS1q1fX0CZg     1 2015-03-31 16:50:30      0   \n",
              "1  eMYeEapscbKNqUDCx705hg     0 2015-12-16 05:31:03      0   \n",
              "2  6Q7-wkCPc1KF75jZLOTcMw     1 2010-06-20 19:14:48      1   \n",
              "3  k3zrItO4l9hwfLRwHBDc9w     3 2010-07-13 00:33:45      4   \n",
              "4  6hpfRwGlOzbNv7k5eP9rsQ     1 2018-06-30 02:30:01      0   \n",
              "\n",
              "                review_id  stars  \\\n",
              "0  eZs2tpEJtXPwawvHnHZIgQ      1   \n",
              "1  DoQDWJsNbU0KL1O29l_Xug      4   \n",
              "2  DDOdGU7zh56yQHmUnL1idQ      3   \n",
              "3  LfTMUWnfGFMOfOIyJcwLVA      1   \n",
              "4  zJSUdI7bJ8PNJAg4lnl_Gg      4   \n",
              "\n",
              "                                                text  useful  \\\n",
              "0  BEWARE!!! FAKE, FAKE, FAKE....We also own a sm...      10   \n",
              "1  Came here for lunch Togo. Service was quick. S...       0   \n",
              "2  I've been to Vegas dozens of times and had nev...       2   \n",
              "3  We went here on a night where they closed off ...       5   \n",
              "4  3.5 to 4 stars\\n\\nNot bad for the price, $12.9...       5   \n",
              "\n",
              "                  user_id  \n",
              "0  n1LM36qNg4rqGXIcvVXv8w  \n",
              "1  5CgjjDAic2-FAvCtiHpytA  \n",
              "2  BdV-cf3LScmb8kZ7iiBcMA  \n",
              "3  cZZnBqh4gAEy4CdNvJailQ  \n",
              "4  n9QO4ClYAS7h9fpQwa5bhA  "
            ],
            "text/html": [
              "\n",
              "  <div id=\"df-b0e8903f-0e14-40ab-accb-30f1bd4c663b\" class=\"colab-df-container\">\n",
              "    <div>\n",
              "<style scoped>\n",
              "    .dataframe tbody tr th:only-of-type {\n",
              "        vertical-align: middle;\n",
              "    }\n",
              "\n",
              "    .dataframe tbody tr th {\n",
              "        vertical-align: top;\n",
              "    }\n",
              "\n",
              "    .dataframe thead th {\n",
              "        text-align: right;\n",
              "    }\n",
              "</style>\n",
              "<table border=\"1\" class=\"dataframe\">\n",
              "  <thead>\n",
              "    <tr style=\"text-align: right;\">\n",
              "      <th></th>\n",
              "      <th>business_id</th>\n",
              "      <th>cool</th>\n",
              "      <th>date</th>\n",
              "      <th>funny</th>\n",
              "      <th>review_id</th>\n",
              "      <th>stars</th>\n",
              "      <th>text</th>\n",
              "      <th>useful</th>\n",
              "      <th>user_id</th>\n",
              "    </tr>\n",
              "  </thead>\n",
              "  <tbody>\n",
              "    <tr>\n",
              "      <th>0</th>\n",
              "      <td>nDuEqIyRc8YKS1q1fX0CZg</td>\n",
              "      <td>1</td>\n",
              "      <td>2015-03-31 16:50:30</td>\n",
              "      <td>0</td>\n",
              "      <td>eZs2tpEJtXPwawvHnHZIgQ</td>\n",
              "      <td>1</td>\n",
              "      <td>BEWARE!!! FAKE, FAKE, FAKE....We also own a sm...</td>\n",
              "      <td>10</td>\n",
              "      <td>n1LM36qNg4rqGXIcvVXv8w</td>\n",
              "    </tr>\n",
              "    <tr>\n",
              "      <th>1</th>\n",
              "      <td>eMYeEapscbKNqUDCx705hg</td>\n",
              "      <td>0</td>\n",
              "      <td>2015-12-16 05:31:03</td>\n",
              "      <td>0</td>\n",
              "      <td>DoQDWJsNbU0KL1O29l_Xug</td>\n",
              "      <td>4</td>\n",
              "      <td>Came here for lunch Togo. Service was quick. S...</td>\n",
              "      <td>0</td>\n",
              "      <td>5CgjjDAic2-FAvCtiHpytA</td>\n",
              "    </tr>\n",
              "    <tr>\n",
              "      <th>2</th>\n",
              "      <td>6Q7-wkCPc1KF75jZLOTcMw</td>\n",
              "      <td>1</td>\n",
              "      <td>2010-06-20 19:14:48</td>\n",
              "      <td>1</td>\n",
              "      <td>DDOdGU7zh56yQHmUnL1idQ</td>\n",
              "      <td>3</td>\n",
              "      <td>I've been to Vegas dozens of times and had nev...</td>\n",
              "      <td>2</td>\n",
              "      <td>BdV-cf3LScmb8kZ7iiBcMA</td>\n",
              "    </tr>\n",
              "    <tr>\n",
              "      <th>3</th>\n",
              "      <td>k3zrItO4l9hwfLRwHBDc9w</td>\n",
              "      <td>3</td>\n",
              "      <td>2010-07-13 00:33:45</td>\n",
              "      <td>4</td>\n",
              "      <td>LfTMUWnfGFMOfOIyJcwLVA</td>\n",
              "      <td>1</td>\n",
              "      <td>We went here on a night where they closed off ...</td>\n",
              "      <td>5</td>\n",
              "      <td>cZZnBqh4gAEy4CdNvJailQ</td>\n",
              "    </tr>\n",
              "    <tr>\n",
              "      <th>4</th>\n",
              "      <td>6hpfRwGlOzbNv7k5eP9rsQ</td>\n",
              "      <td>1</td>\n",
              "      <td>2018-06-30 02:30:01</td>\n",
              "      <td>0</td>\n",
              "      <td>zJSUdI7bJ8PNJAg4lnl_Gg</td>\n",
              "      <td>4</td>\n",
              "      <td>3.5 to 4 stars\\n\\nNot bad for the price, $12.9...</td>\n",
              "      <td>5</td>\n",
              "      <td>n9QO4ClYAS7h9fpQwa5bhA</td>\n",
              "    </tr>\n",
              "  </tbody>\n",
              "</table>\n",
              "</div>\n",
              "    <div class=\"colab-df-buttons\">\n",
              "\n",
              "  <div class=\"colab-df-container\">\n",
              "    <button class=\"colab-df-convert\" onclick=\"convertToInteractive('df-b0e8903f-0e14-40ab-accb-30f1bd4c663b')\"\n",
              "            title=\"Convert this dataframe to an interactive table.\"\n",
              "            style=\"display:none;\">\n",
              "\n",
              "  <svg xmlns=\"http://www.w3.org/2000/svg\" height=\"24px\" viewBox=\"0 -960 960 960\">\n",
              "    <path d=\"M120-120v-720h720v720H120Zm60-500h600v-160H180v160Zm220 220h160v-160H400v160Zm0 220h160v-160H400v160ZM180-400h160v-160H180v160Zm440 0h160v-160H620v160ZM180-180h160v-160H180v160Zm440 0h160v-160H620v160Z\"/>\n",
              "  </svg>\n",
              "    </button>\n",
              "\n",
              "  <style>\n",
              "    .colab-df-container {\n",
              "      display:flex;\n",
              "      gap: 12px;\n",
              "    }\n",
              "\n",
              "    .colab-df-convert {\n",
              "      background-color: #E8F0FE;\n",
              "      border: none;\n",
              "      border-radius: 50%;\n",
              "      cursor: pointer;\n",
              "      display: none;\n",
              "      fill: #1967D2;\n",
              "      height: 32px;\n",
              "      padding: 0 0 0 0;\n",
              "      width: 32px;\n",
              "    }\n",
              "\n",
              "    .colab-df-convert:hover {\n",
              "      background-color: #E2EBFA;\n",
              "      box-shadow: 0px 1px 2px rgba(60, 64, 67, 0.3), 0px 1px 3px 1px rgba(60, 64, 67, 0.15);\n",
              "      fill: #174EA6;\n",
              "    }\n",
              "\n",
              "    .colab-df-buttons div {\n",
              "      margin-bottom: 4px;\n",
              "    }\n",
              "\n",
              "    [theme=dark] .colab-df-convert {\n",
              "      background-color: #3B4455;\n",
              "      fill: #D2E3FC;\n",
              "    }\n",
              "\n",
              "    [theme=dark] .colab-df-convert:hover {\n",
              "      background-color: #434B5C;\n",
              "      box-shadow: 0px 1px 3px 1px rgba(0, 0, 0, 0.15);\n",
              "      filter: drop-shadow(0px 1px 2px rgba(0, 0, 0, 0.3));\n",
              "      fill: #FFFFFF;\n",
              "    }\n",
              "  </style>\n",
              "\n",
              "    <script>\n",
              "      const buttonEl =\n",
              "        document.querySelector('#df-b0e8903f-0e14-40ab-accb-30f1bd4c663b button.colab-df-convert');\n",
              "      buttonEl.style.display =\n",
              "        google.colab.kernel.accessAllowed ? 'block' : 'none';\n",
              "\n",
              "      async function convertToInteractive(key) {\n",
              "        const element = document.querySelector('#df-b0e8903f-0e14-40ab-accb-30f1bd4c663b');\n",
              "        const dataTable =\n",
              "          await google.colab.kernel.invokeFunction('convertToInteractive',\n",
              "                                                    [key], {});\n",
              "        if (!dataTable) return;\n",
              "\n",
              "        const docLinkHtml = 'Like what you see? Visit the ' +\n",
              "          '<a target=\"_blank\" href=https://colab.research.google.com/notebooks/data_table.ipynb>data table notebook</a>'\n",
              "          + ' to learn more about interactive tables.';\n",
              "        element.innerHTML = '';\n",
              "        dataTable['output_type'] = 'display_data';\n",
              "        await google.colab.output.renderOutput(dataTable, element);\n",
              "        const docLink = document.createElement('div');\n",
              "        docLink.innerHTML = docLinkHtml;\n",
              "        element.appendChild(docLink);\n",
              "      }\n",
              "    </script>\n",
              "  </div>\n",
              "\n",
              "\n",
              "<div id=\"df-84053cac-da79-4037-bbd0-680603161c74\">\n",
              "  <button class=\"colab-df-quickchart\" onclick=\"quickchart('df-84053cac-da79-4037-bbd0-680603161c74')\"\n",
              "            title=\"Suggest charts\"\n",
              "            style=\"display:none;\">\n",
              "\n",
              "<svg xmlns=\"http://www.w3.org/2000/svg\" height=\"24px\"viewBox=\"0 0 24 24\"\n",
              "     width=\"24px\">\n",
              "    <g>\n",
              "        <path d=\"M19 3H5c-1.1 0-2 .9-2 2v14c0 1.1.9 2 2 2h14c1.1 0 2-.9 2-2V5c0-1.1-.9-2-2-2zM9 17H7v-7h2v7zm4 0h-2V7h2v10zm4 0h-2v-4h2v4z\"/>\n",
              "    </g>\n",
              "</svg>\n",
              "  </button>\n",
              "\n",
              "<style>\n",
              "  .colab-df-quickchart {\n",
              "      --bg-color: #E8F0FE;\n",
              "      --fill-color: #1967D2;\n",
              "      --hover-bg-color: #E2EBFA;\n",
              "      --hover-fill-color: #174EA6;\n",
              "      --disabled-fill-color: #AAA;\n",
              "      --disabled-bg-color: #DDD;\n",
              "  }\n",
              "\n",
              "  [theme=dark] .colab-df-quickchart {\n",
              "      --bg-color: #3B4455;\n",
              "      --fill-color: #D2E3FC;\n",
              "      --hover-bg-color: #434B5C;\n",
              "      --hover-fill-color: #FFFFFF;\n",
              "      --disabled-bg-color: #3B4455;\n",
              "      --disabled-fill-color: #666;\n",
              "  }\n",
              "\n",
              "  .colab-df-quickchart {\n",
              "    background-color: var(--bg-color);\n",
              "    border: none;\n",
              "    border-radius: 50%;\n",
              "    cursor: pointer;\n",
              "    display: none;\n",
              "    fill: var(--fill-color);\n",
              "    height: 32px;\n",
              "    padding: 0;\n",
              "    width: 32px;\n",
              "  }\n",
              "\n",
              "  .colab-df-quickchart:hover {\n",
              "    background-color: var(--hover-bg-color);\n",
              "    box-shadow: 0 1px 2px rgba(60, 64, 67, 0.3), 0 1px 3px 1px rgba(60, 64, 67, 0.15);\n",
              "    fill: var(--button-hover-fill-color);\n",
              "  }\n",
              "\n",
              "  .colab-df-quickchart-complete:disabled,\n",
              "  .colab-df-quickchart-complete:disabled:hover {\n",
              "    background-color: var(--disabled-bg-color);\n",
              "    fill: var(--disabled-fill-color);\n",
              "    box-shadow: none;\n",
              "  }\n",
              "\n",
              "  .colab-df-spinner {\n",
              "    border: 2px solid var(--fill-color);\n",
              "    border-color: transparent;\n",
              "    border-bottom-color: var(--fill-color);\n",
              "    animation:\n",
              "      spin 1s steps(1) infinite;\n",
              "  }\n",
              "\n",
              "  @keyframes spin {\n",
              "    0% {\n",
              "      border-color: transparent;\n",
              "      border-bottom-color: var(--fill-color);\n",
              "      border-left-color: var(--fill-color);\n",
              "    }\n",
              "    20% {\n",
              "      border-color: transparent;\n",
              "      border-left-color: var(--fill-color);\n",
              "      border-top-color: var(--fill-color);\n",
              "    }\n",
              "    30% {\n",
              "      border-color: transparent;\n",
              "      border-left-color: var(--fill-color);\n",
              "      border-top-color: var(--fill-color);\n",
              "      border-right-color: var(--fill-color);\n",
              "    }\n",
              "    40% {\n",
              "      border-color: transparent;\n",
              "      border-right-color: var(--fill-color);\n",
              "      border-top-color: var(--fill-color);\n",
              "    }\n",
              "    60% {\n",
              "      border-color: transparent;\n",
              "      border-right-color: var(--fill-color);\n",
              "    }\n",
              "    80% {\n",
              "      border-color: transparent;\n",
              "      border-right-color: var(--fill-color);\n",
              "      border-bottom-color: var(--fill-color);\n",
              "    }\n",
              "    90% {\n",
              "      border-color: transparent;\n",
              "      border-bottom-color: var(--fill-color);\n",
              "    }\n",
              "  }\n",
              "</style>\n",
              "\n",
              "  <script>\n",
              "    async function quickchart(key) {\n",
              "      const quickchartButtonEl =\n",
              "        document.querySelector('#' + key + ' button');\n",
              "      quickchartButtonEl.disabled = true;  // To prevent multiple clicks.\n",
              "      quickchartButtonEl.classList.add('colab-df-spinner');\n",
              "      try {\n",
              "        const charts = await google.colab.kernel.invokeFunction(\n",
              "            'suggestCharts', [key], {});\n",
              "      } catch (error) {\n",
              "        console.error('Error during call to suggestCharts:', error);\n",
              "      }\n",
              "      quickchartButtonEl.classList.remove('colab-df-spinner');\n",
              "      quickchartButtonEl.classList.add('colab-df-quickchart-complete');\n",
              "    }\n",
              "    (() => {\n",
              "      let quickchartButtonEl =\n",
              "        document.querySelector('#df-84053cac-da79-4037-bbd0-680603161c74 button');\n",
              "      quickchartButtonEl.style.display =\n",
              "        google.colab.kernel.accessAllowed ? 'block' : 'none';\n",
              "    })();\n",
              "  </script>\n",
              "</div>\n",
              "\n",
              "    </div>\n",
              "  </div>\n"
            ],
            "application/vnd.google.colaboratory.intrinsic+json": {
              "type": "dataframe",
              "variable_name": "df",
              "summary": "{\n  \"name\": \"df\",\n  \"rows\": 10000,\n  \"fields\": [\n    {\n      \"column\": \"business_id\",\n      \"properties\": {\n        \"dtype\": \"string\",\n        \"num_unique_values\": 8297,\n        \"samples\": [\n          \"wIxYAU2jaT6Y9b_Inc5MXA\",\n          \"ILZfAtetYvpp0r0Xs8SoHQ\",\n          \"D6ffAaTr_m5lsKxHNp9fwg\"\n        ],\n        \"semantic_type\": \"\",\n        \"description\": \"\"\n      }\n    },\n    {\n      \"column\": \"cool\",\n      \"properties\": {\n        \"dtype\": \"number\",\n        \"std\": 2,\n        \"min\": 0,\n        \"max\": 61,\n        \"num_unique_values\": 35,\n        \"samples\": [\n          18,\n          7,\n          54\n        ],\n        \"semantic_type\": \"\",\n        \"description\": \"\"\n      }\n    },\n    {\n      \"column\": \"date\",\n      \"properties\": {\n        \"dtype\": \"date\",\n        \"min\": \"2005-07-31 03:15:21\",\n        \"max\": \"2018-11-14 17:22:35\",\n        \"num_unique_values\": 10000,\n        \"samples\": [\n          \"2015-07-15 02:41:12\",\n          \"2012-05-05 22:23:44\",\n          \"2010-10-01 22:04:55\"\n        ],\n        \"semantic_type\": \"\",\n        \"description\": \"\"\n      }\n    },\n    {\n      \"column\": \"funny\",\n      \"properties\": {\n        \"dtype\": \"number\",\n        \"std\": 1,\n        \"min\": 0,\n        \"max\": 79,\n        \"num_unique_values\": 32,\n        \"samples\": [\n          37,\n          15,\n          31\n        ],\n        \"semantic_type\": \"\",\n        \"description\": \"\"\n      }\n    },\n    {\n      \"column\": \"review_id\",\n      \"properties\": {\n        \"dtype\": \"string\",\n        \"num_unique_values\": 10000,\n        \"samples\": [\n          \"pcpmloUy9OSbQCxG-NIXKA\",\n          \"-Gb3R1WOoa_fPpsQ91rLCg\",\n          \"uBlyX9pkMmp9evijZtuQ6g\"\n        ],\n        \"semantic_type\": \"\",\n        \"description\": \"\"\n      }\n    },\n    {\n      \"column\": \"stars\",\n      \"properties\": {\n        \"dtype\": \"number\",\n        \"std\": 1,\n        \"min\": 1,\n        \"max\": 5,\n        \"num_unique_values\": 5,\n        \"samples\": [\n          4,\n          2,\n          3\n        ],\n        \"semantic_type\": \"\",\n        \"description\": \"\"\n      }\n    },\n    {\n      \"column\": \"text\",\n      \"properties\": {\n        \"dtype\": \"string\",\n        \"num_unique_values\": 10000,\n        \"samples\": [\n          \"We ordered 1/4 chicken leg and thigh take out, but it's totally burnt out. If you really want to eat here,  don't take out.\",\n          \"nice hike...keeps going up and up and up ...and up and up!\\n\\ntrails are easy to follow and nice views at the top.  cacti blossom with flowers too.\\n\\neveryone was so very nice! i sprained my ankle on my way down..and ooo i was sooo close to the bottom.  tried to be a champ and slowly limp down, but everyone who passed me offered to help.\\n\\na bit embarrassed but good memories with this mountain!\",\n          \"I have nothing against trainee teachers.. but really in order to really evaluated a studio fairly, one needs to go to a regular class lead by an experience teacher.\\n\\nPeter is quite different than the other moksha teacher I have been to since he emphasis a lot on breathing. He was walking around the room a lot and check if we are still breathing with our Ujjai \\\"Ocean\\\" breath.\\n\\nHe also go around to help with adjustment and if he is standing near you that means he is talking to you! or is he? Since most Moksha postures are quite simple so vocal instructions are given instead of real demonstrations. For newbies, you do need to peek at others.\\n\\nThe room was not too hot this time because it is not crowded... all the spaces... and you can really check yourself out in the mirror.. (Do I look Zen??)\\n\\nIt is a great Passport to Prana experience this time round!\"\n        ],\n        \"semantic_type\": \"\",\n        \"description\": \"\"\n      }\n    },\n    {\n      \"column\": \"useful\",\n      \"properties\": {\n        \"dtype\": \"number\",\n        \"std\": 3,\n        \"min\": 0,\n        \"max\": 62,\n        \"num_unique_values\": 46,\n        \"samples\": [\n          38,\n          32,\n          27\n        ],\n        \"semantic_type\": \"\",\n        \"description\": \"\"\n      }\n    },\n    {\n      \"column\": \"user_id\",\n      \"properties\": {\n        \"dtype\": \"string\",\n        \"num_unique_values\": 9667,\n        \"samples\": [\n          \"5b59DMCxPWn-c2b6q50P7w\",\n          \"ctDWPowbrCkgcK1gTLDDdw\",\n          \"2ti91j2F-kx2BmAo3eGbcg\"\n        ],\n        \"semantic_type\": \"\",\n        \"description\": \"\"\n      }\n    }\n  ]\n}"
            }
          },
          "metadata": {},
          "execution_count": 108
        }
      ]
    },
    {
      "cell_type": "code",
      "source": [
        "df.shape"
      ],
      "metadata": {
        "colab": {
          "base_uri": "https://localhost:8080/"
        },
        "id": "cBDIWsgVWJ0i",
        "outputId": "a5d016e7-3ec6-44ce-f4fc-850c1b62f3c1"
      },
      "execution_count": null,
      "outputs": [
        {
          "output_type": "execute_result",
          "data": {
            "text/plain": [
              "(10000, 9)"
            ]
          },
          "metadata": {},
          "execution_count": 84
        }
      ]
    },
    {
      "cell_type": "code",
      "source": [
        "df.shape"
      ],
      "metadata": {
        "colab": {
          "base_uri": "https://localhost:8080/"
        },
        "outputId": "a5d016e7-3ec6-44ce-f4fc-850c1b62f3c1",
        "id": "2Sw0EOyhYzGF"
      },
      "execution_count": null,
      "outputs": [
        {
          "output_type": "execute_result",
          "data": {
            "text/plain": [
              "(10000, 9)"
            ]
          },
          "metadata": {},
          "execution_count": 84
        }
      ]
    },
    {
      "cell_type": "markdown",
      "source": [
        "## Tokenize Function"
      ],
      "metadata": {
        "id": "i1O4EsCQY6ci"
      }
    },
    {
      "cell_type": "code",
      "execution_count": null,
      "metadata": {
        "id": "Q5nI6AsVDcPU"
      },
      "outputs": [],
      "source": [
        "# Use small to load faster\n",
        "nlp = spacy.load('en_core_web_sm')"
      ]
    },
    {
      "cell_type": "code",
      "execution_count": null,
      "metadata": {
        "deletable": false,
        "nbgrader": {
          "cell_type": "code",
          "checksum": "4837ed2a1cc13057ba40203859d46ff6",
          "grade": false,
          "grade_id": "cell-3d570d5a1cd6cb64",
          "locked": false,
          "schema_version": 3,
          "solution": true,
          "task": false
        },
        "id": "Kt7skHAnDcPV"
      },
      "outputs": [],
      "source": [
        "def tokenize(doc):\n",
        "\n",
        "  lemmas = []\n",
        "  for token in nlp(doc):\n",
        "    if (not token.is_stop) and (not token.is_punct) and (not token.is_space):\n",
        "      lemmas.append(token.lemma_.lower())\n",
        "  return lemmas"
      ]
    },
    {
      "cell_type": "markdown",
      "source": [
        "## Vector Representation"
      ],
      "metadata": {
        "id": "EmI1PxErZjlg"
      }
    },
    {
      "cell_type": "code",
      "execution_count": null,
      "metadata": {
        "deletable": false,
        "nbgrader": {
          "cell_type": "code",
          "checksum": "fefca7db0abb1474d316d6aa24e032f8",
          "grade": false,
          "grade_id": "cell-0e96491cb529202c",
          "locked": false,
          "schema_version": 3,
          "solution": true,
          "task": false
        },
        "id": "pp4mz4L5DcPX",
        "colab": {
          "base_uri": "https://localhost:8080/",
          "height": 287
        },
        "outputId": "5cd85faa-448e-4a3e-f95b-284c999037b2"
      },
      "outputs": [
        {
          "output_type": "stream",
          "name": "stdout",
          "text": [
            "(10000, 1000)\n",
            "CPU times: user 934 ms, sys: 85.3 ms, total: 1.02 s\n",
            "Wall time: 1.02 s\n"
          ]
        },
        {
          "output_type": "execute_result",
          "data": {
            "text/plain": [
              "    00   10  100   11        12        15        20        24        25   30  \\\n",
              "0  0.0  0.0  0.0  0.0  0.000000  0.000000  0.169834  0.000000  0.000000  0.0   \n",
              "1  0.0  0.0  0.0  0.0  0.000000  0.000000  0.000000  0.000000  0.000000  0.0   \n",
              "2  0.0  0.0  0.0  0.0  0.000000  0.000000  0.000000  0.153861  0.138843  0.0   \n",
              "3  0.0  0.0  0.0  0.0  0.000000  0.000000  0.000000  0.000000  0.000000  0.0   \n",
              "4  0.0  0.0  0.0  0.0  0.172619  0.154652  0.000000  0.000000  0.000000  0.0   \n",
              "\n",
              "   ...  wow  write  wrong      year  years  yelp  yes     young  yum  yummy  \n",
              "0  ...  0.0    0.0    0.0  0.000000    0.0   0.0  0.0  0.000000  0.0    0.0  \n",
              "1  ...  0.0    0.0    0.0  0.000000    0.0   0.0  0.0  0.000000  0.0    0.0  \n",
              "2  ...  0.0    0.0    0.0  0.118308    0.0   0.0  0.0  0.149121  0.0    0.0  \n",
              "3  ...  0.0    0.0    0.0  0.000000    0.0   0.0  0.0  0.000000  0.0    0.0  \n",
              "4  ...  0.0    0.0    0.0  0.000000    0.0   0.0  0.0  0.000000  0.0    0.0  \n",
              "\n",
              "[5 rows x 1000 columns]"
            ],
            "text/html": [
              "\n",
              "  <div id=\"df-5d1d1755-1d30-4f08-98fc-9bb37e7b2825\" class=\"colab-df-container\">\n",
              "    <div>\n",
              "<style scoped>\n",
              "    .dataframe tbody tr th:only-of-type {\n",
              "        vertical-align: middle;\n",
              "    }\n",
              "\n",
              "    .dataframe tbody tr th {\n",
              "        vertical-align: top;\n",
              "    }\n",
              "\n",
              "    .dataframe thead th {\n",
              "        text-align: right;\n",
              "    }\n",
              "</style>\n",
              "<table border=\"1\" class=\"dataframe\">\n",
              "  <thead>\n",
              "    <tr style=\"text-align: right;\">\n",
              "      <th></th>\n",
              "      <th>00</th>\n",
              "      <th>10</th>\n",
              "      <th>100</th>\n",
              "      <th>11</th>\n",
              "      <th>12</th>\n",
              "      <th>15</th>\n",
              "      <th>20</th>\n",
              "      <th>24</th>\n",
              "      <th>25</th>\n",
              "      <th>30</th>\n",
              "      <th>...</th>\n",
              "      <th>wow</th>\n",
              "      <th>write</th>\n",
              "      <th>wrong</th>\n",
              "      <th>year</th>\n",
              "      <th>years</th>\n",
              "      <th>yelp</th>\n",
              "      <th>yes</th>\n",
              "      <th>young</th>\n",
              "      <th>yum</th>\n",
              "      <th>yummy</th>\n",
              "    </tr>\n",
              "  </thead>\n",
              "  <tbody>\n",
              "    <tr>\n",
              "      <th>0</th>\n",
              "      <td>0.0</td>\n",
              "      <td>0.0</td>\n",
              "      <td>0.0</td>\n",
              "      <td>0.0</td>\n",
              "      <td>0.000000</td>\n",
              "      <td>0.000000</td>\n",
              "      <td>0.169834</td>\n",
              "      <td>0.000000</td>\n",
              "      <td>0.000000</td>\n",
              "      <td>0.0</td>\n",
              "      <td>...</td>\n",
              "      <td>0.0</td>\n",
              "      <td>0.0</td>\n",
              "      <td>0.0</td>\n",
              "      <td>0.000000</td>\n",
              "      <td>0.0</td>\n",
              "      <td>0.0</td>\n",
              "      <td>0.0</td>\n",
              "      <td>0.000000</td>\n",
              "      <td>0.0</td>\n",
              "      <td>0.0</td>\n",
              "    </tr>\n",
              "    <tr>\n",
              "      <th>1</th>\n",
              "      <td>0.0</td>\n",
              "      <td>0.0</td>\n",
              "      <td>0.0</td>\n",
              "      <td>0.0</td>\n",
              "      <td>0.000000</td>\n",
              "      <td>0.000000</td>\n",
              "      <td>0.000000</td>\n",
              "      <td>0.000000</td>\n",
              "      <td>0.000000</td>\n",
              "      <td>0.0</td>\n",
              "      <td>...</td>\n",
              "      <td>0.0</td>\n",
              "      <td>0.0</td>\n",
              "      <td>0.0</td>\n",
              "      <td>0.000000</td>\n",
              "      <td>0.0</td>\n",
              "      <td>0.0</td>\n",
              "      <td>0.0</td>\n",
              "      <td>0.000000</td>\n",
              "      <td>0.0</td>\n",
              "      <td>0.0</td>\n",
              "    </tr>\n",
              "    <tr>\n",
              "      <th>2</th>\n",
              "      <td>0.0</td>\n",
              "      <td>0.0</td>\n",
              "      <td>0.0</td>\n",
              "      <td>0.0</td>\n",
              "      <td>0.000000</td>\n",
              "      <td>0.000000</td>\n",
              "      <td>0.000000</td>\n",
              "      <td>0.153861</td>\n",
              "      <td>0.138843</td>\n",
              "      <td>0.0</td>\n",
              "      <td>...</td>\n",
              "      <td>0.0</td>\n",
              "      <td>0.0</td>\n",
              "      <td>0.0</td>\n",
              "      <td>0.118308</td>\n",
              "      <td>0.0</td>\n",
              "      <td>0.0</td>\n",
              "      <td>0.0</td>\n",
              "      <td>0.149121</td>\n",
              "      <td>0.0</td>\n",
              "      <td>0.0</td>\n",
              "    </tr>\n",
              "    <tr>\n",
              "      <th>3</th>\n",
              "      <td>0.0</td>\n",
              "      <td>0.0</td>\n",
              "      <td>0.0</td>\n",
              "      <td>0.0</td>\n",
              "      <td>0.000000</td>\n",
              "      <td>0.000000</td>\n",
              "      <td>0.000000</td>\n",
              "      <td>0.000000</td>\n",
              "      <td>0.000000</td>\n",
              "      <td>0.0</td>\n",
              "      <td>...</td>\n",
              "      <td>0.0</td>\n",
              "      <td>0.0</td>\n",
              "      <td>0.0</td>\n",
              "      <td>0.000000</td>\n",
              "      <td>0.0</td>\n",
              "      <td>0.0</td>\n",
              "      <td>0.0</td>\n",
              "      <td>0.000000</td>\n",
              "      <td>0.0</td>\n",
              "      <td>0.0</td>\n",
              "    </tr>\n",
              "    <tr>\n",
              "      <th>4</th>\n",
              "      <td>0.0</td>\n",
              "      <td>0.0</td>\n",
              "      <td>0.0</td>\n",
              "      <td>0.0</td>\n",
              "      <td>0.172619</td>\n",
              "      <td>0.154652</td>\n",
              "      <td>0.000000</td>\n",
              "      <td>0.000000</td>\n",
              "      <td>0.000000</td>\n",
              "      <td>0.0</td>\n",
              "      <td>...</td>\n",
              "      <td>0.0</td>\n",
              "      <td>0.0</td>\n",
              "      <td>0.0</td>\n",
              "      <td>0.000000</td>\n",
              "      <td>0.0</td>\n",
              "      <td>0.0</td>\n",
              "      <td>0.0</td>\n",
              "      <td>0.000000</td>\n",
              "      <td>0.0</td>\n",
              "      <td>0.0</td>\n",
              "    </tr>\n",
              "  </tbody>\n",
              "</table>\n",
              "<p>5 rows × 1000 columns</p>\n",
              "</div>\n",
              "    <div class=\"colab-df-buttons\">\n",
              "\n",
              "  <div class=\"colab-df-container\">\n",
              "    <button class=\"colab-df-convert\" onclick=\"convertToInteractive('df-5d1d1755-1d30-4f08-98fc-9bb37e7b2825')\"\n",
              "            title=\"Convert this dataframe to an interactive table.\"\n",
              "            style=\"display:none;\">\n",
              "\n",
              "  <svg xmlns=\"http://www.w3.org/2000/svg\" height=\"24px\" viewBox=\"0 -960 960 960\">\n",
              "    <path d=\"M120-120v-720h720v720H120Zm60-500h600v-160H180v160Zm220 220h160v-160H400v160Zm0 220h160v-160H400v160ZM180-400h160v-160H180v160Zm440 0h160v-160H620v160ZM180-180h160v-160H180v160Zm440 0h160v-160H620v160Z\"/>\n",
              "  </svg>\n",
              "    </button>\n",
              "\n",
              "  <style>\n",
              "    .colab-df-container {\n",
              "      display:flex;\n",
              "      gap: 12px;\n",
              "    }\n",
              "\n",
              "    .colab-df-convert {\n",
              "      background-color: #E8F0FE;\n",
              "      border: none;\n",
              "      border-radius: 50%;\n",
              "      cursor: pointer;\n",
              "      display: none;\n",
              "      fill: #1967D2;\n",
              "      height: 32px;\n",
              "      padding: 0 0 0 0;\n",
              "      width: 32px;\n",
              "    }\n",
              "\n",
              "    .colab-df-convert:hover {\n",
              "      background-color: #E2EBFA;\n",
              "      box-shadow: 0px 1px 2px rgba(60, 64, 67, 0.3), 0px 1px 3px 1px rgba(60, 64, 67, 0.15);\n",
              "      fill: #174EA6;\n",
              "    }\n",
              "\n",
              "    .colab-df-buttons div {\n",
              "      margin-bottom: 4px;\n",
              "    }\n",
              "\n",
              "    [theme=dark] .colab-df-convert {\n",
              "      background-color: #3B4455;\n",
              "      fill: #D2E3FC;\n",
              "    }\n",
              "\n",
              "    [theme=dark] .colab-df-convert:hover {\n",
              "      background-color: #434B5C;\n",
              "      box-shadow: 0px 1px 3px 1px rgba(0, 0, 0, 0.15);\n",
              "      filter: drop-shadow(0px 1px 2px rgba(0, 0, 0, 0.3));\n",
              "      fill: #FFFFFF;\n",
              "    }\n",
              "  </style>\n",
              "\n",
              "    <script>\n",
              "      const buttonEl =\n",
              "        document.querySelector('#df-5d1d1755-1d30-4f08-98fc-9bb37e7b2825 button.colab-df-convert');\n",
              "      buttonEl.style.display =\n",
              "        google.colab.kernel.accessAllowed ? 'block' : 'none';\n",
              "\n",
              "      async function convertToInteractive(key) {\n",
              "        const element = document.querySelector('#df-5d1d1755-1d30-4f08-98fc-9bb37e7b2825');\n",
              "        const dataTable =\n",
              "          await google.colab.kernel.invokeFunction('convertToInteractive',\n",
              "                                                    [key], {});\n",
              "        if (!dataTable) return;\n",
              "\n",
              "        const docLinkHtml = 'Like what you see? Visit the ' +\n",
              "          '<a target=\"_blank\" href=https://colab.research.google.com/notebooks/data_table.ipynb>data table notebook</a>'\n",
              "          + ' to learn more about interactive tables.';\n",
              "        element.innerHTML = '';\n",
              "        dataTable['output_type'] = 'display_data';\n",
              "        await google.colab.output.renderOutput(dataTable, element);\n",
              "        const docLink = document.createElement('div');\n",
              "        docLink.innerHTML = docLinkHtml;\n",
              "        element.appendChild(docLink);\n",
              "      }\n",
              "    </script>\n",
              "  </div>\n",
              "\n",
              "\n",
              "<div id=\"df-7973bacd-9287-4192-960e-d00d7dd93691\">\n",
              "  <button class=\"colab-df-quickchart\" onclick=\"quickchart('df-7973bacd-9287-4192-960e-d00d7dd93691')\"\n",
              "            title=\"Suggest charts\"\n",
              "            style=\"display:none;\">\n",
              "\n",
              "<svg xmlns=\"http://www.w3.org/2000/svg\" height=\"24px\"viewBox=\"0 0 24 24\"\n",
              "     width=\"24px\">\n",
              "    <g>\n",
              "        <path d=\"M19 3H5c-1.1 0-2 .9-2 2v14c0 1.1.9 2 2 2h14c1.1 0 2-.9 2-2V5c0-1.1-.9-2-2-2zM9 17H7v-7h2v7zm4 0h-2V7h2v10zm4 0h-2v-4h2v4z\"/>\n",
              "    </g>\n",
              "</svg>\n",
              "  </button>\n",
              "\n",
              "<style>\n",
              "  .colab-df-quickchart {\n",
              "      --bg-color: #E8F0FE;\n",
              "      --fill-color: #1967D2;\n",
              "      --hover-bg-color: #E2EBFA;\n",
              "      --hover-fill-color: #174EA6;\n",
              "      --disabled-fill-color: #AAA;\n",
              "      --disabled-bg-color: #DDD;\n",
              "  }\n",
              "\n",
              "  [theme=dark] .colab-df-quickchart {\n",
              "      --bg-color: #3B4455;\n",
              "      --fill-color: #D2E3FC;\n",
              "      --hover-bg-color: #434B5C;\n",
              "      --hover-fill-color: #FFFFFF;\n",
              "      --disabled-bg-color: #3B4455;\n",
              "      --disabled-fill-color: #666;\n",
              "  }\n",
              "\n",
              "  .colab-df-quickchart {\n",
              "    background-color: var(--bg-color);\n",
              "    border: none;\n",
              "    border-radius: 50%;\n",
              "    cursor: pointer;\n",
              "    display: none;\n",
              "    fill: var(--fill-color);\n",
              "    height: 32px;\n",
              "    padding: 0;\n",
              "    width: 32px;\n",
              "  }\n",
              "\n",
              "  .colab-df-quickchart:hover {\n",
              "    background-color: var(--hover-bg-color);\n",
              "    box-shadow: 0 1px 2px rgba(60, 64, 67, 0.3), 0 1px 3px 1px rgba(60, 64, 67, 0.15);\n",
              "    fill: var(--button-hover-fill-color);\n",
              "  }\n",
              "\n",
              "  .colab-df-quickchart-complete:disabled,\n",
              "  .colab-df-quickchart-complete:disabled:hover {\n",
              "    background-color: var(--disabled-bg-color);\n",
              "    fill: var(--disabled-fill-color);\n",
              "    box-shadow: none;\n",
              "  }\n",
              "\n",
              "  .colab-df-spinner {\n",
              "    border: 2px solid var(--fill-color);\n",
              "    border-color: transparent;\n",
              "    border-bottom-color: var(--fill-color);\n",
              "    animation:\n",
              "      spin 1s steps(1) infinite;\n",
              "  }\n",
              "\n",
              "  @keyframes spin {\n",
              "    0% {\n",
              "      border-color: transparent;\n",
              "      border-bottom-color: var(--fill-color);\n",
              "      border-left-color: var(--fill-color);\n",
              "    }\n",
              "    20% {\n",
              "      border-color: transparent;\n",
              "      border-left-color: var(--fill-color);\n",
              "      border-top-color: var(--fill-color);\n",
              "    }\n",
              "    30% {\n",
              "      border-color: transparent;\n",
              "      border-left-color: var(--fill-color);\n",
              "      border-top-color: var(--fill-color);\n",
              "      border-right-color: var(--fill-color);\n",
              "    }\n",
              "    40% {\n",
              "      border-color: transparent;\n",
              "      border-right-color: var(--fill-color);\n",
              "      border-top-color: var(--fill-color);\n",
              "    }\n",
              "    60% {\n",
              "      border-color: transparent;\n",
              "      border-right-color: var(--fill-color);\n",
              "    }\n",
              "    80% {\n",
              "      border-color: transparent;\n",
              "      border-right-color: var(--fill-color);\n",
              "      border-bottom-color: var(--fill-color);\n",
              "    }\n",
              "    90% {\n",
              "      border-color: transparent;\n",
              "      border-bottom-color: var(--fill-color);\n",
              "    }\n",
              "  }\n",
              "</style>\n",
              "\n",
              "  <script>\n",
              "    async function quickchart(key) {\n",
              "      const quickchartButtonEl =\n",
              "        document.querySelector('#' + key + ' button');\n",
              "      quickchartButtonEl.disabled = true;  // To prevent multiple clicks.\n",
              "      quickchartButtonEl.classList.add('colab-df-spinner');\n",
              "      try {\n",
              "        const charts = await google.colab.kernel.invokeFunction(\n",
              "            'suggestCharts', [key], {});\n",
              "      } catch (error) {\n",
              "        console.error('Error during call to suggestCharts:', error);\n",
              "      }\n",
              "      quickchartButtonEl.classList.remove('colab-df-spinner');\n",
              "      quickchartButtonEl.classList.add('colab-df-quickchart-complete');\n",
              "    }\n",
              "    (() => {\n",
              "      let quickchartButtonEl =\n",
              "        document.querySelector('#df-7973bacd-9287-4192-960e-d00d7dd93691 button');\n",
              "      quickchartButtonEl.style.display =\n",
              "        google.colab.kernel.accessAllowed ? 'block' : 'none';\n",
              "    })();\n",
              "  </script>\n",
              "</div>\n",
              "\n",
              "    </div>\n",
              "  </div>\n"
            ],
            "application/vnd.google.colaboratory.intrinsic+json": {
              "type": "dataframe"
            }
          },
          "metadata": {},
          "execution_count": 112
        }
      ],
      "source": [
        "%%time\n",
        "\n",
        "tfidf = TfidfVectorizer(stop_words='english', max_features=1000)\n",
        "dtm = tfidf.fit_transform(df.text)\n",
        "dtm = pd.DataFrame(dtm.todense(), columns=tfidf.get_feature_names_out())\n",
        "print(dtm.shape)\n",
        "dtm.head()\n"
      ]
    },
    {
      "cell_type": "code",
      "execution_count": null,
      "metadata": {
        "deletable": false,
        "nbgrader": {
          "cell_type": "code",
          "checksum": "f6aa466983420c836879d744ffa6c9a8",
          "grade": false,
          "grade_id": "cell-3d5bc610a8ec6b24",
          "locked": false,
          "schema_version": 3,
          "solution": true,
          "task": false
        },
        "id": "qMkYE-OADcPX",
        "colab": {
          "base_uri": "https://localhost:8080/",
          "height": 74
        },
        "outputId": "4bff8633-dc31-4a8d-8ad4-c1883bf4221a"
      },
      "outputs": [
        {
          "output_type": "execute_result",
          "data": {
            "text/plain": [
              "NearestNeighbors(n_neighbors=10)"
            ],
            "text/html": [
              "<style>#sk-container-id-3 {color: black;background-color: white;}#sk-container-id-3 pre{padding: 0;}#sk-container-id-3 div.sk-toggleable {background-color: white;}#sk-container-id-3 label.sk-toggleable__label {cursor: pointer;display: block;width: 100%;margin-bottom: 0;padding: 0.3em;box-sizing: border-box;text-align: center;}#sk-container-id-3 label.sk-toggleable__label-arrow:before {content: \"▸\";float: left;margin-right: 0.25em;color: #696969;}#sk-container-id-3 label.sk-toggleable__label-arrow:hover:before {color: black;}#sk-container-id-3 div.sk-estimator:hover label.sk-toggleable__label-arrow:before {color: black;}#sk-container-id-3 div.sk-toggleable__content {max-height: 0;max-width: 0;overflow: hidden;text-align: left;background-color: #f0f8ff;}#sk-container-id-3 div.sk-toggleable__content pre {margin: 0.2em;color: black;border-radius: 0.25em;background-color: #f0f8ff;}#sk-container-id-3 input.sk-toggleable__control:checked~div.sk-toggleable__content {max-height: 200px;max-width: 100%;overflow: auto;}#sk-container-id-3 input.sk-toggleable__control:checked~label.sk-toggleable__label-arrow:before {content: \"▾\";}#sk-container-id-3 div.sk-estimator input.sk-toggleable__control:checked~label.sk-toggleable__label {background-color: #d4ebff;}#sk-container-id-3 div.sk-label input.sk-toggleable__control:checked~label.sk-toggleable__label {background-color: #d4ebff;}#sk-container-id-3 input.sk-hidden--visually {border: 0;clip: rect(1px 1px 1px 1px);clip: rect(1px, 1px, 1px, 1px);height: 1px;margin: -1px;overflow: hidden;padding: 0;position: absolute;width: 1px;}#sk-container-id-3 div.sk-estimator {font-family: monospace;background-color: #f0f8ff;border: 1px dotted black;border-radius: 0.25em;box-sizing: border-box;margin-bottom: 0.5em;}#sk-container-id-3 div.sk-estimator:hover {background-color: #d4ebff;}#sk-container-id-3 div.sk-parallel-item::after {content: \"\";width: 100%;border-bottom: 1px solid gray;flex-grow: 1;}#sk-container-id-3 div.sk-label:hover label.sk-toggleable__label {background-color: #d4ebff;}#sk-container-id-3 div.sk-serial::before {content: \"\";position: absolute;border-left: 1px solid gray;box-sizing: border-box;top: 0;bottom: 0;left: 50%;z-index: 0;}#sk-container-id-3 div.sk-serial {display: flex;flex-direction: column;align-items: center;background-color: white;padding-right: 0.2em;padding-left: 0.2em;position: relative;}#sk-container-id-3 div.sk-item {position: relative;z-index: 1;}#sk-container-id-3 div.sk-parallel {display: flex;align-items: stretch;justify-content: center;background-color: white;position: relative;}#sk-container-id-3 div.sk-item::before, #sk-container-id-3 div.sk-parallel-item::before {content: \"\";position: absolute;border-left: 1px solid gray;box-sizing: border-box;top: 0;bottom: 0;left: 50%;z-index: -1;}#sk-container-id-3 div.sk-parallel-item {display: flex;flex-direction: column;z-index: 1;position: relative;background-color: white;}#sk-container-id-3 div.sk-parallel-item:first-child::after {align-self: flex-end;width: 50%;}#sk-container-id-3 div.sk-parallel-item:last-child::after {align-self: flex-start;width: 50%;}#sk-container-id-3 div.sk-parallel-item:only-child::after {width: 0;}#sk-container-id-3 div.sk-dashed-wrapped {border: 1px dashed gray;margin: 0 0.4em 0.5em 0.4em;box-sizing: border-box;padding-bottom: 0.4em;background-color: white;}#sk-container-id-3 div.sk-label label {font-family: monospace;font-weight: bold;display: inline-block;line-height: 1.2em;}#sk-container-id-3 div.sk-label-container {text-align: center;}#sk-container-id-3 div.sk-container {/* jupyter's `normalize.less` sets `[hidden] { display: none; }` but bootstrap.min.css set `[hidden] { display: none !important; }` so we also need the `!important` here to be able to override the default hidden behavior on the sphinx rendered scikit-learn.org. See: https://github.com/scikit-learn/scikit-learn/issues/21755 */display: inline-block !important;position: relative;}#sk-container-id-3 div.sk-text-repr-fallback {display: none;}</style><div id=\"sk-container-id-3\" class=\"sk-top-container\"><div class=\"sk-text-repr-fallback\"><pre>NearestNeighbors(n_neighbors=10)</pre><b>In a Jupyter environment, please rerun this cell to show the HTML representation or trust the notebook. <br />On GitHub, the HTML representation is unable to render, please try loading this page with nbviewer.org.</b></div><div class=\"sk-container\" hidden><div class=\"sk-item\"><div class=\"sk-estimator sk-toggleable\"><input class=\"sk-toggleable__control sk-hidden--visually\" id=\"sk-estimator-id-3\" type=\"checkbox\" checked><label for=\"sk-estimator-id-3\" class=\"sk-toggleable__label sk-toggleable__label-arrow\">NearestNeighbors</label><div class=\"sk-toggleable__content\"><pre>NearestNeighbors(n_neighbors=10)</pre></div></div></div></div></div>"
            ]
          },
          "metadata": {},
          "execution_count": 113
        }
      ],
      "source": [
        "# Create and fit a NearestNeighbors model named \"nn\"\n",
        "nn = NearestNeighbors(n_neighbors=10, algorithm='auto')\n",
        "nn.fit(dtm)"
      ]
    },
    {
      "cell_type": "markdown",
      "source": [
        "For fun, create a fake review and query 10 most similar reviews to it."
      ],
      "metadata": {
        "id": "Hs9PR9hRZx8Q"
      }
    },
    {
      "cell_type": "code",
      "execution_count": null,
      "metadata": {
        "deletable": false,
        "nbgrader": {
          "cell_type": "code",
          "checksum": "3da2ced9f187ed0aa1a890785e2ba00e",
          "grade": false,
          "grade_id": "cell-496203e8746296ca",
          "locked": false,
          "schema_version": 3,
          "solution": true,
          "task": false
        },
        "id": "OJW7f0SEDcPY",
        "colab": {
          "base_uri": "https://localhost:8080/"
        },
        "outputId": "cb553e3c-670d-49b3-af50-67502e60b739"
      },
      "outputs": [
        {
          "output_type": "stream",
          "name": "stdout",
          "text": [
            "\n",
            " 1   旅行でラスベガスに来ましたがネイルがはげてるのが気になり、探したお店でした。\n",
            "質問にも丁寧に答えてくれましたし、日本人の方も日本語が話せる方も居て、とても綺麗で居心地のいいお店でした。 \n",
            "ネイルはちはるさんと言う綺麗な方が丁寧にしてくれとても気に入りました。\n",
            "予定になかったまつ毛エクステもお願いし、日本ではまだあまりないブラウンカラーのエクステをしてもらい、とても気に入りました。\n",
            "また是非マッサージなどで伺いたいと思います。\n",
            "\n",
            " 2   天氣很熱吃不下東西，今天我點了一個韓國冷面湯、餐後點了甜點，冰沙系列不會太甜膩，覺得店家很用心製作，包含擺盤精緻、佐料衛生，夏日想開胃，這是一個不錯的選擇，服務人員也很敬業，以後會常常來\n",
            "\n",
            " 3   Solid place. I live nearby so it's a good place to drop in when I don't feel like cooking. Everything I've tried is very flavourful. The Arepa Reina (chicken/avocado arepa) is really tasty but the mayo to avocado ratio is wayy off, too much mayo and not enough avocado. The beef empanada is a good size and very very tasty. Portions are decent for the price too.\n",
            "\n",
            " 4   We loved everything except for 1 thing..\n",
            "AMAZING kalbi ribs, rock & roll, aria, coco shrimp, avocado bomb. Order it all!\n",
            "Didn't like the red rock. Weird consistency and lacked something. Just doesn't work. \n",
            "\n",
            "Also our avocado bomb barely had avocado unlike the previous pics posted.  We were kinda bummed about that.\n",
            "\n",
            " 5   I usually come here once or twice a month and do a bowl from the list I never make my own. The reason being the New York bowl comes with mango salsa and avocado if i make my own you have to pay extra for the avocado n salsa. I went there last night and asked for a New York bowl the guy told me they were out of avocado I said ok that sucks and have him put the cucumber on and I say as a Substitute for no avocado can i get cream cheese he puts on the cream cheese n goes it will be a dollar more. I'm like then take it off that's why I asked can I substitute you not having the avocado in the end I wasn't charged the dollar extra but then the rest of the order the guy acted like I was wrong and stealing from them.  it put a bad taste in my mouth. I live close to this place but i will travel some where with better customer service before i come back.\n",
            "\n",
            " 6   A new favorite on Central Avenue!  Lamb lollipops were exquisite.  Avocado egg rolls come with the best sauce, I practically licked the little bowl.  Eggplant dip, cheese bites, and the pork belly are tapas to try. I loved the kimchi that came with the pork belly.  Chicken sliders have a delicious jam and cheese that makes them stand apart from other sliders.  The avocado fries are perfectly done, get these and try to keep them to yourself.  Plan to get at least 3 tapas to try for each person.  The patio outside is really chill.\n",
            "\n",
            " 7   Sandwich Spot, where have you been all my life? And why have you been letting me eat at subway all this time? More times than not, I want a sammie for lunch so I was pretty stoked to find this place. Very clean and friendly staff. Already thinking about going back to try the other options. \n",
            "\n",
            "Since my kiddos are sourdough fanatics, I got them the plain turkey & cheese on sourdough. They loved it. And I think that was the softest sourdough I've ever had. Yumm! Just wish they would've mentioned the kid-menu before hand. There's no way my kiddos could've finished that regular sized sandwich. But no biggie, now I know and you do too. :) \n",
            "\n",
            "The sandwiches are packed with flavor and fresh ingredients. Try The Carter: hot turkey, avocado, bacon, cream cheese and bomb sauce. So good and big enough to share. So next time you're in the area, bring your sammie-loving buddy and go Dutch...Dutch Crunch that is. ;) See what I did there?\n",
            "\n",
            " 8   2nd time I've been here and it does really hit the spot. I bought the beef sate sub, it tasted fresh and had lots of flavour. Then the lady suggested to try the avocado bubble tea and it's the best one I've ever had. Plus you can't beat the price! Go here and be satisfied!\n",
            "\n",
            " 9   I got the \"Dilly Bird,\" which is just turkey, cream cheese, sprouts, and avocado. It was $7.19, for just those ingredients I figured it would have a decent amount of toppings... but it unfortunately did not. On each half of the sandwich there were 2 slices of avocado and a very thin layer of sprouts. Turkey was a decent amount though. I got it on wheat bread and the bread was delicious. Wasn't the best deli I have been too... which is unfortunate because this is the nearest deli sandwich place to me \n",
            "However the staff is super friendly!\n",
            "\n",
            " 10   Amazing vermicelli bowls. I recommended getting the grilled chicken with it. I always get their avocado smoothies sooooo good.\n"
          ]
        },
        {
          "output_type": "stream",
          "name": "stderr",
          "text": [
            "/usr/local/lib/python3.10/dist-packages/sklearn/base.py:439: UserWarning: X does not have valid feature names, but NearestNeighbors was fitted with feature names\n",
            "  warnings.warn(\n"
          ]
        }
      ],
      "source": [
        "# Create a fake review and find the 10 most similar reviews\n",
        "fake_review = \"Can't keep count of how many times I've been here now. Their avocado smoothie is consistently to die for. That's a huge opportunity cost for me to try anything else lol. Maybe the mung bean one is a close second. One time I'd try their durian but let me just enjoy my avocado smoothie a few more times first. Boba texture, amount and flavor was one of the best. Price is unbelievable. That's why it's always crowded! Bring cash unless you wanna use some unknown random ATM at their store.\"\n",
        "\n",
        "fake_review_vector = tfidf.transform([fake_review]).toarray()\n",
        "neigh_dist, neigh_index = nn.kneighbors(fake_review_vector)\n",
        "\n",
        "count = 0\n",
        "for most_similar_review_index in neigh_index[0]:\n",
        "  most_similar_review = df.text.iloc[most_similar_review_index]\n",
        "  count += 1\n",
        "  print(\"\\n\", count, \" \", most_similar_review)"
      ]
    },
    {
      "cell_type": "code",
      "source": [
        "print(neigh_index)"
      ],
      "metadata": {
        "colab": {
          "base_uri": "https://localhost:8080/"
        },
        "id": "C0ea5zNxi-_K",
        "outputId": "bdbc10d3-27f8-4d2d-f35d-9b81839434f1"
      },
      "execution_count": null,
      "outputs": [
        {
          "output_type": "stream",
          "name": "stdout",
          "text": [
            "[[6204 6311 4126 7910 7575 7081 3416  874 1816 3431]]\n"
          ]
        }
      ]
    },
    {
      "cell_type": "markdown",
      "source": [
        "## Predict the stars of the reviews in this dataset"
      ],
      "metadata": {
        "id": "D6pZMaT5aCdU"
      }
    },
    {
      "cell_type": "code",
      "source": [
        "# Set up train and test data\n",
        "from sklearn.model_selection import train_test_split\n",
        "target = 'stars'\n",
        "y = df[target]\n",
        "X = df['text']\n",
        "X_train, X_test, y_train, y_test = train_test_split(X, y, test_size=0.2, random_state=42)"
      ],
      "metadata": {
        "id": "ZbwVDkdk88_u"
      },
      "execution_count": null,
      "outputs": []
    },
    {
      "cell_type": "code",
      "execution_count": null,
      "metadata": {
        "deletable": false,
        "jupyter": {
          "outputs_hidden": true
        },
        "nbgrader": {
          "cell_type": "code",
          "checksum": "b3492e82185541e6a463f46b16baff94",
          "grade": false,
          "grade_id": "cell-e2beb0252d274bba",
          "locked": false,
          "schema_version": 3,
          "solution": true,
          "task": false
        },
        "id": "pbYee7IQDcPZ",
        "colab": {
          "base_uri": "https://localhost:8080/"
        },
        "outputId": "a85eb5b6-dda0-44a5-f019-d9ee35097ced"
      },
      "outputs": [
        {
          "output_type": "stream",
          "name": "stdout",
          "text": [
            "Fitting 3 folds for each of 4 candidates, totalling 12 fits\n",
            "{'clf__n_neighbors': 5, 'vect__ngram_range': (1, 2)}\n"
          ]
        }
      ],
      "source": [
        "# Build Pipeline\n",
        "vect = TfidfVectorizer(stop_words='english')\n",
        "clf = KNeighborsClassifier()\n",
        "pipe = Pipeline([('vect', vect), ('clf', clf)])\n",
        "\n",
        "# Parameter dict, one parameter with 2 values for the vectorizer, one parameter with 2 values for model, use n_jobs=1\n",
        "parameters = {\n",
        "    'vect__ngram_range': ((1,1), (1,2)),\n",
        "    'clf__n_neighbors' : (4, 5)\n",
        "}\n",
        "# Gridsearch as gs\n",
        "gs = GridSearchCV(pipe, parameters, cv=3, n_jobs=1, verbose=1)\n",
        "gs.fit(X_train, y_train)\n",
        "gs.best_score_\n",
        "print(gs.best_params_)"
      ]
    },
    {
      "cell_type": "code",
      "source": [
        "# Predict the ratings for the test set using the best model\n",
        "best_model = gs.best_estimator_\n",
        "y_pred = best_model.predict(X_test)"
      ],
      "metadata": {
        "id": "xgahocxo7xoJ"
      },
      "execution_count": null,
      "outputs": []
    },
    {
      "cell_type": "code",
      "source": [
        "# Predict the score for my review\n",
        "predicted_score = best_model.predict([fake_review])\n",
        "print(f'Predicted Score: {predicted_score[0]}')"
      ],
      "metadata": {
        "id": "kV9CVZ6zNyEq",
        "colab": {
          "base_uri": "https://localhost:8080/"
        },
        "outputId": "f872afbc-ac12-4333-8707-bf99f4095bbb"
      },
      "execution_count": null,
      "outputs": [
        {
          "output_type": "stream",
          "name": "stdout",
          "text": [
            "Predicted Score: 2\n"
          ]
        }
      ]
    },
    {
      "cell_type": "markdown",
      "source": [
        "## LDA Topic Modeling"
      ],
      "metadata": {
        "id": "y8-NK912aVmq"
      }
    },
    {
      "cell_type": "code",
      "execution_count": null,
      "metadata": {
        "deletable": false,
        "editable": false,
        "nbgrader": {
          "cell_type": "code",
          "checksum": "bef17fce3f84cc31020898134cfdaec1",
          "grade": false,
          "grade_id": "cell-b4df1a20c7947a8b",
          "locked": true,
          "schema_version": 3,
          "solution": false,
          "task": false
        },
        "id": "ghLDRKDJDcPa"
      },
      "outputs": [],
      "source": [
        "# Do not change this value\n",
        "num_topics = 5"
      ]
    },
    {
      "cell_type": "code",
      "execution_count": null,
      "metadata": {
        "deletable": false,
        "nbgrader": {
          "cell_type": "code",
          "checksum": "fb50f495592df233d97bd4199b958404",
          "grade": false,
          "grade_id": "cell-66331a185ff52f15",
          "locked": false,
          "schema_version": 3,
          "solution": true,
          "task": false
        },
        "id": "S4tRXA17DcPa"
      },
      "outputs": [],
      "source": [
        "df['lemmas'] = df['text'].apply(tokenize)"
      ]
    },
    {
      "cell_type": "code",
      "source": [
        "id2word = corpora.Dictionary(df['lemmas'])\n",
        "corpus = [id2word.doc2bow(text) for text in df['lemmas']]"
      ],
      "metadata": {
        "id": "Yd1o3JfSQrIA"
      },
      "execution_count": null,
      "outputs": []
    },
    {
      "cell_type": "code",
      "source": [
        "lda = LdaModel(corpus=corpus,\n",
        "               id2word=id2word,\n",
        "               random_state=723812,\n",
        "               num_topics = num_topics,\n",
        "               passes=1\n",
        "              )"
      ],
      "metadata": {
        "colab": {
          "base_uri": "https://localhost:8080/"
        },
        "id": "75XaovWeRHLJ",
        "outputId": "786ba047-b409-45eb-f730-29f4a2e72b82"
      },
      "execution_count": null,
      "outputs": [
        {
          "output_type": "stream",
          "name": "stderr",
          "text": [
            "WARNING:gensim.models.ldamodel:too few updates, training might not converge; consider increasing the number of passes or iterations to improve accuracy\n"
          ]
        }
      ]
    },
    {
      "cell_type": "code",
      "source": [
        "dir(lda)"
      ],
      "metadata": {
        "colab": {
          "base_uri": "https://localhost:8080/"
        },
        "collapsed": true,
        "id": "NZjvrNiZdM6v",
        "outputId": "d5954e36-e5fb-44a6-bd5c-c27de9410b35"
      },
      "execution_count": null,
      "outputs": [
        {
          "output_type": "stream",
          "name": "stderr",
          "text": [
            "/usr/local/lib/python3.10/dist-packages/ipykernel/ipkernel.py:283: DeprecationWarning: `should_run_async` will not call `transform_cell` automatically in the future. Please pass the result to `transformed_cell` argument and any exception that happen during thetransform in `preprocessing_exc_tuple` in IPython 7.17 and above.\n",
            "  and should_run_async(code)\n"
          ]
        },
        {
          "output_type": "execute_result",
          "data": {
            "text/plain": [
              "['__class__',\n",
              " '__delattr__',\n",
              " '__dict__',\n",
              " '__dir__',\n",
              " '__doc__',\n",
              " '__eq__',\n",
              " '__format__',\n",
              " '__ge__',\n",
              " '__getattribute__',\n",
              " '__getitem__',\n",
              " '__gt__',\n",
              " '__hash__',\n",
              " '__init__',\n",
              " '__init_subclass__',\n",
              " '__le__',\n",
              " '__lt__',\n",
              " '__module__',\n",
              " '__ne__',\n",
              " '__new__',\n",
              " '__reduce__',\n",
              " '__reduce_ex__',\n",
              " '__repr__',\n",
              " '__setattr__',\n",
              " '__sizeof__',\n",
              " '__str__',\n",
              " '__subclasshook__',\n",
              " '__weakref__',\n",
              " '_adapt_by_suffix',\n",
              " '_apply',\n",
              " '_load_specials',\n",
              " '_save_specials',\n",
              " '_smart_save',\n",
              " 'add_lifecycle_event',\n",
              " 'alpha',\n",
              " 'bound',\n",
              " 'callbacks',\n",
              " 'chunksize',\n",
              " 'clear',\n",
              " 'decay',\n",
              " 'diff',\n",
              " 'dispatcher',\n",
              " 'distributed',\n",
              " 'do_estep',\n",
              " 'do_mstep',\n",
              " 'dtype',\n",
              " 'eta',\n",
              " 'eval_every',\n",
              " 'expElogbeta',\n",
              " 'gamma_threshold',\n",
              " 'get_document_topics',\n",
              " 'get_term_topics',\n",
              " 'get_topic_terms',\n",
              " 'get_topics',\n",
              " 'id2word',\n",
              " 'inference',\n",
              " 'init_dir_prior',\n",
              " 'iterations',\n",
              " 'lifecycle_events',\n",
              " 'load',\n",
              " 'log_perplexity',\n",
              " 'minimum_phi_value',\n",
              " 'minimum_probability',\n",
              " 'num_terms',\n",
              " 'num_topics',\n",
              " 'num_updates',\n",
              " 'numworkers',\n",
              " 'offset',\n",
              " 'optimize_alpha',\n",
              " 'optimize_eta',\n",
              " 'passes',\n",
              " 'per_word_topics',\n",
              " 'print_topic',\n",
              " 'print_topics',\n",
              " 'random_state',\n",
              " 'save',\n",
              " 'show_topic',\n",
              " 'show_topics',\n",
              " 'state',\n",
              " 'sync_state',\n",
              " 'top_topics',\n",
              " 'update',\n",
              " 'update_alpha',\n",
              " 'update_eta',\n",
              " 'update_every']"
            ]
          },
          "metadata": {},
          "execution_count": 50
        }
      ]
    },
    {
      "cell_type": "code",
      "source": [
        "lda.show_topics()"
      ],
      "metadata": {
        "colab": {
          "base_uri": "https://localhost:8080/"
        },
        "id": "yUHUFu39bBgz",
        "outputId": "56ad1a1f-e7bb-4512-a508-f82a1039460d"
      },
      "execution_count": null,
      "outputs": [
        {
          "output_type": "stream",
          "name": "stderr",
          "text": [
            "/usr/local/lib/python3.10/dist-packages/ipykernel/ipkernel.py:283: DeprecationWarning: `should_run_async` will not call `transform_cell` automatically in the future. Please pass the result to `transformed_cell` argument and any exception that happen during thetransform in `preprocessing_exc_tuple` in IPython 7.17 and above.\n",
            "  and should_run_async(code)\n"
          ]
        },
        {
          "output_type": "execute_result",
          "data": {
            "text/plain": [
              "[(0,\n",
              "  '0.012*\"time\" + 0.009*\"service\" + 0.008*\"go\" + 0.007*\"get\" + 0.007*\"great\" + 0.007*\"room\" + 0.006*\"tell\" + 0.006*\"like\" + 0.006*\"come\" + 0.006*\"$\"'),\n",
              " (1,\n",
              "  '0.018*\"food\" + 0.012*\"good\" + 0.009*\"like\" + 0.009*\"place\" + 0.009*\"order\" + 0.008*\"service\" + 0.008*\"restaurant\" + 0.008*\"great\" + 0.007*\"try\" + 0.006*\"come\"'),\n",
              " (2,\n",
              "  '0.016*\"good\" + 0.015*\"order\" + 0.015*\"food\" + 0.011*\"service\" + 0.011*\"come\" + 0.008*\"great\" + 0.008*\"place\" + 0.007*\"like\" + 0.007*\"time\" + 0.006*\"eat\"'),\n",
              " (3,\n",
              "  '0.020*\"place\" + 0.020*\"good\" + 0.013*\"great\" + 0.012*\"food\" + 0.010*\"time\" + 0.009*\"like\" + 0.009*\"come\" + 0.008*\"order\" + 0.008*\"love\" + 0.007*\"try\"'),\n",
              " (4,\n",
              "  '0.008*\"good\" + 0.007*\"come\" + 0.007*\"office\" + 0.006*\"recommend\" + 0.006*\"staff\" + 0.006*\"time\" + 0.005*\"dr.\" + 0.005*\"service\" + 0.005*\"year\" + 0.005*\"go\"')]"
            ]
          },
          "metadata": {},
          "execution_count": 49
        }
      ]
    },
    {
      "cell_type": "markdown",
      "metadata": {
        "id": "HDbqtK1xDcPb"
      },
      "source": [
        "#### Two visualizations of the results:\n",
        "1. pyLDAvis\n",
        "\n",
        "2. matplotlib library\n"
      ]
    },
    {
      "cell_type": "markdown",
      "source": [
        "###pyLDAvis"
      ],
      "metadata": {
        "id": "LdBIrppXb7e5"
      }
    },
    {
      "cell_type": "code",
      "source": [
        "pyLDAvis.enable_notebook()\n",
        "vis = pyLDAvis.gensim_models.prepare(topic_model=lda,\n",
        "                                     corpus=corpus,\n",
        "                                     dictionary=id2word)\n",
        "vis"
      ],
      "metadata": {
        "colab": {
          "base_uri": "https://localhost:8080/",
          "height": 916
        },
        "id": "Mley5a6CWBNG",
        "outputId": "cc62e2a1-f7b8-4c10-8dbd-f158c15ac9f3"
      },
      "execution_count": null,
      "outputs": [
        {
          "output_type": "stream",
          "name": "stderr",
          "text": [
            "/usr/local/lib/python3.10/dist-packages/ipykernel/ipkernel.py:283: DeprecationWarning: `should_run_async` will not call `transform_cell` automatically in the future. Please pass the result to `transformed_cell` argument and any exception that happen during thetransform in `preprocessing_exc_tuple` in IPython 7.17 and above.\n",
            "  and should_run_async(code)\n"
          ]
        },
        {
          "output_type": "execute_result",
          "data": {
            "text/plain": [
              "PreparedData(topic_coordinates=              x         y  topics  cluster       Freq\n",
              "topic                                                \n",
              "0     -0.090775  0.063209       1        1  31.801418\n",
              "3      0.054464  0.026457       2        1  28.386345\n",
              "1      0.098828 -0.032173       3        1  17.929290\n",
              "2      0.037190  0.012740       4        1  16.385647\n",
              "4     -0.099707 -0.070233       5        1   5.497300, topic_info=           Term         Freq        Total Category  logprob  loglift\n",
              "144        food  4852.000000  4852.000000  Default  30.0000  30.0000\n",
              "368       order  3386.000000  3386.000000  Default  29.0000  29.0000\n",
              "44         good  6200.000000  6200.000000  Default  28.0000  28.0000\n",
              "181   recommend  1402.000000  1402.000000  Default  27.0000  27.0000\n",
              "41         come  3850.000000  3850.000000  Default  26.0000  26.0000\n",
              "..          ...          ...          ...      ...      ...      ...\n",
              "263  experience    89.947720  1460.093389   Topic5  -5.7079   0.1139\n",
              "25         look    89.926574  2006.633123   Topic5  -5.7081  -0.2043\n",
              "129       place    96.411404  5267.135490   Topic5  -5.6385  -1.0997\n",
              "205       great    91.330646  4286.424086   Topic5  -5.6926  -0.9478\n",
              "190     amazing    80.543395  1372.143733   Topic5  -5.8183   0.0656\n",
              "\n",
              "[478 rows x 6 columns], token_table=       Topic      Freq        Term\n",
              "term                              \n",
              "0          1  0.424739           $\n",
              "0          2  0.161445           $\n",
              "0          3  0.222821           $\n",
              "0          4  0.160111           $\n",
              "0          5  0.031133           $\n",
              "...      ...       ...         ...\n",
              "116        4  0.110719        year\n",
              "116        5  0.137129        year\n",
              "9234       3  0.950791  yellowtail\n",
              "9234       4  0.030671  yellowtail\n",
              "11618      2  0.990411         yuk\n",
              "\n",
              "[1250 rows x 3 columns], R=30, lambda_step=0.01, plot_opts={'xlab': 'PC1', 'ylab': 'PC2'}, topic_order=[1, 4, 2, 3, 5])"
            ],
            "text/html": [
              "\n",
              "<link rel=\"stylesheet\" type=\"text/css\" href=\"https://cdn.jsdelivr.net/gh/bmabey/pyLDAvis@3.4.0/pyLDAvis/js/ldavis.v1.0.0.css\">\n",
              "\n",
              "\n",
              "<div id=\"ldavis_el2691342237716834088444218515\" style=\"background-color:white;\"></div>\n",
              "<script type=\"text/javascript\">\n",
              "\n",
              "var ldavis_el2691342237716834088444218515_data = {\"mdsDat\": {\"x\": [-0.09077524700797644, 0.054463854962976385, 0.09882802184491742, 0.037190177368222783, -0.0997068071681402], \"y\": [0.06320894006251994, 0.02645667376534896, -0.03217282104006426, 0.012739712031963921, -0.07023250481976855], \"topics\": [1, 2, 3, 4, 5], \"cluster\": [1, 1, 1, 1, 1], \"Freq\": [31.80141784112895, 28.386345479936786, 17.929290058476663, 16.385647058783658, 5.497299561673944]}, \"tinfo\": {\"Term\": [\"food\", \"order\", \"good\", \"recommend\", \"come\", \"office\", \"chicken\", \"restaurant\", \"staff\", \"year\", \"care\", \"place\", \"need\", \"room\", \"dish\", \"service\", \"taco\", \"taste\", \"eat\", \"company\", \"delicious\", \"work\", \"sushi\", \"say\", \"know\", \"sauce\", \"dr.\", \"car\", \"professional\", \"tell\", \"wi\", \"fi\", \"photography\", \"tint\", \"acrylic\", \"roti\", \"iphone\", \"uptown\", \"stretch\", \"experienced\", \"groomer\", \"elevator\", \"carpet\", \"tim\", \"appt\", \"haircut\", \"xs\", \"keg\", \"arrogant\", \"rv\", \"easter\", \"sore\", \"tube\", \"balloon\", \"dent\", \"thrill\", \"lawyer\", \"smog\", \"gamble\", \"battery\", \"lash\", \"car\", \"suite\", \"dealer\", \"bedroom\", \"studio\", \"room\", \"spa\", \"shower\", \"pool\", \"appointment\", \"class\", \"dealership\", \"hotel\", \"hair\", \"direct\", \"stay\", \"vehicle\", \"bed\", \"phone\", \"call\", \"nail\", \"gym\", \"stylist\", \"schedule\", \"answer\", \"sale\", \"store\", \"tell\", \"desk\", \"card\", \"rude\", \"customer\", \"purchase\", \"need\", \"book\", \"help\", \"say\", \"job\", \"day\", \"time\", \"hour\", \"buy\", \"guy\", \"ask\", \"go\", \"know\", \"take\", \"work\", \"$\", \"get\", \"service\", \"look\", \"check\", \"experience\", \"people\", \"want\", \"like\", \"great\", \"come\", \"wait\", \"place\", \"find\", \"good\", \"yuk\", \"tart\", \"earl\", \"removal\", \"tan\", \"bourbon\", \"doughnut\", \"coney\", \"cha\", \"heartbeat\", \"horribly\", \"hollandaise\", \"omelet\", \"milkshake\", \"mex\", \"glance\", \"thread\", \"peoria\", \"vinaigrette\", \"specially\", \"ranchero\", \"bleu\", \"sammie\", \"nacho\", \"ragu\", \"omelette\", \"corned\", \"iffy\", \"coca\", \"jamba\", \"benedict\", \"noir\", \"croissant\", \"pancake\", \"donut\", \"pear\", \"mocha\", \"cookie\", \"ipa\", \"pint\", \"eggs\", \"burger\", \"breakfast\", \"bacon\", \"smoothie\", \"poutine\", \"coffee\", \"pie\", \"crepe\", \"place\", \"beer\", \"wine\", \"cute\", \"chocolate\", \"toast\", \"drink\", \"atmosphere\", \"good\", \"egg\", \"music\", \"love\", \"patio\", \"great\", \"amazing\", \"fry\", \"cheese\", \"dog\", \"enjoy\", \"definitely\", \"friend\", \"food\", \"try\", \"bar\", \"friendly\", \"like\", \"pretty\", \"seat\", \"time\", \"come\", \"nice\", \"menu\", \"order\", \"little\", \"wait\", \"table\", \"get\", \"go\", \"look\", \"want\", \"service\", \"staff\", \"recommend\", \"think\", \"enchilada\", \"brewery\", \"hibachi\", \"dragon\", \"pearl\", \"curly\", \"thai\", \"je\", \"pakora\", \"ethiopian\", \"biryani\", \"j'ai\", \"froyo\", \"dang\", \"tikka\", \"concoction\", \"que\", \"yellowtail\", \"calzone\", \"ou\", \"mojito\", \"frittata\", \"chilli\", \"albeit\", \"brussel\", \"curry\", \"fav\", \"umami\", \"vietnamese\", \"jay\", \"pho\", \"masala\", \"samosa\", \"naan\", \"gras\", \"et\", \"la\", \"indian\", \"nigiri\", \"matcha\", \"tofu\", \"pad\", \"de\", \"le\", \"coconut\", \"tom\", \"noodle\", \"dish\", \"spicy\", \"spice\", \"crab\", \"broth\", \"lamb\", \"roll\", \"restaurant\", \"food\", \"portion\", \"flavor\", \"salmon\", \"appetizer\", \"rice\", \"delicious\", \"taste\", \"soup\", \"lunch\", \"cream\", \"chicken\", \"shrimp\", \"steak\", \"price\", \"order\", \"like\", \"good\", \"try\", \"dessert\", \"menu\", \"service\", \"sauce\", \"place\", \"$\", \"great\", \"little\", \"eat\", \"get\", \"come\", \"love\", \"time\", \"bit\", \"go\", \"salad\", \"find\", \"well\", \"grub\", \"contractor\", \"promotion\", \"smokey\", \"mississauga\", \"shawarma\", \"persian\", \"cesar\", \"tomorrow\", \"baba\", \"jalape\\u00f1os\", \"bust\", \"souvlaki\", \"lion\", \"brake\", \"horchata\", \"nite\", \"kabab\", \"patrick\", \"cuban\", \"wire\", \"spare\", \"lebanese\", \"salted\", \"asada\", \"lentil\", \"ganoush\", \"bakersfield\", \"sampling\", \"del\", \"okra\", \"jeremy\", \"taco\", \"1/4\", \"carne\", \"relleno\", \"bagel\", \"pulled\", \"tostada\", \"tacos\", \"margarita\", \"baklava\", \"uni\", \"thankful\", \"sushi\", \"ayce\", \"attach\", \"sum\", \"michael\", \"order\", \"salsa\", \"fish\", \"pork\", \"eat\", \"sauce\", \"food\", \"chicken\", \"good\", \"service\", \"come\", \"cook\", \"fresh\", \"restaurant\", \"plate\", \"meat\", \"wing\", \"quality\", \"2\", \"dry\", \"bad\", \"waitress\", \"beef\", \"great\", \"rice\", \"like\", \"go\", \"place\", \"meal\", \"time\", \"taste\", \"$\", \"try\", \"say\", \"day\", \"ask\", \"think\", \"star\", \"love\", \"know\", \"price\", \"get\", \"cox\", \"painting\", \"encore\", \"disgust\", \"physician\", \"dental\", \"festival\", \"dr\", \"conclusion\", \"reuben\", \"nancy\", \"dolphin\", \"accent\", \"authority\", \"rum\", \"grubhub\", \"scorpion\", \"france\", \"brad\", \"termite\", \"pearson\", \"enterprise\", \"ramsay\", \"gabi\", \"lewis\", \"canal\", \"exam\", \"cr\\u00eape\", \"moving\", \"optometrist\", \"pregnancy\", \"dr.\", \"hall\", \"drama\", \"id\", \"ami\", \"pa\", \"doctor\", \"office\", \"procedure\", \"x\", \"ray\", \"patient\", \"rule\", \"nurse\", \"dentist\", \"pain\", \"repair\", \"power\", \"wedding\", \"care\", \"recommend\", \"company\", \"year\", \"staff\", \"professional\", \"come\", \"need\", \"highly\", \"good\", \"know\", \"work\", \"thank\", \"home\", \"time\", \"go\", \"get\", \"service\", \"think\", \"say\", \"want\", \"like\", \"price\", \"experience\", \"look\", \"place\", \"great\", \"amazing\"], \"Freq\": [4852.0, 3386.0, 6200.0, 1402.0, 3850.0, 306.0, 1377.0, 1674.0, 1620.0, 984.0, 642.0, 5267.0, 1416.0, 1224.0, 882.0, 3786.0, 424.0, 1178.0, 1493.0, 403.0, 1225.0, 1508.0, 527.0, 1554.0, 1692.0, 890.0, 171.0, 742.0, 376.0, 1586.0, 26.762490115130348, 25.742554953149945, 28.026420992281388, 30.359551471253635, 33.59924891377823, 24.25994826205855, 26.11225379385911, 18.132681561099528, 31.85779122270287, 20.299537998117287, 17.03256024943426, 63.659130994595046, 71.4985975690426, 24.45337944336971, 28.59959138951256, 89.70454398982761, 13.704741521977503, 30.139539069427418, 13.34489374454314, 14.835196079878385, 16.11215526761652, 16.186985942291148, 16.6961586412366, 39.49746299774788, 18.91388524825156, 16.32509128050778, 14.897529885906879, 15.43570380493548, 30.784581857224072, 45.69584598196152, 43.32103038319064, 668.3602887811113, 75.30674629559728, 45.2265667820223, 46.404689173074395, 64.08995022024861, 1037.9558700930604, 110.44986598001337, 98.35842595143747, 245.85277859037205, 352.47192894870665, 208.1844840126258, 77.01527055239968, 437.90867026951196, 358.4785640312333, 50.39889731976769, 530.0118922855198, 94.52363214010016, 143.1648570874263, 317.648969961155, 629.4386305816324, 323.49755010487854, 117.35581030825482, 72.64644829725998, 139.73912303343008, 195.798428994219, 127.43427599298948, 597.8799750265587, 1014.7525584190427, 133.8642399349288, 193.9785528251508, 265.57800575790844, 739.3794709786024, 232.83320828446747, 802.21059718224, 195.7136902346021, 403.55900024555706, 847.377742825009, 350.410317403367, 839.6594358896347, 1876.4022498372747, 597.3435151788547, 330.6349476623105, 416.4384523483828, 755.6817193791155, 1312.1259007076903, 818.6768490219083, 732.1230304263943, 725.2813791686762, 955.1350821602222, 1125.9488608351087, 1341.6688540023504, 840.3140628793024, 533.8302456096877, 666.2905026095209, 677.9557672570432, 708.9005229782341, 1012.960344601305, 1075.7590642508771, 971.7643885984987, 646.9290463101419, 930.072043014164, 616.1026037063832, 894.2204678859739, 53.64165318494495, 38.703674259859426, 20.8263026426942, 22.52533941112335, 42.62869134848049, 23.93201862459357, 18.65280860560204, 15.320099628947737, 17.48949839224412, 16.59249193381303, 17.42260383042067, 22.832207041320913, 25.8399683087603, 31.145488655001564, 12.860725349141868, 14.693726331223605, 13.268653505470038, 21.458324629031996, 12.315408544398746, 11.354683575410135, 16.82885631573275, 13.789467889068648, 11.102851213046259, 18.749824756194336, 12.70563225084967, 39.89278785382271, 16.316902300793956, 10.963837892252968, 10.701880848513799, 10.154085298632046, 43.435050046293526, 19.628041613898986, 49.869110988252, 128.24545646176296, 154.46749763002344, 30.97257913066569, 40.59640536504359, 128.48875013245421, 31.1258195323861, 27.899922584956148, 20.771420069632914, 518.4861670025401, 351.65663089852234, 160.11759510745426, 58.41057966980775, 52.11796294941919, 436.137216605607, 116.6058474949492, 59.52374491990939, 2826.267886353139, 400.5201307624909, 289.6501748477586, 145.88553022296654, 208.6852172929775, 124.83345716166174, 770.2345838883407, 290.3535317599012, 2733.9900133509905, 263.75602432595974, 187.34536141209492, 1076.0100759239276, 154.69441427739218, 1781.5168001624338, 677.2889257482276, 474.12897897420874, 437.6483003607234, 240.06067852672612, 459.78179444691295, 643.9828651057395, 503.7999104995824, 1668.0334589665572, 1009.5064290052647, 521.5733539827913, 634.7271676442463, 1299.0298549763493, 510.16904969617684, 322.5440003233716, 1382.7989074752118, 1241.0194577660484, 717.073674924821, 563.8537302320539, 1095.3302400862008, 596.4495932365958, 668.3875778833575, 495.85860963891145, 828.189994693135, 850.7503174945805, 670.9572802440135, 580.075957702099, 722.4734181252848, 517.181901190884, 502.8192435933183, 503.2718390424342, 69.15130658950129, 39.855183331405826, 34.14330643562973, 31.141439638773768, 22.073826676051684, 20.042954801757496, 223.47036909545244, 20.758137576762532, 18.01231953814007, 15.628483686780006, 13.324137449465042, 17.89404506201919, 13.715414353180751, 13.389490861500954, 24.72202995123221, 17.716887961500916, 28.517319215519745, 30.721728304163207, 12.391860520744306, 12.803032010222237, 17.21832097514768, 10.015983275245686, 15.133801487679541, 9.732195129980333, 18.118898502819707, 152.09022593678677, 24.107693475705595, 9.602097835586695, 32.46231359811032, 11.160534701070599, 104.542898943804, 21.889170045822, 18.548106412690693, 45.467421413711556, 29.25047540046587, 60.185593100954755, 162.6753749090658, 85.87363243347797, 34.74298333661758, 33.809459058133456, 64.31307603985638, 88.4115854207062, 114.66483622292004, 62.818133778075435, 49.26031113711406, 43.17830570278582, 215.7667986813008, 515.892381375188, 236.31363778000082, 94.40784520325855, 107.44855006643718, 98.23546525904202, 98.29848599842765, 296.973414108326, 695.2429863161334, 1618.8760949429306, 264.02126240035096, 355.35899148578244, 137.21963582402327, 183.38452893202737, 256.51700047540226, 490.9973170072947, 476.63957539271144, 257.0867589850551, 329.38477668342097, 260.4910928275247, 470.095582468287, 183.09685149876267, 215.12716801005686, 513.7719793642174, 766.1171426862451, 793.4599547927047, 1065.5492297739515, 593.5050452208675, 227.8841458095307, 375.91815491451575, 700.1963382474457, 304.189504803815, 787.66278746352, 501.104214077305, 681.1239951618278, 387.33966090463866, 384.1796533044819, 500.7968259459236, 562.1284119975329, 428.1620392425745, 430.3914879132722, 284.1811504557518, 344.16310920708713, 271.2947569035076, 280.7242273185157, 276.827537519958, 22.28896143246455, 24.308468257615008, 21.441848258659338, 20.896722817637087, 15.506856894555396, 38.512802386725156, 12.549074357579975, 12.501540470234385, 38.267184976596994, 10.528106741221995, 10.643598562892658, 16.058089923594927, 12.757667820643201, 10.729436205529241, 36.50829599518112, 11.485328080606434, 9.577873812871763, 9.202639682019694, 9.715556616019496, 11.826941684616399, 8.991022980516126, 16.30815081848225, 8.905259376371957, 10.664134255217844, 45.53915873590235, 8.442021683176577, 8.074051551080487, 10.26294904516669, 10.380448132631757, 16.367215907218174, 26.16077501303392, 14.35840588140066, 366.850228210226, 17.055470681437438, 49.80066863284249, 15.741514257377577, 61.23091442551934, 20.838892878988936, 15.588615368824078, 75.49501994707879, 83.23632018417015, 20.677101144846294, 30.4494887674734, 18.166524029422657, 341.7140331116773, 55.387928227991694, 25.26075134707668, 40.32701339976034, 31.939382978584124, 1240.9152183840183, 122.33255529285105, 195.1459856600223, 171.31378939591048, 505.6511442174354, 337.7425237630336, 1221.3611589468578, 457.15360946140413, 1281.248042042612, 884.8834664805587, 872.4812527611507, 202.3962485128371, 298.04551917302985, 450.46887846837853, 166.2556300214249, 229.36220505825682, 99.58831589273298, 221.88474040128474, 313.80549839537326, 130.7649143651602, 319.2326938212029, 172.0472734624971, 171.03884569150034, 656.6935798599405, 178.9739669495966, 538.3094245043859, 478.6509278286676, 626.7213690692959, 235.606954671205, 533.9318739607598, 266.4862239598006, 359.71887822751717, 376.2065500610404, 295.1072957254082, 298.5302715119501, 287.42400876037476, 279.9166090481831, 246.07830091866927, 284.1172757573552, 265.86093481013205, 253.64235535534377, 259.61020570751066, 22.091221328352326, 33.7441119765264, 13.414544813223177, 12.604257264598129, 18.97212706444328, 46.21876367052227, 12.39767753898809, 76.822329491886, 12.17074832412312, 11.809456177240909, 10.381129579617783, 17.33127029379797, 9.645448939362396, 9.831592434501584, 14.075476604937394, 7.6697229733172545, 17.666816859238494, 7.218149780348563, 6.795014300741127, 7.547567684606052, 7.1620550245693355, 6.699755097417322, 8.58348963830933, 10.710607414169907, 6.947259328698616, 27.566585523784003, 18.96322899280286, 7.366648376334798, 5.697058183637597, 5.6740713671404315, 11.081859818309306, 143.63214881811217, 22.540534518368034, 13.359457832661644, 15.810633694192333, 14.71731586647102, 11.98937717297257, 89.8953851778216, 178.47642960130457, 38.88383182551052, 27.31510539058752, 27.98078271536909, 82.22204273013094, 20.38037228202432, 28.25625704600218, 37.06750230639725, 49.240717235278545, 76.28989613743629, 31.036849234677344, 48.77950315043855, 124.000346921029, 175.91074429496783, 85.97522474509636, 135.45775756500484, 169.52230105581936, 76.19238008538554, 202.61155785708502, 122.99170113695016, 80.06551731640381, 225.46713016322394, 123.1452236264512, 116.11089583088119, 81.16643682886578, 84.14899726469005, 157.38543227352173, 133.34765605003832, 128.58837055717703, 137.45661583622294, 99.34086643789661, 101.243344178436, 104.96898349167716, 126.16896563736846, 95.78146745352345, 89.94772009616892, 89.92657416484055, 96.41140424311978, 91.3306463413793, 80.54339517737863], \"Total\": [4852.0, 3386.0, 6200.0, 1402.0, 3850.0, 306.0, 1377.0, 1674.0, 1620.0, 984.0, 642.0, 5267.0, 1416.0, 1224.0, 882.0, 3786.0, 424.0, 1178.0, 1493.0, 403.0, 1225.0, 1508.0, 527.0, 1554.0, 1692.0, 890.0, 171.0, 742.0, 376.0, 1586.0, 27.53378838410552, 26.51228821639935, 28.907300842428743, 31.34658068604535, 34.78901098998056, 25.15918971092232, 27.180320200373217, 18.911201387778988, 33.329941759353446, 21.24579643091064, 17.850198010271075, 66.76485254400326, 75.05249667493266, 25.779540925145266, 30.165505173825, 94.76525459705655, 14.4817314836176, 31.86811894041607, 14.114301362653359, 15.69500983147726, 17.066346458173296, 17.152070334165295, 17.7090874524594, 41.91108137878332, 20.075475472153325, 17.328824119882277, 15.820732150230391, 16.40465129981007, 32.73724933116557, 48.600583461990134, 46.44783051944699, 742.1635035154284, 81.29485550830647, 48.66315939548316, 50.18620812402477, 69.8346562092857, 1224.345420417324, 121.88179738259389, 108.74595169788141, 281.3059522539065, 414.58601097899117, 242.45992147161138, 85.40207838047797, 535.5399670610255, 435.0787823006634, 55.089403872124315, 684.0510570904739, 107.75912519341436, 169.5592918881865, 404.84469265286566, 852.0021755786317, 417.62620484986024, 138.6170208586635, 82.25207960439504, 168.99538479374377, 246.66969805438802, 154.01413772517472, 858.777072744274, 1586.9952636431076, 163.34808157818827, 248.29819847591108, 355.91224075729815, 1177.218804617321, 309.00598151011746, 1416.4000108378932, 259.7745129474311, 628.8745548309151, 1554.370783652935, 533.9118659509883, 1600.8436064137538, 4380.90995146004, 1062.0795256988424, 509.51842530114396, 690.0777916022158, 1502.6667355693917, 3119.037911288064, 1692.3402729230916, 1482.2943768879788, 1508.5479731551702, 2248.4385500319286, 2843.134257738855, 3786.6786926918626, 2006.633122973515, 1010.9406166848773, 1460.0933888404084, 1502.5521445131528, 1797.936209340197, 3769.928544512113, 4286.424085776458, 3850.0050689803156, 1701.0968816794664, 5267.13549014324, 1606.0619833092803, 6200.4748832167525, 54.52279342000773, 39.49239264215835, 21.655210706902782, 23.488629380384047, 44.46405857504314, 25.10038206512553, 19.579617704875087, 16.10751478407436, 18.424052652949584, 17.497608276978237, 18.37518472471055, 24.202918177054325, 27.392746951396084, 33.047163050051886, 13.657347569045173, 15.629087614418761, 14.122767924792267, 22.883061240125162, 13.154729930948685, 12.14153923291523, 18.00135862620391, 14.758293046945571, 11.910185129428134, 20.11699146684761, 13.634377969101298, 42.86528144208601, 17.55891816396443, 11.813796124873305, 11.536834253644443, 10.950745576193938, 47.00564085944992, 21.19870578995537, 54.41633383252612, 142.42173579110883, 175.37114486845817, 34.1524008235091, 45.29716085698295, 151.53369405868355, 34.602651732684336, 30.89347844445414, 22.691902665275876, 709.6429920257326, 480.4593608281182, 207.2552869739486, 69.87300454290462, 61.81102385347831, 641.5993675952801, 150.39428854032306, 71.85376626039432, 5267.13549014324, 609.6749403706486, 432.2117957051843, 199.1749675205537, 303.0371971662062, 169.54577038506383, 1410.7073519074008, 455.19743097994694, 6200.4748832167525, 412.2705020436281, 279.0266870586164, 2205.2051121561108, 224.01428796069547, 4286.424085776458, 1372.143733263847, 901.6146958915313, 843.4136492353464, 398.8174561542216, 908.6596628148139, 1402.004339562396, 1027.3614441302918, 4852.606126483689, 2533.908285040851, 1083.0121321936824, 1411.103639888951, 3769.928544512113, 1080.5102570869153, 585.346252544219, 4380.90995146004, 3850.0050689803156, 1780.5481099615736, 1265.6489850516962, 3386.404986517118, 1426.0600741603348, 1701.0968816794664, 1093.8858115194025, 2843.134257738855, 3119.037911288064, 2006.633122973515, 1797.936209340197, 3786.6786926918626, 1620.2181747272134, 1402.9477688211023, 1428.6836013211293, 69.93946752392081, 40.707616007490856, 35.12330402455757, 32.162342963478636, 22.97389698838317, 20.879166078024507, 233.32878267070066, 21.699646296284165, 19.041465627302923, 16.52325818891658, 14.092568638040904, 18.948627890872817, 14.530514972361212, 14.18707749576561, 26.206894147668457, 18.793688362804303, 30.251369612175548, 32.60443663593853, 13.175678602184442, 13.633604637875187, 18.4458805296043, 10.797078197732576, 16.317720068730655, 10.512721632715841, 19.6260187320945, 165.50862771015034, 26.24740951672083, 10.466214788397771, 35.40599179234922, 12.184940693961698, 115.7755443775717, 23.89882206313363, 20.273835876474376, 50.71152659083544, 32.32396695091484, 68.1619527359817, 195.0708802436905, 99.90518258983407, 39.009397858192045, 38.25376151958243, 76.51947310740621, 109.12531796276072, 146.74277262314578, 76.45193595028853, 58.935957802882875, 50.973854940306246, 314.150925020647, 882.5983244590898, 372.34607778444706, 134.74686811369835, 158.28690703205365, 142.6042327956885, 143.08922327600683, 562.8214655483619, 1674.5561182545407, 4852.606126483689, 504.7687449926181, 742.1754476885401, 223.02534674704103, 331.41203753209294, 514.7601617975588, 1225.3206363703098, 1178.4009975128388, 519.8339309412987, 752.3321763021827, 579.3311596402233, 1377.268681467019, 351.73781679217, 456.33218781470407, 1780.5350407155086, 3386.404986517118, 3769.928544512113, 6200.4748832167525, 2533.908285040851, 522.1531430499865, 1265.6489850516962, 3786.6786926918626, 890.6894771087461, 5267.13549014324, 2248.4385500319286, 4286.424085776458, 1426.0600741603348, 1493.1386076500107, 2843.134257738855, 3850.0050689803156, 2205.2051121561108, 4380.90995146004, 869.935571601202, 3119.037911288064, 748.1347057448232, 1606.0619833092803, 1214.8050349157722, 23.10392499768073, 25.274525742086087, 22.310921107850227, 22.162628563308317, 16.458205386414935, 40.89971052713914, 13.355313511161711, 13.308606924835912, 40.758521208674594, 11.320836135873718, 11.482123301407773, 17.33990552946723, 13.788854048722651, 11.598522041975025, 39.5082003183033, 12.461148572608785, 10.394299001731532, 9.99467588269442, 10.561712125573852, 12.908749565675565, 9.828155361963857, 17.8457639154185, 9.745044639531825, 11.673571496484913, 49.859576306705414, 9.259933938592157, 8.86684958662409, 11.288209491581647, 11.419513304943017, 18.02403388139797, 29.025437534189944, 15.842128634677549, 424.7247053049621, 18.921199999747984, 57.282741693393476, 17.53467184110334, 73.3585649625872, 23.668892002199463, 17.41484904453727, 94.32387295621729, 105.71503882604034, 23.649934233014932, 36.3518609607072, 20.618548538021784, 527.7531042027814, 72.00122573610159, 29.96131248259878, 52.123077402673715, 41.01754966488249, 3386.404986517118, 208.73184029452926, 380.4389288637739, 359.7077325580055, 1493.1386076500107, 890.6894771087461, 4852.606126483689, 1377.268681467019, 6200.4748832167525, 3786.6786926918626, 3850.0050689803156, 519.3087330433967, 911.9279572016056, 1674.5561182545407, 403.6271281504862, 651.430978568172, 200.6284778081743, 641.7951666243883, 1078.8085064223992, 302.61025020352827, 1238.2562698155702, 464.95035165858, 461.2557938719026, 4286.424085776458, 514.7601617975588, 3769.928544512113, 3119.037911288064, 5267.13549014324, 876.6880383513143, 4380.90995146004, 1178.4009975128388, 2248.4385500319286, 2533.908285040851, 1554.370783652935, 1600.8436064137538, 1502.6667355693917, 1428.6836013211293, 1033.524507439534, 2205.2051121561108, 1692.3402729230916, 1780.5350407155086, 2843.134257738855, 23.206340872649644, 35.87337571635377, 14.289586147166052, 13.439855782095577, 20.27590785088403, 49.48487029572288, 13.305577202953696, 82.44821256104315, 13.066581187497906, 12.745824904316075, 11.221451759536118, 18.792105867916614, 10.471924271350314, 10.727583897099768, 15.425243473324398, 8.52036212730021, 19.686549268995734, 8.0607545704981, 7.602318623392252, 8.44620857198878, 8.025033144709134, 7.516338424822379, 9.631910044090576, 12.039431069394269, 7.880181935115546, 31.30468754029324, 21.568501976806132, 8.378885961095841, 6.512323670746635, 6.491262105937549, 12.681678153474909, 171.02062715056303, 26.198370881289925, 15.426604972799264, 18.38231889834337, 17.171205322199786, 14.016085299950511, 134.85174009809367, 306.83284521464634, 54.753459552031224, 37.05067492967019, 38.455278536151155, 163.8925481292859, 27.96954860351787, 44.88956458461408, 65.44456457556612, 96.81771265684975, 193.74623268418696, 56.61518494619922, 116.0798391366742, 642.0848559220135, 1402.9477688211023, 403.62161191358217, 984.4711942993802, 1620.2181747272134, 376.0935567323787, 3850.0050689803156, 1416.4000108378932, 549.4538693144184, 6200.4748832167525, 1692.3402729230916, 1508.5479731551702, 631.617684036017, 797.5589762868295, 4380.90995146004, 3119.037911288064, 2843.134257738855, 3786.6786926918626, 1428.6836013211293, 1554.370783652935, 1797.936209340197, 3769.928544512113, 1780.5350407155086, 1460.0933888404084, 2006.633122973515, 5267.13549014324, 4286.424085776458, 1372.143733263847], \"Category\": [\"Default\", \"Default\", \"Default\", \"Default\", \"Default\", \"Default\", \"Default\", \"Default\", \"Default\", \"Default\", \"Default\", \"Default\", \"Default\", \"Default\", \"Default\", \"Default\", \"Default\", \"Default\", \"Default\", \"Default\", \"Default\", \"Default\", \"Default\", \"Default\", \"Default\", \"Default\", \"Default\", \"Default\", \"Default\", \"Default\", \"Topic1\", \"Topic1\", \"Topic1\", \"Topic1\", \"Topic1\", \"Topic1\", \"Topic1\", \"Topic1\", \"Topic1\", \"Topic1\", \"Topic1\", \"Topic1\", \"Topic1\", \"Topic1\", \"Topic1\", \"Topic1\", \"Topic1\", \"Topic1\", \"Topic1\", \"Topic1\", \"Topic1\", \"Topic1\", \"Topic1\", \"Topic1\", \"Topic1\", \"Topic1\", \"Topic1\", \"Topic1\", \"Topic1\", \"Topic1\", \"Topic1\", \"Topic1\", \"Topic1\", \"Topic1\", \"Topic1\", \"Topic1\", \"Topic1\", \"Topic1\", \"Topic1\", \"Topic1\", \"Topic1\", \"Topic1\", \"Topic1\", \"Topic1\", \"Topic1\", \"Topic1\", \"Topic1\", \"Topic1\", \"Topic1\", \"Topic1\", \"Topic1\", \"Topic1\", \"Topic1\", \"Topic1\", \"Topic1\", \"Topic1\", \"Topic1\", \"Topic1\", \"Topic1\", \"Topic1\", \"Topic1\", \"Topic1\", \"Topic1\", \"Topic1\", \"Topic1\", \"Topic1\", \"Topic1\", \"Topic1\", \"Topic1\", \"Topic1\", \"Topic1\", \"Topic1\", \"Topic1\", \"Topic1\", \"Topic1\", \"Topic1\", \"Topic1\", \"Topic1\", \"Topic1\", \"Topic1\", \"Topic1\", \"Topic1\", \"Topic1\", \"Topic1\", \"Topic1\", \"Topic1\", \"Topic1\", \"Topic1\", \"Topic1\", \"Topic1\", \"Topic1\", \"Topic1\", \"Topic1\", \"Topic1\", \"Topic2\", \"Topic2\", \"Topic2\", \"Topic2\", \"Topic2\", \"Topic2\", \"Topic2\", \"Topic2\", \"Topic2\", \"Topic2\", \"Topic2\", \"Topic2\", \"Topic2\", \"Topic2\", \"Topic2\", \"Topic2\", \"Topic2\", \"Topic2\", \"Topic2\", \"Topic2\", \"Topic2\", \"Topic2\", \"Topic2\", \"Topic2\", \"Topic2\", \"Topic2\", \"Topic2\", \"Topic2\", \"Topic2\", \"Topic2\", \"Topic2\", \"Topic2\", \"Topic2\", \"Topic2\", \"Topic2\", \"Topic2\", \"Topic2\", \"Topic2\", \"Topic2\", \"Topic2\", \"Topic2\", \"Topic2\", \"Topic2\", \"Topic2\", \"Topic2\", \"Topic2\", \"Topic2\", \"Topic2\", \"Topic2\", \"Topic2\", \"Topic2\", \"Topic2\", \"Topic2\", \"Topic2\", \"Topic2\", \"Topic2\", \"Topic2\", \"Topic2\", \"Topic2\", \"Topic2\", \"Topic2\", \"Topic2\", \"Topic2\", \"Topic2\", \"Topic2\", \"Topic2\", \"Topic2\", \"Topic2\", \"Topic2\", \"Topic2\", \"Topic2\", \"Topic2\", \"Topic2\", \"Topic2\", \"Topic2\", \"Topic2\", \"Topic2\", \"Topic2\", \"Topic2\", \"Topic2\", \"Topic2\", \"Topic2\", \"Topic2\", \"Topic2\", \"Topic2\", \"Topic2\", \"Topic2\", \"Topic2\", \"Topic2\", \"Topic2\", \"Topic2\", \"Topic2\", \"Topic2\", \"Topic3\", \"Topic3\", \"Topic3\", \"Topic3\", \"Topic3\", \"Topic3\", \"Topic3\", \"Topic3\", \"Topic3\", \"Topic3\", \"Topic3\", \"Topic3\", \"Topic3\", \"Topic3\", \"Topic3\", \"Topic3\", \"Topic3\", \"Topic3\", \"Topic3\", \"Topic3\", \"Topic3\", \"Topic3\", \"Topic3\", \"Topic3\", \"Topic3\", \"Topic3\", \"Topic3\", \"Topic3\", \"Topic3\", \"Topic3\", \"Topic3\", \"Topic3\", \"Topic3\", \"Topic3\", \"Topic3\", \"Topic3\", \"Topic3\", \"Topic3\", \"Topic3\", \"Topic3\", \"Topic3\", \"Topic3\", \"Topic3\", \"Topic3\", \"Topic3\", \"Topic3\", \"Topic3\", \"Topic3\", \"Topic3\", \"Topic3\", \"Topic3\", \"Topic3\", \"Topic3\", \"Topic3\", \"Topic3\", \"Topic3\", \"Topic3\", \"Topic3\", \"Topic3\", \"Topic3\", \"Topic3\", \"Topic3\", \"Topic3\", \"Topic3\", \"Topic3\", \"Topic3\", \"Topic3\", \"Topic3\", \"Topic3\", \"Topic3\", \"Topic3\", \"Topic3\", \"Topic3\", \"Topic3\", \"Topic3\", \"Topic3\", \"Topic3\", \"Topic3\", \"Topic3\", \"Topic3\", \"Topic3\", \"Topic3\", \"Topic3\", \"Topic3\", \"Topic3\", \"Topic3\", \"Topic3\", \"Topic3\", \"Topic3\", \"Topic3\", \"Topic3\", \"Topic3\", \"Topic4\", \"Topic4\", \"Topic4\", \"Topic4\", \"Topic4\", \"Topic4\", \"Topic4\", \"Topic4\", \"Topic4\", \"Topic4\", \"Topic4\", \"Topic4\", \"Topic4\", \"Topic4\", \"Topic4\", \"Topic4\", \"Topic4\", \"Topic4\", \"Topic4\", \"Topic4\", \"Topic4\", \"Topic4\", \"Topic4\", \"Topic4\", \"Topic4\", \"Topic4\", \"Topic4\", \"Topic4\", \"Topic4\", \"Topic4\", \"Topic4\", \"Topic4\", \"Topic4\", \"Topic4\", \"Topic4\", \"Topic4\", \"Topic4\", \"Topic4\", \"Topic4\", \"Topic4\", \"Topic4\", \"Topic4\", \"Topic4\", \"Topic4\", \"Topic4\", \"Topic4\", \"Topic4\", \"Topic4\", \"Topic4\", \"Topic4\", \"Topic4\", \"Topic4\", \"Topic4\", \"Topic4\", \"Topic4\", \"Topic4\", \"Topic4\", \"Topic4\", \"Topic4\", \"Topic4\", \"Topic4\", \"Topic4\", \"Topic4\", \"Topic4\", \"Topic4\", \"Topic4\", \"Topic4\", \"Topic4\", \"Topic4\", \"Topic4\", \"Topic4\", \"Topic4\", \"Topic4\", \"Topic4\", \"Topic4\", \"Topic4\", \"Topic4\", \"Topic4\", \"Topic4\", \"Topic4\", \"Topic4\", \"Topic4\", \"Topic4\", \"Topic4\", \"Topic4\", \"Topic4\", \"Topic4\", \"Topic4\", \"Topic4\", \"Topic4\", \"Topic4\", \"Topic5\", \"Topic5\", \"Topic5\", \"Topic5\", \"Topic5\", \"Topic5\", \"Topic5\", \"Topic5\", \"Topic5\", \"Topic5\", \"Topic5\", \"Topic5\", \"Topic5\", \"Topic5\", \"Topic5\", \"Topic5\", \"Topic5\", \"Topic5\", \"Topic5\", \"Topic5\", \"Topic5\", \"Topic5\", \"Topic5\", \"Topic5\", \"Topic5\", \"Topic5\", \"Topic5\", \"Topic5\", \"Topic5\", \"Topic5\", \"Topic5\", \"Topic5\", \"Topic5\", \"Topic5\", \"Topic5\", \"Topic5\", \"Topic5\", \"Topic5\", \"Topic5\", \"Topic5\", \"Topic5\", \"Topic5\", \"Topic5\", \"Topic5\", \"Topic5\", \"Topic5\", \"Topic5\", \"Topic5\", \"Topic5\", \"Topic5\", \"Topic5\", \"Topic5\", \"Topic5\", \"Topic5\", \"Topic5\", \"Topic5\", \"Topic5\", \"Topic5\", \"Topic5\", \"Topic5\", \"Topic5\", \"Topic5\", \"Topic5\", \"Topic5\", \"Topic5\", \"Topic5\", \"Topic5\", \"Topic5\", \"Topic5\", \"Topic5\", \"Topic5\", \"Topic5\", \"Topic5\", \"Topic5\", \"Topic5\", \"Topic5\", \"Topic5\", \"Topic5\"], \"logprob\": [30.0, 29.0, 28.0, 27.0, 26.0, 25.0, 24.0, 23.0, 22.0, 21.0, 20.0, 19.0, 18.0, 17.0, 16.0, 15.0, 14.0, 13.0, 12.0, 11.0, 10.0, 9.0, 8.0, 7.0, 6.0, 5.0, 4.0, 3.0, 2.0, 1.0, -8.6753, -8.7142, -8.6292, -8.5492, -8.4478, -8.7735, -8.6999, -9.0646, -8.5011, -8.9517, -9.1272, -7.8088, -7.6927, -8.7656, -8.609, -7.4658, -9.3446, -8.5565, -9.3712, -9.2653, -9.1828, -9.1781, -9.1472, -8.2861, -9.0224, -9.1696, -9.2611, -9.2257, -8.5353, -8.1403, -8.1937, -5.4575, -7.6408, -8.1507, -8.1249, -7.8021, -5.0173, -7.2578, -7.3737, -6.4576, -6.0974, -6.6239, -7.6183, -5.8803, -6.0805, -8.0424, -5.6894, -7.4135, -6.9983, -6.2014, -5.5175, -6.1832, -7.1971, -7.6767, -7.0226, -6.6853, -7.1147, -5.569, -5.0399, -7.0655, -6.6946, -6.3804, -5.3565, -6.512, -5.275, -6.6857, -5.962, -5.2202, -6.1032, -5.2293, -4.4252, -5.5699, -6.1613, -5.9306, -5.3347, -4.7829, -5.2547, -5.3664, -5.3758, -5.1005, -4.936, -4.7607, -5.2286, -5.6823, -5.4606, -5.4433, -5.3986, -5.0417, -4.9816, -5.0832, -5.4901, -5.1271, -5.5389, -5.1664, -7.8664, -8.1928, -8.8125, -8.7341, -8.0962, -8.6735, -8.9227, -9.1196, -8.9871, -9.0398, -8.991, -8.7206, -8.5968, -8.4101, -9.2946, -9.1613, -9.2633, -8.7826, -9.3379, -9.4191, -9.0256, -9.2248, -9.4415, -8.9176, -9.3067, -8.1625, -9.0565, -9.4541, -9.4783, -9.5309, -8.0775, -8.8718, -7.9393, -6.9948, -6.8088, -8.4156, -8.1451, -6.9929, -8.4107, -8.5201, -8.8152, -5.5978, -5.9861, -6.7728, -7.7812, -7.8952, -5.7708, -7.0899, -7.7624, -3.902, -5.856, -6.1801, -6.8659, -6.5079, -7.0218, -5.202, -6.1776, -3.9352, -6.2737, -6.6158, -4.8677, -6.8073, -4.3635, -5.3306, -5.6873, -5.7673, -6.3678, -5.718, -5.3811, -5.6266, -4.4293, -4.9315, -5.5919, -5.3955, -4.6794, -5.614, -6.0725, -4.6169, -4.7251, -5.2736, -5.5139, -4.8499, -5.4577, -5.3439, -5.6424, -5.1295, -5.1026, -5.34, -5.4856, -5.2661, -5.6003, -5.6285, -5.6276, -7.153, -7.704, -7.8587, -7.9507, -8.2949, -8.3914, -5.98, -8.3563, -8.4982, -8.6402, -8.7997, -8.5048, -8.7707, -8.7948, -8.1816, -8.5147, -8.0388, -7.9643, -8.8722, -8.8396, -8.5433, -9.0851, -8.6723, -9.1138, -8.4923, -6.3648, -8.2067, -9.1273, -7.9092, -8.9769, -6.7397, -8.3033, -8.4689, -7.5723, -8.0134, -7.2918, -6.2975, -6.9364, -7.8413, -7.8685, -7.2255, -6.9073, -6.6473, -7.249, -7.4921, -7.6239, -6.0151, -5.1434, -5.9241, -6.8416, -6.7123, -6.8019, -6.8013, -5.6956, -4.845, -3.9998, -5.8132, -5.5161, -6.4677, -6.1777, -5.8421, -5.1928, -5.2225, -5.8399, -5.592, -5.8267, -5.2363, -6.1793, -6.018, -5.1475, -4.7479, -4.7129, -4.418, -5.0032, -5.9604, -5.4599, -4.8379, -5.6716, -4.7202, -5.1725, -4.8655, -5.43, -5.4382, -5.1731, -5.0575, -5.3298, -5.3246, -5.7397, -5.5482, -5.7861, -5.7519, -5.7659, -8.1951, -8.1084, -8.2339, -8.2596, -8.558, -7.6482, -8.7696, -8.7734, -7.6546, -8.9452, -8.9343, -8.523, -8.7531, -8.9262, -7.7017, -8.8582, -9.0398, -9.0797, -9.0255, -8.8289, -9.103, -8.5076, -9.1126, -8.9324, -7.4807, -9.166, -9.2106, -8.9707, -8.9593, -8.504, -8.035, -8.6349, -5.3943, -8.4628, -7.3912, -8.5429, -7.1846, -8.2624, -8.5527, -6.9752, -6.8776, -8.2702, -7.8832, -8.3997, -5.4653, -7.2849, -8.07, -7.6022, -7.8354, -4.1756, -6.4925, -6.0255, -6.1557, -5.0734, -5.477, -4.1915, -5.1742, -4.1436, -4.5138, -4.5279, -5.989, -5.602, -5.1889, -6.1857, -5.8639, -6.6982, -5.8971, -5.5505, -6.4258, -5.5333, -6.1515, -6.1573, -4.812, -6.112, -5.0108, -5.1283, -4.8587, -5.8371, -5.019, -5.7139, -5.4139, -5.3691, -5.6119, -5.6004, -5.6383, -5.6647, -5.7936, -5.6499, -5.7163, -5.7633, -5.7401, -7.1119, -6.6883, -7.6108, -7.6731, -7.2641, -6.3737, -7.6896, -5.8656, -7.7081, -7.7382, -7.8671, -7.3546, -7.9406, -7.9215, -7.5627, -8.1698, -7.3354, -8.2305, -8.2909, -8.1859, -8.2383, -8.305, -8.0572, -7.8359, -8.2687, -6.8905, -7.2646, -8.2101, -8.4671, -8.4712, -7.8018, -5.2398, -7.0918, -7.6149, -7.4464, -7.5181, -7.7231, -5.7084, -5.0226, -6.5465, -6.8996, -6.8756, -5.7977, -7.1925, -6.8658, -6.5943, -6.3104, -5.8725, -6.7719, -6.3198, -5.3868, -5.0371, -5.753, -5.2984, -5.0741, -5.8738, -4.8958, -5.395, -5.8242, -4.7889, -5.3937, -5.4525, -5.8106, -5.7745, -5.1484, -5.3141, -5.3505, -5.2838, -5.6085, -5.5896, -5.5534, -5.3695, -5.645, -5.7079, -5.7081, -5.6385, -5.6926, -5.8183], \"loglift\": [30.0, 29.0, 28.0, 27.0, 26.0, 25.0, 24.0, 23.0, 22.0, 21.0, 20.0, 19.0, 18.0, 17.0, 16.0, 15.0, 14.0, 13.0, 12.0, 11.0, 10.0, 9.0, 8.0, 7.0, 6.0, 5.0, 4.0, 3.0, 2.0, 1.0, 1.1172, 1.1162, 1.1147, 1.1137, 1.1109, 1.1093, 1.1056, 1.1036, 1.1005, 1.1001, 1.0988, 1.098, 1.0971, 1.0928, 1.0924, 1.0908, 1.0905, 1.0899, 1.0896, 1.0893, 1.0881, 1.0877, 1.0868, 1.0863, 1.0861, 1.086, 1.0855, 1.0848, 1.0842, 1.084, 1.076, 1.0409, 1.0691, 1.0724, 1.0673, 1.0598, 0.9805, 1.0472, 1.0453, 1.0109, 0.9833, 0.9932, 1.0423, 0.9444, 0.952, 1.0567, 0.8905, 1.0146, 0.9765, 0.9031, 0.8429, 0.8903, 0.9792, 1.0215, 0.9556, 0.9147, 0.9562, 0.7835, 0.6985, 0.9466, 0.8988, 0.8529, 0.6806, 0.8626, 0.5772, 0.8625, 0.7021, 0.539, 0.7245, 0.5004, 0.2978, 0.5702, 0.7132, 0.6406, 0.4583, 0.2798, 0.4195, 0.4403, 0.4133, 0.2895, 0.2194, 0.1081, 0.2752, 0.5071, 0.3611, 0.3498, 0.215, -0.1685, -0.2368, -0.2311, 0.1789, -0.5883, 0.1875, -0.7908, 1.243, 1.2391, 1.2202, 1.2174, 1.2171, 1.2116, 1.2108, 1.2091, 1.2072, 1.2061, 1.206, 1.201, 1.2009, 1.2, 1.1992, 1.1975, 1.1969, 1.195, 1.1933, 1.1923, 1.1919, 1.1914, 1.1891, 1.1889, 1.1887, 1.1874, 1.1859, 1.1846, 1.1841, 1.1837, 1.1803, 1.1823, 1.172, 1.1544, 1.1323, 1.1615, 1.1497, 1.0943, 1.1534, 1.1573, 1.1708, 0.9454, 0.9472, 1.0012, 1.0801, 1.0887, 0.8733, 1.0048, 1.071, 0.6367, 0.8391, 0.859, 0.9479, 0.8862, 0.9531, 0.6541, 0.8096, 0.4404, 0.8126, 0.8609, 0.5417, 0.889, 0.3813, 0.5532, 0.6166, 0.6032, 0.7516, 0.578, 0.4813, 0.5467, 0.1914, 0.339, 0.5286, 0.4603, 0.1938, 0.5088, 0.6633, 0.1061, 0.1271, 0.3498, 0.4507, 0.1305, 0.3876, 0.3251, 0.4681, 0.0258, -0.0399, 0.1638, 0.128, -0.3973, 0.1173, 0.2332, 0.2159, 1.7074, 1.6976, 1.6904, 1.6865, 1.6788, 1.6779, 1.6756, 1.6744, 1.6632, 1.6631, 1.6627, 1.6615, 1.661, 1.6609, 1.6604, 1.6597, 1.6597, 1.6593, 1.6574, 1.6559, 1.6499, 1.6436, 1.6434, 1.6416, 1.6388, 1.6342, 1.6337, 1.6326, 1.6319, 1.6309, 1.6167, 1.6309, 1.6298, 1.6096, 1.6188, 1.5943, 1.5371, 1.5674, 1.6029, 1.5952, 1.545, 1.5082, 1.4721, 1.5223, 1.5394, 1.5528, 1.3431, 1.1818, 1.2641, 1.363, 1.3313, 1.346, 1.3433, 1.0794, 0.8397, 0.621, 1.0707, 0.9823, 1.233, 1.127, 1.0222, 0.8042, 0.8136, 1.0146, 0.8928, 0.9194, 0.6438, 1.0659, 0.9667, 0.4758, 0.2325, 0.1603, -0.0424, 0.2673, 0.8896, 0.5048, 0.0309, 0.6444, -0.1814, 0.2176, -0.1207, 0.4154, 0.3612, -0.0177, -0.2054, 0.0797, -0.6016, 0.5999, -0.4854, 0.7044, -0.0254, 0.2398, 1.7729, 1.7698, 1.769, 1.7499, 1.7492, 1.7486, 1.7465, 1.7462, 1.7457, 1.7362, 1.7329, 1.732, 1.731, 1.7309, 1.7298, 1.7272, 1.727, 1.7262, 1.7253, 1.7212, 1.7197, 1.7187, 1.7186, 1.7183, 1.7181, 1.7163, 1.7151, 1.7135, 1.7134, 1.7123, 1.7049, 1.7104, 1.6623, 1.705, 1.6688, 1.7009, 1.6281, 1.6814, 1.698, 1.5861, 1.5697, 1.6744, 1.6316, 1.6822, 1.3741, 1.5464, 1.6381, 1.5522, 1.5586, 0.8048, 1.2745, 1.1412, 1.067, 0.726, 0.8391, 0.4292, 0.7059, 0.232, 0.355, 0.3243, 0.8665, 0.6904, 0.4957, 0.9218, 0.7649, 1.1084, 0.7467, 0.5739, 0.9697, 0.4532, 0.8146, 0.8167, -0.0672, 0.7523, -0.1376, -0.0655, -0.32, 0.4948, -0.296, 0.3222, -0.0239, -0.0986, 0.1473, 0.1293, 0.1547, 0.1787, 0.3737, -0.2404, -0.0421, -0.14, -0.5847, 2.8517, 2.8397, 2.8377, 2.8367, 2.8345, 2.8326, 2.8302, 2.8302, 2.8299, 2.8246, 2.8231, 2.82, 2.8187, 2.8137, 2.8093, 2.7957, 2.7927, 2.7905, 2.7886, 2.7884, 2.7871, 2.7859, 2.7857, 2.784, 2.7749, 2.7737, 2.7722, 2.7722, 2.7672, 2.7664, 2.7661, 2.7264, 2.7505, 2.757, 2.7502, 2.7467, 2.7447, 2.4954, 2.3591, 2.5587, 2.5961, 2.5829, 2.2111, 2.5844, 2.438, 2.3325, 2.2248, 1.9689, 2.2998, 2.0339, 1.2565, 0.8246, 1.3545, 0.9175, 0.6436, 1.3043, -0.0436, 0.4572, 0.9748, -0.4133, 0.2804, 0.3366, 0.8491, 0.6519, -0.4254, -0.2514, -0.1951, -0.415, 0.235, 0.1696, 0.0602, -0.4963, -0.0217, 0.1139, -0.2043, -1.0997, -0.9478, 0.0656]}, \"token.table\": {\"Topic\": [1, 2, 3, 4, 5, 2, 3, 4, 1, 2, 3, 4, 5, 5, 1, 4, 3, 1, 2, 3, 4, 5, 3, 4, 5, 1, 2, 3, 4, 5, 1, 2, 3, 4, 5, 1, 2, 3, 4, 5, 1, 1, 1, 2, 3, 4, 5, 1, 2, 3, 4, 5, 1, 2, 3, 4, 5, 1, 2, 4, 5, 1, 2, 3, 4, 4, 1, 2, 3, 4, 5, 1, 2, 3, 4, 5, 1, 2, 3, 4, 5, 4, 3, 4, 1, 2, 3, 1, 2, 3, 4, 5, 1, 2, 4, 1, 2, 3, 4, 5, 1, 2, 4, 5, 1, 2, 3, 4, 5, 1, 2, 3, 4, 5, 1, 2, 3, 3, 1, 2, 3, 4, 5, 2, 1, 2, 3, 4, 5, 1, 2, 5, 3, 4, 5, 1, 2, 3, 4, 5, 3, 1, 2, 3, 4, 3, 5, 1, 2, 3, 4, 5, 4, 1, 2, 3, 4, 5, 1, 2, 3, 4, 5, 3, 1, 2, 5, 1, 2, 3, 4, 5, 1, 2, 3, 4, 5, 1, 2, 3, 4, 5, 1, 2, 3, 4, 5, 1, 2, 3, 4, 5, 4, 2, 1, 2, 3, 4, 5, 1, 2, 3, 4, 5, 1, 2, 3, 4, 5, 3, 1, 2, 3, 4, 5, 1, 2, 3, 4, 5, 2, 1, 2, 3, 4, 1, 2, 3, 4, 5, 1, 2, 3, 4, 5, 1, 2, 3, 4, 5, 5, 3, 2, 4, 1, 2, 3, 4, 5, 1, 2, 3, 4, 5, 2, 3, 5, 1, 2, 3, 4, 5, 1, 2, 3, 4, 5, 1, 2, 3, 4, 5, 1, 2, 3, 4, 5, 5, 4, 3, 1, 2, 3, 4, 1, 2, 3, 4, 5, 1, 2, 3, 4, 5, 3, 1, 2, 3, 4, 5, 1, 2, 3, 4, 5, 1, 2, 3, 4, 1, 2, 3, 4, 5, 1, 2, 3, 4, 5, 3, 4, 1, 2, 3, 4, 5, 1, 3, 1, 5, 1, 2, 5, 1, 2, 3, 4, 5, 1, 2, 3, 4, 5, 1, 2, 3, 4, 5, 5, 1, 2, 3, 4, 5, 1, 2, 3, 4, 5, 1, 2, 3, 4, 5, 1, 5, 1, 2, 3, 4, 5, 2, 1, 2, 5, 1, 2, 3, 4, 5, 3, 1, 3, 5, 1, 2, 3, 4, 5, 1, 2, 3, 4, 5, 2, 1, 1, 2, 3, 4, 5, 1, 2, 3, 4, 5, 2, 3, 1, 2, 3, 5, 3, 5, 1, 2, 3, 4, 5, 5, 1, 3, 4, 5, 3, 1, 4, 5, 1, 2, 3, 4, 5, 1, 1, 3, 5, 1, 1, 2, 3, 4, 5, 1, 2, 3, 4, 5, 1, 2, 3, 4, 5, 1, 2, 3, 4, 5, 5, 1, 2, 3, 4, 5, 1, 2, 3, 4, 5, 1, 2, 3, 4, 5, 3, 3, 1, 2, 3, 4, 5, 3, 5, 1, 2, 4, 1, 2, 3, 4, 5, 2, 1, 2, 3, 4, 5, 1, 2, 3, 4, 5, 1, 2, 3, 1, 2, 3, 4, 5, 1, 4, 5, 1, 2, 3, 4, 5, 1, 2, 3, 4, 5, 1, 2, 3, 4, 5, 1, 2, 3, 4, 3, 5, 2, 1, 2, 3, 4, 5, 3, 1, 2, 3, 4, 5, 2, 3, 1, 2, 3, 4, 5, 4, 2, 1, 2, 3, 4, 5, 1, 2, 3, 4, 5, 1, 3, 5, 2, 1, 2, 3, 4, 5, 2, 5, 1, 3, 4, 2, 3, 3, 3, 4, 1, 2, 3, 4, 5, 4, 1, 4, 1, 2, 3, 4, 5, 1, 2, 3, 4, 5, 1, 2, 3, 4, 5, 1, 2, 1, 1, 2, 3, 4, 5, 4, 4, 5, 1, 2, 3, 4, 5, 4, 1, 2, 3, 4, 5, 1, 2, 3, 4, 5, 1, 2, 3, 4, 5, 1, 2, 3, 4, 5, 1, 2, 3, 4, 5, 2, 3, 4, 1, 2, 3, 1, 2, 3, 4, 5, 1, 2, 3, 4, 5, 1, 2, 3, 4, 5, 2, 2, 3, 4, 2, 3, 4, 1, 2, 3, 4, 3, 4, 5, 1, 2, 3, 4, 5, 1, 2, 3, 4, 1, 2, 1, 2, 3, 4, 5, 5, 1, 2, 3, 4, 5, 1, 2, 3, 4, 5, 1, 2, 3, 4, 4, 1, 2, 1, 2, 3, 4, 5, 1, 2, 3, 4, 5, 1, 2, 3, 4, 5, 2, 3, 4, 5, 2, 4, 1, 2, 3, 4, 5, 5, 1, 2, 3, 4, 5, 3, 4, 5, 1, 2, 3, 4, 5, 1, 2, 3, 4, 5, 1, 5, 3, 1, 2, 3, 4, 5, 1, 2, 3, 4, 5, 1, 2, 3, 4, 5, 4, 1, 2, 3, 4, 3, 5, 1, 2, 3, 4, 5, 2, 4, 4, 1, 2, 3, 4, 5, 1, 2, 3, 4, 5, 1, 1, 5, 1, 2, 3, 4, 5, 1, 2, 3, 4, 1, 2, 3, 4, 5, 1, 2, 3, 4, 5, 1, 2, 3, 4, 5, 1, 2, 3, 4, 5, 1, 2, 3, 4, 5, 1, 2, 3, 4, 2, 3, 4, 5, 2, 5, 1, 2, 3, 4, 5, 1, 2, 3, 4, 5, 1, 2, 4, 5, 1, 2, 3, 4, 5, 4, 2, 3, 4, 1, 2, 3, 4, 5, 1, 2, 3, 4, 5, 2, 3, 2, 5, 2, 1, 2, 4, 5, 1, 2, 3, 4, 5, 2, 4, 2, 1, 2, 3, 4, 5, 1, 2, 3, 4, 5, 5, 1, 2, 3, 4, 5, 1, 2, 3, 4, 5, 1, 2, 3, 4, 5, 1, 1, 2, 3, 4, 5, 1, 2, 3, 5, 2, 5, 1, 1, 2, 3, 4, 5, 1, 2, 3, 4, 5, 1, 2, 3, 4, 5, 1, 2, 3, 4, 5, 4, 2, 2, 3, 4, 4, 1, 2, 3, 4, 5, 1, 2, 3, 4, 5, 1, 2, 3, 4, 5, 1, 4, 5, 1, 2, 3, 4, 5, 1, 2, 3, 4, 5, 2, 3, 4, 1, 2, 3, 4, 5, 1, 2, 3, 4, 5, 1, 2, 4, 1, 2, 3, 4, 1, 1, 2, 3, 4, 5, 4, 1, 2, 3, 4, 5, 1, 4, 2, 1, 2, 3, 4, 5, 1, 2, 3, 4, 5, 1, 2, 3, 4, 5, 1, 2, 3, 4, 5, 1, 2, 3, 4, 5, 1, 2, 3, 4, 5, 1, 2, 3, 4, 5, 1, 5, 1, 2, 3, 4, 5, 1, 2, 3, 4, 5, 1, 2, 3, 4, 1, 2, 3, 4, 1, 2, 3, 4, 5, 1, 2, 3, 4, 5, 1, 2, 3, 4, 5, 1, 2, 3, 4, 5, 1, 2, 3, 4, 5, 2, 3, 2, 1, 2, 3, 4, 5, 1, 2, 3, 4, 5, 5, 1, 2, 3, 4, 1, 2, 3, 4, 5, 1, 4, 5, 1, 2, 3, 4, 5, 2, 1, 2, 3, 1, 2, 1, 2, 3, 4, 5, 1, 1, 2, 3, 4, 5, 1, 2, 3, 4, 1, 2, 3, 4, 5, 1, 4, 2, 3, 4, 1, 2, 3, 4, 5, 1, 3, 1, 2, 3, 4, 5, 1, 1, 2, 3, 4, 5, 1, 2, 3, 4, 2, 1, 2, 3, 4, 5, 1, 2, 3, 4, 5, 1, 2, 3, 4, 5, 1, 2, 3, 4, 5, 1, 2, 3, 4, 5, 1, 1, 2, 3, 4, 5, 1, 2, 3, 4, 5, 4, 1, 2, 3, 4, 5, 1, 4, 5, 1, 1, 2, 3, 4, 5, 3, 4, 2], \"Freq\": [0.4247392040073493, 0.16144537283211288, 0.22282129969390785, 0.16011111355250865, 0.031132716524098904, 0.05285077056493876, 0.05285077056493876, 0.8984630996039589, 0.4022956784418148, 0.16685074221089094, 0.10567213673356425, 0.29106185030122084, 0.034297097010016465, 0.9549343311580822, 0.9773201086340798, 0.028744709077472938, 0.9512284591346698, 0.19094209567739248, 0.49338854493738443, 0.19822996192462122, 0.05903171660255264, 0.05903171660255264, 0.058237030029985745, 0.058237030029985745, 0.8735554504497862, 0.794584829616097, 0.060810063491027834, 0.05675605925829264, 0.060810063491027834, 0.02837802962914632, 0.02413913525764828, 0.256478312112513, 0.5521827190187044, 0.1538869872675078, 0.009052175721618105, 0.8490397424862397, 0.03135658139863953, 0.007236134168916815, 0.02412044722972272, 0.08683361002700178, 0.9613629817532006, 0.9210516104182233, 0.02005632767211289, 0.04011265534422578, 0.02005632767211289, 0.922591072917193, 0.02005632767211289, 0.5031055669928941, 0.139751546386915, 0.11912155620598947, 0.19099378006211717, 0.04724933234986174, 0.06590546861263284, 0.6370861965887842, 0.1647636715315821, 0.12082669245649355, 0.01098424476877214, 0.03337637496958084, 0.10012912490874253, 0.834409374239521, 0.9321763498585668, 0.04166595734072056, 0.05555460978762741, 0.12499787202216167, 0.7638758845798769, 0.9716596784881424, 0.019299869539650336, 0.7719947815860134, 0.1495739889322901, 0.053074641234038426, 0.004824967384912584, 0.41429226930254737, 0.14859605760559205, 0.14778847033599643, 0.25762033900099923, 0.03149590351422875, 0.05452669367292008, 0.0681583670911501, 0.01363167341823002, 0.8315320785120313, 0.02726334683646004, 0.8858800864262532, 0.08456683136175626, 0.8879517292984407, 0.9305414872865342, 0.02386003813555216, 0.02386003813555216, 0.1929802942988852, 0.48198906040200035, 0.14219600632549437, 0.16620312427655184, 0.017543663118080473, 0.9464906946225448, 0.020575884665707495, 0.04115176933141499, 0.8433628048783038, 0.03538585195293583, 0.0412834939450918, 0.05897641992155971, 0.017692925976467915, 0.9165864830098455, 0.019925793108909684, 0.03985158621781937, 0.019925793108909684, 0.013007966685110707, 0.20595947251425284, 0.4010789727909134, 0.37072705052565513, 0.008671977790073804, 0.08037069716234475, 0.6577275420836786, 0.1574609577058183, 0.0688891689962955, 0.03772502111701897, 0.021274042470563657, 0.9147838262342373, 0.042548084941127315, 0.9224720016554209, 0.20461285388338987, 0.28507858293865557, 0.32646095788136364, 0.17127705184620837, 0.012644614565827465, 0.9486191902726508, 0.7545005003614933, 0.07698984697566258, 0.04234441583661442, 0.10393629341714448, 0.023096954092698775, 0.03984003101647604, 0.956160744395425, 0.9207717206775675, 0.025311201015064243, 0.936514437557377, 0.05062240203012849, 0.14361256252989185, 0.7326322030510426, 0.037464146746928315, 0.05619622012039247, 0.03122012228910693, 0.9826171100916191, 0.014024829142802753, 0.16128553514223165, 0.6872166279973349, 0.13323587685662616, 0.9171498430583139, 0.050952769058795214, 0.04650225588193137, 0.7299445014194076, 0.16064415668303564, 0.05495721149682798, 0.005636637076597742, 0.922727057123223, 0.6496330330043844, 0.18056265569910382, 0.04710330148672273, 0.09028132784955191, 0.03140220099114849, 0.7382610256515116, 0.04812194284850871, 0.044600825079105635, 0.1197180041597046, 0.04812194284850871, 0.9107690284742129, 0.06388819557536671, 0.031944097787683354, 0.894434738055134, 0.900071206460388, 0.03368529964297859, 0.008084471914314863, 0.04176977155729345, 0.016168943828629725, 0.7813185967147528, 0.05638381625776566, 0.05638381625776566, 0.0845757243866485, 0.016109661787933046, 0.5108359073957638, 0.14016838922444738, 0.06852676806528538, 0.08565846008160673, 0.19312089182034972, 0.01745726497087921, 0.08728632485439605, 0.01745726497087921, 0.8728632485439606, 0.01745726497087921, 0.9460045054532319, 0.013324007119059605, 0.013324007119059605, 0.013324007119059605, 0.013324007119059605, 0.9768114779721982, 0.9227068723817612, 0.5282209372011555, 0.2067381570693661, 0.10979873413731883, 0.10979873413731883, 0.04451300032594007, 0.018970525334165364, 0.5193181310227769, 0.2039331473422777, 0.25017380284430574, 0.008299604833697348, 0.015973644283093957, 0.30640354033934775, 0.3412551278660982, 0.3318161562442699, 0.0043564484408438065, 0.9192460672704039, 0.03299924924568029, 0.689684309234718, 0.25739414411630623, 0.016499624622840145, 0.006599849849136058, 0.8578737415138272, 0.07836346677289768, 0.041243929880472464, 0.012373178964141739, 0.012373178964141739, 0.9534678021854341, 0.016967570177523858, 0.10180542106514315, 0.831410938698669, 0.033935140355047716, 0.20106004855256185, 0.6795517920071082, 0.040523730716020216, 0.043640940771098695, 0.03428931060586326, 0.2524672000646059, 0.32233723794256774, 0.14597383378221038, 0.22649320828841182, 0.052727203305673855, 0.6218695743520806, 0.01734297617714966, 0.01238784012653547, 0.13626624139189017, 0.2130708501764101, 0.918373354728901, 0.9577683556584274, 0.9312423549553795, 0.9495727138427053, 0.034661462160498285, 0.3081018858710958, 0.25610969263034844, 0.3889786309122585, 0.011553820720166095, 0.019797577156920678, 0.8446966253619489, 0.11218627055588384, 0.006599192385640226, 0.006599192385640226, 0.9112178694947308, 0.05695111684342068, 0.9480167563137278, 0.03790585154832155, 0.09476462887080388, 0.6759876859450676, 0.17057633196744698, 0.012635283849440517, 0.06041449595380944, 0.43671049932325107, 0.44879339851401295, 0.046605468307224424, 0.00517838536746938, 0.01391715496688165, 0.835029298012899, 0.12525439470193486, 0.0278343099337633, 0.01391715496688165, 0.018376835217852786, 0.9188417608926392, 0.03675367043570557, 0.018376835217852786, 0.018376835217852786, 0.835433258371319, 0.9296020454148451, 0.9578926632060349, 0.012083962193817065, 0.03625188658145119, 0.9183811267300969, 0.03020990548454266, 0.6277507606075211, 0.10703192941346097, 0.050967585434981415, 0.18773060635218153, 0.026333252474740398, 0.10041422498505549, 0.7330238423909051, 0.08535209123729717, 0.07028995748953884, 0.015062133747758324, 0.9163268477161759, 0.5247233375168903, 0.18865053325012007, 0.054971016311293266, 0.1867765213304169, 0.04560095671277737, 0.020443937008771014, 0.020443937008771014, 0.7836842520028888, 0.03407322834795169, 0.1431075590613971, 0.9247241765436387, 0.020549426145414194, 0.04109885229082839, 0.020549426145414194, 0.9016174015924348, 0.023418633807595707, 0.011709316903797853, 0.03512795071139356, 0.023418633807595707, 0.19400795869497714, 0.4593423727925194, 0.16333758287187414, 0.1597712601017459, 0.02353773028284649, 0.0554814758216843, 0.8877036131469488, 0.031828403800924505, 0.3468479901382798, 0.4007114427244598, 0.1934187615594643, 0.02774783921106239, 0.9464283935070371, 0.049812020710896694, 0.040416393698678964, 0.9295770550696162, 0.4125629099239284, 0.01528010777496031, 0.5653639876735315, 0.8203340908895799, 0.030609481003342532, 0.012243792401337012, 0.030609481003342532, 0.11019413161203312, 0.04596352683010173, 0.3906899780558647, 0.4366535048859664, 0.11682396402650856, 0.009575734756271194, 0.9076155573594872, 0.018152311147189744, 0.018152311147189744, 0.03630462229437949, 0.018152311147189744, 0.9672722840760279, 0.026059419514642527, 0.2254706297136462, 0.5846374117198062, 0.15635651708785517, 0.007931127678369464, 0.274375399035159, 0.02966220530109827, 0.007415551325274567, 0.0222466539758237, 0.667399619274711, 0.31342660174749937, 0.6017790753551988, 0.04513343065163991, 0.03510377939571993, 0.00501482562795999, 0.053213833884752634, 0.9046351760407948, 0.05131973111511983, 0.8781376213031615, 0.0228087693844977, 0.028510961730622127, 0.017106577038373275, 0.970396883452389, 0.03638647712076056, 0.024257651413840373, 0.9339195794328544, 0.1110977097708383, 0.0175417436480271, 0.0233889915307028, 0.0058472478826757, 0.8420036951053008, 0.9638601278271762, 0.06482307687033119, 0.06482307687033119, 0.8426999993143054, 0.12405124263610348, 0.5458254675988553, 0.1821781106141634, 0.132557613559722, 0.015595013359967295, 0.14870613262351193, 0.17183819769828043, 0.22140690857278442, 0.432900074970668, 0.026436645799735453, 0.9697435081204762, 0.9375175899079086, 0.06161517727064536, 0.32749806179723456, 0.25717639208617193, 0.3388834749885495, 0.014734064129936934, 0.012127959616841275, 0.6403562677692194, 0.30077339849766366, 0.03880947077389208, 0.007276775770104766, 0.9254402466715628, 0.04406858317483632, 0.9585882026447822, 0.014977940666324721, 0.014977940666324721, 0.029955881332649443, 0.9865674195532087, 0.9097534292536663, 0.14306786723347065, 0.5062401455953577, 0.2190038890727743, 0.11115272761985026, 0.019809397001557472, 0.9313045268002843, 0.014670941190217906, 0.8802564714130744, 0.014670941190217906, 0.07335470595108953, 0.9683320212675991, 0.046363906082831266, 0.046363906082831266, 0.880914215573794, 0.4561352068917527, 0.26573642683783794, 0.08766562534856509, 0.12875888723070497, 0.06163989282320983, 0.9413626862630519, 0.03809899789779076, 0.9143759495469782, 0.9018774471006135, 0.9806773292362417, 0.383546840907557, 0.2646224145871944, 0.1749621141152979, 0.13511309168334396, 0.041716945358451815, 0.042056684492793366, 0.14982693850557638, 0.26548282086075814, 0.5125658422559192, 0.02891397058879544, 0.03098997692746653, 0.3530162589128796, 0.4783235569239399, 0.12665468831225452, 0.010779122409553575, 0.05502198056891842, 0.34373282243054654, 0.33363515558456525, 0.25161737181516625, 0.015867762186542015, 0.8684050529983384, 0.03399391339544888, 0.3465186010632854, 0.2807239299753198, 0.32678019973689576, 0.010965778514660931, 0.18299304599575522, 0.49057710203117355, 0.11680407191218418, 0.14405835535836048, 0.06618897408357104, 0.21472554632758586, 0.45000238256771297, 0.12614240015283923, 0.1566150024369521, 0.05244122253545001, 0.9261764911640665, 0.9634895959730048, 0.02883715196577489, 0.5257234627606653, 0.27728030736322007, 0.1630408207295734, 0.004436484917811521, 0.08306040328949799, 0.9136644361844779, 0.9469335583575824, 0.03054624381798653, 0.9022370258843955, 0.39604179680755136, 0.2912278932119472, 0.17621397886375065, 0.0914483722646211, 0.045372461623600466, 0.9597489226537836, 0.4206425305866787, 0.2728405438485241, 0.11029041960504381, 0.15357299706632555, 0.04264135409148496, 0.14418250486262765, 0.4409339690094228, 0.17192231564156718, 0.20659707911524164, 0.036287543170124406, 0.030936796882589865, 0.030936796882589865, 0.8971671095951061, 0.2510250918873067, 0.4157311466014689, 0.15887368733759838, 0.15327461465609712, 0.021229817250692295, 0.952370387724446, 0.9522191576629709, 0.938927228734456, 0.6028305867286865, 0.15940231860614307, 0.06665915141711437, 0.10288695110032871, 0.06665915141711437, 0.844052189804998, 0.10821181920576897, 0.007214121280384598, 0.014428242560769196, 0.02885648512153839, 0.822839482327599, 0.06665459493715187, 0.006895302924532952, 0.09883267525163898, 0.0022984343081776507, 0.9497151712690638, 0.021104781583756973, 0.010552390791878486, 0.010552390791878486, 0.11451093709580652, 0.8779171844011834, 0.9715613546090784, 0.6424174692655884, 0.12880152230324915, 0.049294409770379306, 0.07473668578089766, 0.1049493885433882, 0.9680182700416744, 0.320318064589488, 0.3075781415660425, 0.15469906528469593, 0.0709795711306252, 0.1455991202679491, 0.9502986305926218, 0.0413173317648966, 0.3272485267674242, 0.3347714814057558, 0.13165170617080285, 0.10155988761747649, 0.10532136493664228, 0.8827436681221683, 0.9251607673439478, 0.8178661294014855, 0.04481458243295811, 0.050416405237077876, 0.06722187364943716, 0.020540016948439134, 0.5621048005865449, 0.22126403373172202, 0.08097322085501317, 0.11016124232600628, 0.025421825152155297, 0.054400100745185136, 0.054400100745185136, 0.8704016119229622, 0.9311147647825155, 0.060056944439342175, 0.050047453699451815, 0.8608162036305712, 0.030028472219671087, 0.010009490739890362, 0.8958850968846006, 0.05779903850868391, 0.9565744556476192, 0.9499368557799506, 0.9580109628897068, 0.9131798314937766, 0.9027536757278679, 0.9677577096542826, 0.0631228304642758, 0.8837196264998612, 0.6555389050524101, 0.131107781010482, 0.011237809800898458, 0.09364841500748715, 0.10675919310853535, 0.9004794258094271, 0.9413796922275551, 0.031379323074251834, 0.4839452284530131, 0.21508676820133912, 0.0714986234955001, 0.15717879214713246, 0.07268041892517778, 0.06664244290977653, 0.03588439233603352, 0.8355937072533519, 0.02050536704916201, 0.04101073409832402, 0.027954586015778025, 0.13278428357494562, 0.6848873573865616, 0.14676157658283462, 0.006988646503944506, 0.9257698264722303, 0.0430590616963828, 0.9481229982002799, 0.039240340518658615, 0.013080113506219538, 0.8240471508918309, 0.013080113506219538, 0.11772102155597584, 0.923546308191399, 0.863937048909043, 0.8883043637364142, 0.26870535821550906, 0.3445688650759588, 0.21034881447670156, 0.1427082751430838, 0.03342238414131702, 0.9483966974577471, 0.1872291391070673, 0.4179347075198955, 0.27137706679563683, 0.10167874595702156, 0.02103698192214239, 0.41861164872792095, 0.3343909717814702, 0.10764299538717967, 0.09468596816464879, 0.044851248077991526, 0.1596223399173225, 0.48793647088363357, 0.1940862542176535, 0.12878620606965793, 0.029475716177914665, 0.05582640397814147, 0.32698322330054286, 0.43730683116210817, 0.1648208117449891, 0.01329200094717654, 0.05675635242279309, 0.018918784140931028, 0.12297209691605168, 0.7851295418486377, 0.018918784140931028, 0.04184306646404142, 0.9205474622089113, 0.04184306646404142, 0.07842366033636389, 0.026141220112121295, 0.8888014838121241, 0.03421969809969978, 0.3821199621133142, 0.2988520300707114, 0.26919495838430496, 0.015969192446526566, 0.026096394797443544, 0.2885954248187874, 0.32543739394459004, 0.3515337887420336, 0.007675410234542219, 0.06004824473263867, 0.4456211845948449, 0.2970807897298966, 0.16671288998140474, 0.030024122366319336, 0.9518685772825264, 0.19503846683580092, 0.024379808354475115, 0.7801538673432037, 0.9380532892656674, 0.030259783524698953, 0.972159456292048, 0.022076438811635617, 0.9051339912770603, 0.04415287762327123, 0.04415287762327123, 0.9216149900090828, 0.05421264647112251, 0.9213301278239603, 0.17561044255851538, 0.6701867909886199, 0.03942275241109529, 0.0895971645706711, 0.021503319496961066, 0.01971938269712274, 0.01971938269712274, 0.8873722213705232, 0.07887753078849095, 0.049709222258605586, 0.9444752229135062, 0.7734189000810447, 0.18916437494242272, 0.01676140031135391, 0.01676140031135391, 0.004788971517529689, 0.8911502909150668, 0.5662242261107896, 0.12355266779225457, 0.06636543298555389, 0.15673538428503153, 0.0868398750768418, 0.28474378039183773, 0.40268499120502493, 0.15500844849733178, 0.14152945297582467, 0.01572549477509163, 0.02563484839307762, 0.02563484839307762, 0.8972196937577168, 0.05126969678615524, 0.9620658399699827, 0.04717269110238948, 0.9434538220477896, 0.009549550108129813, 0.0763964008650385, 0.6875676077853465, 0.2196396524869857, 0.006366366738753208, 0.15593824677905774, 0.17821513917606596, 0.022276892397008245, 0.04455378479401649, 0.623752987116231, 0.3422058675841785, 0.0228137245056119, 0.0162955175040085, 0.0391092420096204, 0.5801204231427026, 0.034452538357848, 0.034452538357848, 0.8957659973040479, 0.034452538357848, 0.94915636048231, 0.03650601386470423, 0.023328903167265328, 0.9331561266906132, 0.023328903167265328, 0.023328903167265328, 0.023328903167265328, 0.9243194777964377, 0.060536173557563876, 0.32335175631967045, 0.22619858021997039, 0.36646532382895985, 0.023328574200231933, 0.953526257016799, 0.07134659775533264, 0.8561591730639917, 0.08247398649570278, 0.03665510510920124, 0.8064123124024273, 0.03665510510920124, 0.03665510510920124, 0.30986065645166355, 0.11361557403227664, 0.010328688548388785, 0.05164344274194393, 0.5061057388710505, 0.02787582657140697, 0.947778103427837, 0.9453053852215241, 0.014042800341469064, 0.8987392218540201, 0.05617120136587626, 0.02808560068293813, 0.007021400170734532, 0.2928748167496634, 0.1342342910102624, 0.018304676046853964, 0.05491402814056189, 0.5003278119473417, 0.10267202243829857, 0.6919201512146207, 0.14731203219408054, 0.05356801170693838, 0.008928001951156396, 0.9468161867228196, 0.029280518379007824, 0.9076960697492424, 0.029280518379007824, 0.029280518379007824, 0.9576085420390096, 0.8722705406662484, 0.4512322600422504, 0.3154632614454671, 0.11447190077768005, 0.08785052850380097, 0.030614578114960943, 0.9177093824831777, 0.04370044678491322, 0.9733953447918121, 0.008637402703447985, 0.025912208110343955, 0.9069272838620385, 0.06046181892413589, 0.008637402703447985, 0.7854863995281995, 0.019760664139074204, 0.03952132827814841, 0.11115373578229239, 0.04446149431291696, 0.9686134361912804, 0.049319616529841355, 0.9370727140669857, 0.0332459433701129, 0.7779550748606419, 0.13963296215447418, 0.04654432071815806, 0.00664918867402258, 0.03236929120163597, 0.9063401536458073, 0.03236929120163597, 0.03236929120163597, 0.1765665610350017, 0.5365345177257149, 0.14960693558664662, 0.11904003631069471, 0.018226225655225983, 0.05450575163470587, 0.25518601901703203, 0.27500629233874324, 0.41127067142550794, 0.004955068330427807, 0.874492693912003, 0.03554848349235784, 0.010664545047707353, 0.07109696698471568, 0.007109696698471569, 0.011120139040533333, 0.15290191180733334, 0.3530644145369333, 0.4753859439828, 0.0083401042804, 0.02377326274465645, 0.27537362679227056, 0.5230117803824419, 0.1565073130689883, 0.02179215751593508, 0.016178343888470094, 0.8412738822004449, 0.11324840721929065, 0.016178343888470094, 0.24728348080650173, 0.05298931731567894, 0.14130484617514383, 0.5475562789286824, 0.07885391727324272, 0.86739309000567, 0.20638397325464913, 0.4719992213447133, 0.16473698313599797, 0.1323448797103804, 0.024062705401887343, 0.2926086755308314, 0.2224050585608623, 0.28867727298051316, 0.14265374968297734, 0.05391637783293631, 0.20090054747219943, 0.07305474453534525, 0.01826368613383631, 0.7122837592196162, 0.6461158284956058, 0.098379776355298, 0.021271302995740107, 0.03190695449361016, 0.20207737845953103, 0.9412430754645548, 0.04224954847514931, 0.04224954847514931, 0.8872405179781355, 0.7540307111898775, 0.11650259915380082, 0.048542749647417005, 0.0355980164081058, 0.045306566337589206, 0.18074302523984134, 0.20723122721464568, 0.22281252249394234, 0.345904755200386, 0.043627626782030665, 0.03305635456576223, 0.9586342824071047, 0.9534721737552716, 0.9343941086245642, 0.9443731638818489, 0.15602539439051266, 0.05200846479683755, 0.05200846479683755, 0.7281185071557257, 0.2851139642469514, 0.3585308100405414, 0.14825926140841472, 0.08197026472099853, 0.1254501442686586, 0.05702986682966499, 0.9124778692746398, 0.9791971948438969, 0.42839542658510865, 0.015484172045244892, 0.02064556272699319, 0.14451893908895233, 0.3922656918128706, 0.11704594301939485, 0.1881095512811703, 0.41503535917591544, 0.26872793040167187, 0.010749117216066873, 0.9414847677639507, 0.013598565933221752, 0.13792831160839206, 0.4992616349768557, 0.34773475743524196, 0.001942652276174536, 0.04974934630952527, 0.09594516788265588, 0.5276984233546074, 0.3144869391709276, 0.012437336577381318, 0.8477999612610898, 0.03512080764376384, 0.053089592949875565, 0.039204622486061956, 0.025319652022248347, 0.953925793149885, 0.7473752502415036, 0.036525858094509575, 0.025287132526968167, 0.14891311376992367, 0.04214522087828028, 0.10725950720644362, 0.10725950720644362, 0.03575316906881454, 0.7150633813762908, 0.0648287984386987, 0.9076031781417817, 0.9557177829807169, 0.01737654983811711, 0.419710511474521, 0.362234231240749, 0.18980539053943304, 0.0106932614388413, 0.8245996236178059, 0.04545037295531214, 0.025971641688749793, 0.058436193799687036, 0.03895746253312469, 0.008967590586322157, 0.286962898762309, 0.6142799551630678, 0.07622451998373833, 0.008967590586322157, 0.02395417964477673, 0.12935257008179435, 0.2395417964477673, 0.5844819833325522, 0.02395417964477673, 0.9422994499423133, 0.9235792626615673, 0.049324656966390525, 0.93716848236142, 0.049324656966390525, 0.8756940626945484, 0.00785908016194667, 0.2582269196068192, 0.3413086241759697, 0.3794812992482821, 0.012349983111630483, 0.5449150285811863, 0.1029355425891261, 0.09714541831848776, 0.18978740664870125, 0.06497806125938585, 0.8284249902496913, 0.0355039281535582, 0.011834642717852732, 0.05917321358926366, 0.0710078563071164, 0.050796103793309066, 0.050796103793309066, 0.9143298682795632, 0.13667124313562856, 0.5518101441601003, 0.1110453850476982, 0.16571388230194964, 0.0358762013231025, 0.35440028291547576, 0.19066840854319933, 0.18485856783966695, 0.23371404648300748, 0.036179462562906245, 0.02445005079770544, 0.02445005079770544, 0.9535519811105122, 0.901182972514362, 0.009195744617493489, 0.018391489234986978, 0.02758723385248047, 0.04597872308746745, 0.011372106748372367, 0.09381988067407203, 0.5202738837380358, 0.35822136257372955, 0.011372106748372367, 0.9143748151582879, 0.045121001651201496, 0.9475410346752314, 0.05724671532542802, 0.8300773722187064, 0.07155839415678503, 0.02862335766271401, 0.9328319956879795, 0.05386335584000546, 0.22122449720002244, 0.4943886589600502, 0.22122449720002244, 0.009618456400000976, 0.9427904562674134, 0.9025137663067418, 0.04102335301394281, 0.016409341205577126, 0.008204670602788563, 0.024614011808365685, 0.05603570711456142, 0.8965713138329827, 0.9059806824310577, 0.02226396829845888, 0.1335838097907533, 0.6976043400183782, 0.14100513255690625, 0.007421322766152961, 0.018799714614027258, 0.14234069636334926, 0.6338189498443476, 0.19336849317285182, 0.010742694065158433, 0.3289680416587958, 0.3190928284007456, 0.12097136241111439, 0.1265261698687676, 0.1049241408667829, 0.27769056073088894, 0.2757554348721371, 0.17706401607579328, 0.2380204806264762, 0.030962013740029427, 0.7747959666260719, 0.05555140892790704, 0.05116577138096701, 0.09209838848574062, 0.026313825281640175, 0.013148316424342018, 0.15997118316282788, 0.47114800520558897, 0.3352820688207215, 0.019722474636513027, 0.6963390371951301, 0.12110244125132698, 0.08849793783750817, 0.053564541322702316, 0.040755629267273503, 0.9600976872700289, 0.030003052727188402, 0.9164504198058917, 0.042958613428401175, 0.014319537809467058, 0.014319537809467058, 0.014319537809467058, 0.8875155540273943, 0.06078873657721879, 0.012157747315443758, 0.036473241946331274, 0.012157747315443758, 0.922567603214901, 0.012300901376198681, 0.012300901376198681, 0.036902704128596045, 0.019185359917921956, 0.11511215950753174, 0.09592679958960978, 0.7674143967168783, 0.03221203222609184, 0.054949937326862555, 0.2614859086588632, 0.6480302953719653, 0.005684476275192678, 0.11701404173275506, 0.45342941171442586, 0.21483046724372998, 0.19197616221780126, 0.022854305025928723, 0.011772331436217927, 0.04708932574487171, 0.05650719089384605, 0.8640891274183958, 0.023544662872435854, 0.010601769930123356, 0.10601769930123356, 0.0742123895108635, 0.7951327447592517, 0.010601769930123356, 0.49382903383658944, 0.192269500879, 0.10051984431919649, 0.1592126393243649, 0.053970386211649124, 0.9670732132431813, 0.022490074726585613, 0.9875319622535932, 0.02206379666588557, 0.34114024075715377, 0.4047858080625929, 0.2257296120432908, 0.006788860512580175, 0.6395734273774486, 0.11531225340893901, 0.07687483560595934, 0.1203532262355593, 0.04725912024956517, 0.9471705478043014, 0.004285797870943811, 0.030000585096606674, 0.9557329252204698, 0.004285797870943811, 0.47180439612740016, 0.24856808789262355, 0.056996504230155724, 0.09341093748831077, 0.12824213451785038, 0.04850001920144586, 0.8730003456260255, 0.04850001920144586, 0.22678219285249118, 0.3520723549530959, 0.15538779880633655, 0.19598461110709114, 0.06929455892715009, 0.9204994424059558, 0.9233171211912962, 0.03815789823720743, 0.9539474559301858, 0.9309708062563089, 0.03879045026067954, 0.42822153862687345, 0.31568784004315886, 0.09815312452534947, 0.12189248487566655, 0.03583730360576713, 0.9570421827014514, 0.029490561685167678, 0.7372640421291919, 0.15924903309990546, 0.06487923570736889, 0.01179622467406707, 0.026137137630217463, 0.10454855052086985, 0.8363884041669588, 0.026137137630217463, 0.05885370065719374, 0.05885370065719374, 0.8435697094197769, 0.01961790021906458, 0.01961790021906458, 0.04906949370808728, 0.9323203804536584, 0.05742226059166917, 0.05742226059166917, 0.9187561694667067, 0.19021998658969985, 0.3985937478331885, 0.2344204813989247, 0.1483873754309692, 0.02880925108101263, 0.9599591196122913, 0.9554552626882271, 0.027508908033096354, 0.027508908033096354, 0.08252672409928906, 0.8252672409928906, 0.027508908033096354, 0.9518168428808634, 0.881595872548953, 0.0371198262125875, 0.01855991310629375, 0.04639978276573437, 0.01855991310629375, 0.02824380703313859, 0.02824380703313859, 0.9038018250604348, 0.02824380703313859, 0.9122194118001624, 0.3803428287759995, 0.39268780467135656, 0.10934121507316215, 0.08347555129241412, 0.03409564771098605, 0.1010860618393785, 0.41939961826976185, 0.1010860618393785, 0.36993197098666175, 0.008603069092713064, 0.39434102073075633, 0.322592090301606, 0.1101262653098586, 0.1145758113829842, 0.058400292209773504, 0.45658230054572163, 0.043073801938275626, 0.043073801938275626, 0.0344590415506205, 0.42212325899510117, 0.2411909661045445, 0.3391490717920557, 0.22802012836504718, 0.16134276230884204, 0.029634384913868946, 0.9806133330924537, 0.10411562212590543, 0.6709673425891683, 0.055528331800482895, 0.15038923195964118, 0.020823124425181087, 0.06978072182447467, 0.3289662600296663, 0.09470240819035848, 0.4984337273176762, 0.009968674546353523, 0.9157364397017046, 0.48059459354391115, 0.2678071941955036, 0.04507645842894615, 0.12926337343594851, 0.07689513496702578, 0.24291055472225145, 0.026990061635805716, 0.7287316641667544, 0.9667352288528097, 0.47335056901450406, 0.19198123936425165, 0.08634076902625075, 0.11071933910425096, 0.13712945668875118, 0.9507908492990177, 0.03067067255803283, 0.9904114703738587], \"Term\": [\"$\", \"$\", \"$\", \"$\", \"$\", \"1/4\", \"1/4\", \"1/4\", \"2\", \"2\", \"2\", \"2\", \"2\", \"accent\", \"acrylic\", \"acrylic\", \"albeit\", \"amazing\", \"amazing\", \"amazing\", \"amazing\", \"amazing\", \"ami\", \"ami\", \"ami\", \"answer\", \"answer\", \"answer\", \"answer\", \"answer\", \"appetizer\", \"appetizer\", \"appetizer\", \"appetizer\", \"appetizer\", \"appointment\", \"appointment\", \"appointment\", \"appointment\", \"appointment\", \"appt\", \"arrogant\", \"asada\", \"asada\", \"asada\", \"asada\", \"asada\", \"ask\", \"ask\", \"ask\", \"ask\", \"ask\", \"atmosphere\", \"atmosphere\", \"atmosphere\", \"atmosphere\", \"atmosphere\", \"attach\", \"attach\", \"attach\", \"authority\", \"ayce\", \"ayce\", \"ayce\", \"ayce\", \"baba\", \"bacon\", \"bacon\", \"bacon\", \"bacon\", \"bacon\", \"bad\", \"bad\", \"bad\", \"bad\", \"bad\", \"bagel\", \"bagel\", \"bagel\", \"bagel\", \"bagel\", \"bakersfield\", \"baklava\", \"baklava\", \"balloon\", \"balloon\", \"balloon\", \"bar\", \"bar\", \"bar\", \"bar\", \"bar\", \"battery\", \"battery\", \"battery\", \"bed\", \"bed\", \"bed\", \"bed\", \"bed\", \"bedroom\", \"bedroom\", \"bedroom\", \"bedroom\", \"beef\", \"beef\", \"beef\", \"beef\", \"beef\", \"beer\", \"beer\", \"beer\", \"beer\", \"beer\", \"benedict\", \"benedict\", \"benedict\", \"biryani\", \"bit\", \"bit\", \"bit\", \"bit\", \"bit\", \"bleu\", \"book\", \"book\", \"book\", \"book\", \"book\", \"bourbon\", \"bourbon\", \"brad\", \"brake\", \"brake\", \"brake\", \"breakfast\", \"breakfast\", \"breakfast\", \"breakfast\", \"breakfast\", \"brewery\", \"broth\", \"broth\", \"broth\", \"broth\", \"brussel\", \"brussel\", \"burger\", \"burger\", \"burger\", \"burger\", \"burger\", \"bust\", \"buy\", \"buy\", \"buy\", \"buy\", \"buy\", \"call\", \"call\", \"call\", \"call\", \"call\", \"calzone\", \"canal\", \"canal\", \"canal\", \"car\", \"car\", \"car\", \"car\", \"car\", \"card\", \"card\", \"card\", \"card\", \"card\", \"care\", \"care\", \"care\", \"care\", \"care\", \"carne\", \"carne\", \"carne\", \"carne\", \"carne\", \"carpet\", \"carpet\", \"carpet\", \"carpet\", \"carpet\", \"cesar\", \"cha\", \"check\", \"check\", \"check\", \"check\", \"check\", \"cheese\", \"cheese\", \"cheese\", \"cheese\", \"cheese\", \"chicken\", \"chicken\", \"chicken\", \"chicken\", \"chicken\", \"chilli\", \"chocolate\", \"chocolate\", \"chocolate\", \"chocolate\", \"chocolate\", \"class\", \"class\", \"class\", \"class\", \"class\", \"coca\", \"coconut\", \"coconut\", \"coconut\", \"coconut\", \"coffee\", \"coffee\", \"coffee\", \"coffee\", \"coffee\", \"come\", \"come\", \"come\", \"come\", \"come\", \"company\", \"company\", \"company\", \"company\", \"company\", \"conclusion\", \"concoction\", \"coney\", \"contractor\", \"cook\", \"cook\", \"cook\", \"cook\", \"cook\", \"cookie\", \"cookie\", \"cookie\", \"cookie\", \"cookie\", \"corned\", \"corned\", \"cox\", \"crab\", \"crab\", \"crab\", \"crab\", \"crab\", \"cream\", \"cream\", \"cream\", \"cream\", \"cream\", \"crepe\", \"crepe\", \"crepe\", \"crepe\", \"crepe\", \"croissant\", \"croissant\", \"croissant\", \"croissant\", \"croissant\", \"cr\\u00eape\", \"cuban\", \"curly\", \"curry\", \"curry\", \"curry\", \"curry\", \"customer\", \"customer\", \"customer\", \"customer\", \"customer\", \"cute\", \"cute\", \"cute\", \"cute\", \"cute\", \"dang\", \"day\", \"day\", \"day\", \"day\", \"day\", \"de\", \"de\", \"de\", \"de\", \"de\", \"dealer\", \"dealer\", \"dealer\", \"dealer\", \"dealership\", \"dealership\", \"dealership\", \"dealership\", \"dealership\", \"definitely\", \"definitely\", \"definitely\", \"definitely\", \"definitely\", \"del\", \"del\", \"delicious\", \"delicious\", \"delicious\", \"delicious\", \"delicious\", \"dent\", \"dent\", \"dental\", \"dental\", \"dentist\", \"dentist\", \"dentist\", \"desk\", \"desk\", \"desk\", \"desk\", \"desk\", \"dessert\", \"dessert\", \"dessert\", \"dessert\", \"dessert\", \"direct\", \"direct\", \"direct\", \"direct\", \"direct\", \"disgust\", \"dish\", \"dish\", \"dish\", \"dish\", \"dish\", \"doctor\", \"doctor\", \"doctor\", \"doctor\", \"doctor\", \"dog\", \"dog\", \"dog\", \"dog\", \"dog\", \"dolphin\", \"dolphin\", \"donut\", \"donut\", \"donut\", \"donut\", \"donut\", \"doughnut\", \"dr\", \"dr\", \"dr\", \"dr.\", \"dr.\", \"dr.\", \"dr.\", \"dr.\", \"dragon\", \"drama\", \"drama\", \"drama\", \"drink\", \"drink\", \"drink\", \"drink\", \"drink\", \"dry\", \"dry\", \"dry\", \"dry\", \"dry\", \"earl\", \"easter\", \"eat\", \"eat\", \"eat\", \"eat\", \"eat\", \"egg\", \"egg\", \"egg\", \"egg\", \"egg\", \"eggs\", \"eggs\", \"elevator\", \"elevator\", \"elevator\", \"elevator\", \"enchilada\", \"encore\", \"enjoy\", \"enjoy\", \"enjoy\", \"enjoy\", \"enjoy\", \"enterprise\", \"et\", \"et\", \"et\", \"et\", \"ethiopian\", \"exam\", \"exam\", \"exam\", \"experience\", \"experience\", \"experience\", \"experience\", \"experience\", \"experienced\", \"fav\", \"fav\", \"festival\", \"fi\", \"find\", \"find\", \"find\", \"find\", \"find\", \"fish\", \"fish\", \"fish\", \"fish\", \"fish\", \"flavor\", \"flavor\", \"flavor\", \"flavor\", \"flavor\", \"food\", \"food\", \"food\", \"food\", \"food\", \"france\", \"fresh\", \"fresh\", \"fresh\", \"fresh\", \"fresh\", \"friend\", \"friend\", \"friend\", \"friend\", \"friend\", \"friendly\", \"friendly\", \"friendly\", \"friendly\", \"friendly\", \"frittata\", \"froyo\", \"fry\", \"fry\", \"fry\", \"fry\", \"fry\", \"gabi\", \"gabi\", \"gamble\", \"gamble\", \"ganoush\", \"get\", \"get\", \"get\", \"get\", \"get\", \"glance\", \"go\", \"go\", \"go\", \"go\", \"go\", \"good\", \"good\", \"good\", \"good\", \"good\", \"gras\", \"gras\", \"gras\", \"great\", \"great\", \"great\", \"great\", \"great\", \"groomer\", \"grub\", \"grubhub\", \"guy\", \"guy\", \"guy\", \"guy\", \"guy\", \"gym\", \"gym\", \"gym\", \"gym\", \"gym\", \"hair\", \"hair\", \"hair\", \"hair\", \"hair\", \"haircut\", \"haircut\", \"haircut\", \"haircut\", \"hall\", \"hall\", \"heartbeat\", \"help\", \"help\", \"help\", \"help\", \"help\", \"hibachi\", \"highly\", \"highly\", \"highly\", \"highly\", \"highly\", \"hollandaise\", \"hollandaise\", \"home\", \"home\", \"home\", \"home\", \"home\", \"horchata\", \"horribly\", \"hotel\", \"hotel\", \"hotel\", \"hotel\", \"hotel\", \"hour\", \"hour\", \"hour\", \"hour\", \"hour\", \"id\", \"id\", \"id\", \"iffy\", \"indian\", \"indian\", \"indian\", \"indian\", \"indian\", \"ipa\", \"ipa\", \"iphone\", \"j'ai\", \"jalape\\u00f1os\", \"jamba\", \"jay\", \"je\", \"jeremy\", \"jeremy\", \"job\", \"job\", \"job\", \"job\", \"job\", \"kabab\", \"keg\", \"keg\", \"know\", \"know\", \"know\", \"know\", \"know\", \"la\", \"la\", \"la\", \"la\", \"la\", \"lamb\", \"lamb\", \"lamb\", \"lamb\", \"lamb\", \"lash\", \"lash\", \"lawyer\", \"le\", \"le\", \"le\", \"le\", \"le\", \"lebanese\", \"lentil\", \"lewis\", \"like\", \"like\", \"like\", \"like\", \"like\", \"lion\", \"little\", \"little\", \"little\", \"little\", \"little\", \"look\", \"look\", \"look\", \"look\", \"look\", \"love\", \"love\", \"love\", \"love\", \"love\", \"lunch\", \"lunch\", \"lunch\", \"lunch\", \"lunch\", \"margarita\", \"margarita\", \"margarita\", \"margarita\", \"margarita\", \"masala\", \"masala\", \"masala\", \"matcha\", \"matcha\", \"matcha\", \"meal\", \"meal\", \"meal\", \"meal\", \"meal\", \"meat\", \"meat\", \"meat\", \"meat\", \"meat\", \"menu\", \"menu\", \"menu\", \"menu\", \"menu\", \"mex\", \"michael\", \"michael\", \"michael\", \"milkshake\", \"milkshake\", \"mississauga\", \"mocha\", \"mocha\", \"mocha\", \"mocha\", \"mojito\", \"mojito\", \"moving\", \"music\", \"music\", \"music\", \"music\", \"music\", \"naan\", \"naan\", \"naan\", \"naan\", \"nacho\", \"nacho\", \"nail\", \"nail\", \"nail\", \"nail\", \"nail\", \"nancy\", \"need\", \"need\", \"need\", \"need\", \"need\", \"nice\", \"nice\", \"nice\", \"nice\", \"nice\", \"nigiri\", \"nigiri\", \"nigiri\", \"nigiri\", \"nite\", \"noir\", \"noir\", \"noodle\", \"noodle\", \"noodle\", \"noodle\", \"noodle\", \"nurse\", \"nurse\", \"nurse\", \"nurse\", \"nurse\", \"office\", \"office\", \"office\", \"office\", \"office\", \"okra\", \"okra\", \"okra\", \"okra\", \"omelet\", \"omelet\", \"omelette\", \"omelette\", \"omelette\", \"omelette\", \"omelette\", \"optometrist\", \"order\", \"order\", \"order\", \"order\", \"order\", \"ou\", \"pa\", \"pa\", \"pad\", \"pad\", \"pad\", \"pad\", \"pad\", \"pain\", \"pain\", \"pain\", \"pain\", \"pain\", \"painting\", \"painting\", \"pakora\", \"pancake\", \"pancake\", \"pancake\", \"pancake\", \"pancake\", \"patient\", \"patient\", \"patient\", \"patient\", \"patient\", \"patio\", \"patio\", \"patio\", \"patio\", \"patio\", \"patrick\", \"pear\", \"pear\", \"pear\", \"pear\", \"pearl\", \"pearson\", \"people\", \"people\", \"people\", \"people\", \"people\", \"peoria\", \"peoria\", \"persian\", \"pho\", \"pho\", \"pho\", \"pho\", \"pho\", \"phone\", \"phone\", \"phone\", \"phone\", \"phone\", \"photography\", \"physician\", \"physician\", \"pie\", \"pie\", \"pie\", \"pie\", \"pie\", \"pint\", \"pint\", \"pint\", \"pint\", \"place\", \"place\", \"place\", \"place\", \"place\", \"plate\", \"plate\", \"plate\", \"plate\", \"plate\", \"pool\", \"pool\", \"pool\", \"pool\", \"pool\", \"pork\", \"pork\", \"pork\", \"pork\", \"pork\", \"portion\", \"portion\", \"portion\", \"portion\", \"portion\", \"poutine\", \"poutine\", \"poutine\", \"poutine\", \"power\", \"power\", \"power\", \"power\", \"pregnancy\", \"pregnancy\", \"pretty\", \"pretty\", \"pretty\", \"pretty\", \"pretty\", \"price\", \"price\", \"price\", \"price\", \"price\", \"procedure\", \"procedure\", \"procedure\", \"procedure\", \"professional\", \"professional\", \"professional\", \"professional\", \"professional\", \"promotion\", \"pulled\", \"pulled\", \"pulled\", \"purchase\", \"purchase\", \"purchase\", \"purchase\", \"purchase\", \"quality\", \"quality\", \"quality\", \"quality\", \"quality\", \"que\", \"que\", \"ragu\", \"ramsay\", \"ranchero\", \"ray\", \"ray\", \"ray\", \"ray\", \"recommend\", \"recommend\", \"recommend\", \"recommend\", \"recommend\", \"relleno\", \"relleno\", \"removal\", \"repair\", \"repair\", \"repair\", \"repair\", \"repair\", \"restaurant\", \"restaurant\", \"restaurant\", \"restaurant\", \"restaurant\", \"reuben\", \"rice\", \"rice\", \"rice\", \"rice\", \"rice\", \"roll\", \"roll\", \"roll\", \"roll\", \"roll\", \"room\", \"room\", \"room\", \"room\", \"room\", \"roti\", \"rude\", \"rude\", \"rude\", \"rude\", \"rude\", \"rule\", \"rule\", \"rule\", \"rule\", \"rum\", \"rum\", \"rv\", \"salad\", \"salad\", \"salad\", \"salad\", \"salad\", \"sale\", \"sale\", \"sale\", \"sale\", \"sale\", \"salmon\", \"salmon\", \"salmon\", \"salmon\", \"salmon\", \"salsa\", \"salsa\", \"salsa\", \"salsa\", \"salsa\", \"salted\", \"sammie\", \"samosa\", \"samosa\", \"samosa\", \"sampling\", \"sauce\", \"sauce\", \"sauce\", \"sauce\", \"sauce\", \"say\", \"say\", \"say\", \"say\", \"say\", \"schedule\", \"schedule\", \"schedule\", \"schedule\", \"schedule\", \"scorpion\", \"scorpion\", \"scorpion\", \"seat\", \"seat\", \"seat\", \"seat\", \"seat\", \"service\", \"service\", \"service\", \"service\", \"service\", \"shawarma\", \"shawarma\", \"shawarma\", \"shower\", \"shower\", \"shower\", \"shower\", \"shower\", \"shrimp\", \"shrimp\", \"shrimp\", \"shrimp\", \"shrimp\", \"smog\", \"smokey\", \"smokey\", \"smoothie\", \"smoothie\", \"smoothie\", \"smoothie\", \"sore\", \"soup\", \"soup\", \"soup\", \"soup\", \"soup\", \"souvlaki\", \"spa\", \"spa\", \"spa\", \"spa\", \"spa\", \"spare\", \"spare\", \"specially\", \"spice\", \"spice\", \"spice\", \"spice\", \"spice\", \"spicy\", \"spicy\", \"spicy\", \"spicy\", \"spicy\", \"staff\", \"staff\", \"staff\", \"staff\", \"staff\", \"star\", \"star\", \"star\", \"star\", \"star\", \"stay\", \"stay\", \"stay\", \"stay\", \"stay\", \"steak\", \"steak\", \"steak\", \"steak\", \"steak\", \"store\", \"store\", \"store\", \"store\", \"store\", \"stretch\", \"stretch\", \"studio\", \"studio\", \"studio\", \"studio\", \"studio\", \"stylist\", \"stylist\", \"stylist\", \"stylist\", \"stylist\", \"suite\", \"suite\", \"suite\", \"suite\", \"sum\", \"sum\", \"sum\", \"sum\", \"sushi\", \"sushi\", \"sushi\", \"sushi\", \"sushi\", \"table\", \"table\", \"table\", \"table\", \"table\", \"taco\", \"taco\", \"taco\", \"taco\", \"taco\", \"tacos\", \"tacos\", \"tacos\", \"tacos\", \"tacos\", \"take\", \"take\", \"take\", \"take\", \"take\", \"tan\", \"tan\", \"tart\", \"taste\", \"taste\", \"taste\", \"taste\", \"taste\", \"tell\", \"tell\", \"tell\", \"tell\", \"tell\", \"termite\", \"thai\", \"thai\", \"thai\", \"thai\", \"thank\", \"thank\", \"thank\", \"thank\", \"thank\", \"thankful\", \"thankful\", \"thankful\", \"think\", \"think\", \"think\", \"think\", \"think\", \"thread\", \"thrill\", \"tikka\", \"tikka\", \"tim\", \"tim\", \"time\", \"time\", \"time\", \"time\", \"time\", \"tint\", \"toast\", \"toast\", \"toast\", \"toast\", \"toast\", \"tofu\", \"tofu\", \"tofu\", \"tofu\", \"tom\", \"tom\", \"tom\", \"tom\", \"tom\", \"tomorrow\", \"tomorrow\", \"tostada\", \"tostada\", \"tostada\", \"try\", \"try\", \"try\", \"try\", \"try\", \"tube\", \"umami\", \"uni\", \"uni\", \"uni\", \"uni\", \"uni\", \"uptown\", \"vehicle\", \"vehicle\", \"vehicle\", \"vehicle\", \"vehicle\", \"vietnamese\", \"vietnamese\", \"vietnamese\", \"vietnamese\", \"vinaigrette\", \"wait\", \"wait\", \"wait\", \"wait\", \"wait\", \"waitress\", \"waitress\", \"waitress\", \"waitress\", \"waitress\", \"want\", \"want\", \"want\", \"want\", \"want\", \"wedding\", \"wedding\", \"wedding\", \"wedding\", \"wedding\", \"well\", \"well\", \"well\", \"well\", \"well\", \"wi\", \"wine\", \"wine\", \"wine\", \"wine\", \"wine\", \"wing\", \"wing\", \"wing\", \"wing\", \"wing\", \"wire\", \"work\", \"work\", \"work\", \"work\", \"work\", \"x\", \"x\", \"x\", \"xs\", \"year\", \"year\", \"year\", \"year\", \"year\", \"yellowtail\", \"yellowtail\", \"yuk\"]}, \"R\": 30, \"lambda.step\": 0.01, \"plot.opts\": {\"xlab\": \"PC1\", \"ylab\": \"PC2\"}, \"topic.order\": [1, 4, 2, 3, 5]};\n",
              "\n",
              "function LDAvis_load_lib(url, callback){\n",
              "  var s = document.createElement('script');\n",
              "  s.src = url;\n",
              "  s.async = true;\n",
              "  s.onreadystatechange = s.onload = callback;\n",
              "  s.onerror = function(){console.warn(\"failed to load library \" + url);};\n",
              "  document.getElementsByTagName(\"head\")[0].appendChild(s);\n",
              "}\n",
              "\n",
              "if(typeof(LDAvis) !== \"undefined\"){\n",
              "   // already loaded: just create the visualization\n",
              "   !function(LDAvis){\n",
              "       new LDAvis(\"#\" + \"ldavis_el2691342237716834088444218515\", ldavis_el2691342237716834088444218515_data);\n",
              "   }(LDAvis);\n",
              "}else if(typeof define === \"function\" && define.amd){\n",
              "   // require.js is available: use it to load d3/LDAvis\n",
              "   require.config({paths: {d3: \"https://d3js.org/d3.v5\"}});\n",
              "   require([\"d3\"], function(d3){\n",
              "      window.d3 = d3;\n",
              "      LDAvis_load_lib(\"https://cdn.jsdelivr.net/gh/bmabey/pyLDAvis@3.4.0/pyLDAvis/js/ldavis.v3.0.0.js\", function(){\n",
              "        new LDAvis(\"#\" + \"ldavis_el2691342237716834088444218515\", ldavis_el2691342237716834088444218515_data);\n",
              "      });\n",
              "    });\n",
              "}else{\n",
              "    // require.js not available: dynamically load d3 & LDAvis\n",
              "    LDAvis_load_lib(\"https://d3js.org/d3.v5.js\", function(){\n",
              "         LDAvis_load_lib(\"https://cdn.jsdelivr.net/gh/bmabey/pyLDAvis@3.4.0/pyLDAvis/js/ldavis.v3.0.0.js\", function(){\n",
              "                 new LDAvis(\"#\" + \"ldavis_el2691342237716834088444218515\", ldavis_el2691342237716834088444218515_data);\n",
              "            })\n",
              "         });\n",
              "}\n",
              "</script>"
            ]
          },
          "metadata": {},
          "execution_count": 39
        }
      ]
    },
    {
      "cell_type": "code",
      "source": [
        "topic_id = 2  # The 3rd topic\n",
        "top_words = lda.show_topic(topic_id, topn=3)  # Get the top 3 words for the topic in a list of tuples"
      ],
      "metadata": {
        "colab": {
          "base_uri": "https://localhost:8080/"
        },
        "id": "wolL1Fsnd4y9",
        "outputId": "529b29c5-dfe8-4115-80bb-fe4c30e4664f"
      },
      "execution_count": null,
      "outputs": [
        {
          "output_type": "stream",
          "name": "stderr",
          "text": [
            "/usr/local/lib/python3.10/dist-packages/ipykernel/ipkernel.py:283: DeprecationWarning: `should_run_async` will not call `transform_cell` automatically in the future. Please pass the result to `transformed_cell` argument and any exception that happen during thetransform in `preprocessing_exc_tuple` in IPython 7.17 and above.\n",
            "  and should_run_async(code)\n"
          ]
        }
      ]
    },
    {
      "cell_type": "code",
      "source": [
        "top_words # List of tuples"
      ],
      "metadata": {
        "colab": {
          "base_uri": "https://localhost:8080/"
        },
        "id": "zZOa2AoHiVlQ",
        "outputId": "e60f2307-14d1-4af8-995b-08c50e0d2601"
      },
      "execution_count": null,
      "outputs": [
        {
          "output_type": "stream",
          "name": "stderr",
          "text": [
            "/usr/local/lib/python3.10/dist-packages/ipykernel/ipkernel.py:283: DeprecationWarning: `should_run_async` will not call `transform_cell` automatically in the future. Please pass the result to `transformed_cell` argument and any exception that happen during thetransform in `preprocessing_exc_tuple` in IPython 7.17 and above.\n",
            "  and should_run_async(code)\n"
          ]
        },
        {
          "output_type": "execute_result",
          "data": {
            "text/plain": [
              "[('good', 0.015864866), ('order', 0.01536545), ('food', 0.0151233245)]"
            ]
          },
          "metadata": {},
          "execution_count": 64
        }
      ]
    },
    {
      "cell_type": "markdown",
      "source": [
        "### Matplotlib"
      ],
      "metadata": {
        "id": "alA0_krJbjbR"
      }
    },
    {
      "cell_type": "code",
      "execution_count": null,
      "metadata": {
        "deletable": false,
        "nbgrader": {
          "cell_type": "code",
          "checksum": "2cb1397c6a59aa5751d77bad34994f29",
          "grade": false,
          "grade_id": "cell-9b043e992fbd218c",
          "locked": false,
          "schema_version": 3,
          "solution": true,
          "task": false
        },
        "id": "D7XqXUWDDcPc",
        "colab": {
          "base_uri": "https://localhost:8080/",
          "height": 527
        },
        "outputId": "c8b41f42-913f-4686-d296-0f5647efd4d7"
      },
      "outputs": [
        {
          "output_type": "stream",
          "name": "stderr",
          "text": [
            "/usr/local/lib/python3.10/dist-packages/ipykernel/ipkernel.py:283: DeprecationWarning: `should_run_async` will not call `transform_cell` automatically in the future. Please pass the result to `transformed_cell` argument and any exception that happen during thetransform in `preprocessing_exc_tuple` in IPython 7.17 and above.\n",
            "  and should_run_async(code)\n"
          ]
        },
        {
          "output_type": "display_data",
          "data": {
            "text/plain": [
              "<Figure size 640x480 with 1 Axes>"
            ],
            "image/png": "[encoded data removed]"
          },
          "metadata": {}
        }
      ],
      "source": [
        "# Cell for matplotlib visualization\n",
        "# YOUR CODE HERE\n",
        "\n",
        "# Extract words and probabilities\n",
        "words, probabilities = zip(*top_words)\n",
        "\n",
        "# Create a figure with subplots\n",
        "fig, ax = plt.subplots()\n",
        "\n",
        "# Plot the probabilities\n",
        "ax.bar(words, probabilities, color='red')\n",
        "\n",
        "# Add labels and title\n",
        "ax.set_xlabel('Words')\n",
        "ax.set_ylabel('Probability')\n",
        "ax.set_title(f'Top 3 Words and Their Probabilities in Topic {topic_id + 1}')\n",
        "\n",
        "# Rotate x-axis labels for better readability\n",
        "# plt.xticks(rotation=45)\n",
        "\n",
        "# Show plot\n",
        "# plt.tight_layout()  # Adjust layout to prevent labels from getting cut off\n",
        "plt.show()\n",
        "\n",
        "# Assign visualization to a variable\n",
        "visual_plot = fig"
      ]
    }
  ]
}
