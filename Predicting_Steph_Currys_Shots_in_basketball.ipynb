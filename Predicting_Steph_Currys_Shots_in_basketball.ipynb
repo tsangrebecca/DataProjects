{
  "cells": [
    {
      "cell_type": "markdown",
      "metadata": {
        "id": "view-in-github",
        "colab_type": "text"
      },
      "source": [
        "<a href=\"https://colab.research.google.com/github/tsangrebecca/PersonalProjects/blob/main/Predicting_Steph_Currys_Shots_in_basketball.ipynb\" target=\"_parent\"><img src=\"https://colab.research.google.com/assets/colab-badge.svg\" alt=\"Open In Colab\"/></a>"
      ]
    },
    {
      "cell_type": "code",
      "execution_count": null,
      "metadata": {
        "deletable": false,
        "editable": false,
        "id": "-a7Lo3XiOUrH",
        "nbgrader": {
          "cell_type": "code",
          "checksum": "2cf805202878a43b6677e1d45ac4da6d",
          "grade": false,
          "grade_id": "cell-fd3a0dbfc4b9265f",
          "locked": true,
          "schema_version": 3,
          "solution": false,
          "task": false
        }
      },
      "outputs": [],
      "source": [
        "%%capture\n",
        "import sys\n",
        "\n",
        "if 'google.colab' in sys.modules:\n",
        "    # Install packages in Colab\n",
        "    !pip install category_encoders"
      ]
    },
    {
      "cell_type": "markdown",
      "metadata": {
        "deletable": false,
        "editable": false,
        "id": "VGLNhZO_OUrM",
        "nbgrader": {
          "cell_type": "markdown",
          "checksum": "88ba1fa9ea78f0afb94fcb9aa53f7435",
          "grade": false,
          "grade_id": "cell-d6eff2274645bd61",
          "locked": true,
          "schema_version": 3,
          "solution": false,
          "task": false
        }
      },
      "source": [
        "\n",
        "# Predict Steph Curry's Shots 🏀\n",
        "\n",
        "This dataset is all of Steph Curry's NBA field goal attempts from October 2009 through June 2019 (regular season and playoffs) collected with the [nba_api](https://github.com/swar/nba_api) Python library.\n",
        "\n",
        "The goal is to predict whether Curry will make a shot based on his past perfomance."
      ]
    },
    {
      "cell_type": "markdown",
      "metadata": {
        "deletable": false,
        "editable": false,
        "id": "K3xt9YTSOUrN",
        "nbgrader": {
          "cell_type": "markdown",
          "checksum": "746679bdefe8a36452807b584846628e",
          "grade": false,
          "grade_id": "cell-9aed6a1cff735430",
          "locked": true,
          "schema_version": 3,
          "solution": false,
          "task": false
        }
      },
      "source": [
        "# Steps\n",
        "\n",
        "- **Step 1:** Importing data.\n",
        "- **Step 2:** Feature engineering.\n",
        "- **Step 3:** Splitting data into a feature matrix and target vector.\n",
        "- **Step 4:** Splitting data into training, validation, and test sets.\n",
        "- **Step 5:** Establishing baseline accuracy.\n",
        "- **Step 6:** Building a model with a transformer and a tree-based predictor.\n",
        "- **Step 7:** Calculating training and validation accuracy.\n",
        "- **Step 8 (`stretch goal`):** Tuning model hyperparameters.\n",
        "- **Step 9:** Calculating precision and recall from a confusion matrix.\n",
        "- **Step 10 (`stretch goal`):** Plotting a confusion matrix.\n"
      ]
    },
    {
      "cell_type": "code",
      "source": [
        "from category_encoders import OrdinalEncoder\n",
        "import numpy as np\n",
        "import pandas as pd\n",
        "import matplotlib.pyplot as plt\n",
        "from sklearn.ensemble import RandomForestClassifier\n",
        "from sklearn.impute import SimpleImputer\n",
        "from sklearn.metrics import ConfusionMatrixDisplay, classification_report\n",
        "from sklearn.pipeline import make_pipeline\n",
        "from sklearn.preprocessing import StandardScaler\n",
        "from sklearn.model_selection import RandomizedSearchCV"
      ],
      "metadata": {
        "id": "4B1FZGYuEJSZ"
      },
      "execution_count": null,
      "outputs": []
    },
    {
      "cell_type": "markdown",
      "metadata": {
        "deletable": false,
        "editable": false,
        "id": "8CakIhmwOUrP",
        "nbgrader": {
          "cell_type": "markdown",
          "checksum": "eea5568a328ffc86470fc220567bfcd4",
          "grade": false,
          "grade_id": "cell-09a1516a86d168cc",
          "locked": true,
          "schema_version": 3,
          "solution": false,
          "task": false
        }
      },
      "source": [
        "# I. Wrangle Data"
      ]
    },
    {
      "cell_type": "code",
      "execution_count": null,
      "metadata": {
        "deletable": false,
        "id": "NWVOhicLOUrQ",
        "nbgrader": {
          "cell_type": "code",
          "checksum": "3a6e0dfee7d760919c2fd0182e764b5f",
          "grade": false,
          "grade_id": "225SC_01a_q",
          "locked": false,
          "schema_version": 3,
          "solution": true,
          "task": false
        }
      },
      "outputs": [],
      "source": [
        "import pandas as pd\n",
        "\n",
        "url = 'https://drive.google.com/uc?export=download&id=1fL7KPyxgGYfQDsuJoBWHIWwCAf-HTFpX'\n",
        "df = pd.read_csv(url,\n",
        "                 parse_dates=['game_date'],\n",
        "                 index_col='game_date')"
      ]
    },
    {
      "cell_type": "code",
      "execution_count": null,
      "metadata": {
        "id": "uzuuzJrhD1i3",
        "colab": {
          "base_uri": "https://localhost:8080/"
        },
        "outputId": "4df58c75-7b5b-4ada-a807-82de8970f23a"
      },
      "outputs": [
        {
          "output_type": "execute_result",
          "data": {
            "text/plain": [
              "pandas.core.indexes.datetimes.DatetimeIndex"
            ]
          },
          "metadata": {},
          "execution_count": 89
        }
      ],
      "source": [
        "type(df.index)"
      ]
    },
    {
      "cell_type": "code",
      "source": [
        "# url = 'https://drive.google.com/uc?export=download&id=1fL7KPyxgGYfQDsuJoBWHIWwCAf-HTFpX'\n",
        "# df = pd.read_csv(url,\n",
        "#                  parse_dates=['game_date'],\n",
        "#                  index_col='game_date')\n",
        "\n",
        "# ADD FEATURE secs_left_in_period column\n",
        "df['total_seconds_remaining'] = df['minutes_remaining']*60 + df['seconds_remaining']\n",
        "# # drop duplicate and constant columns\n",
        "# columns_to_drop = ['minutes_remaining', 'seconds_remaining'] # not dropping player_name to pass the test\n",
        "# df = df.drop(columns=columns_to_drop)\n",
        "# change name\n",
        "# df = df.rename(columns={'total_seconds_remaining': 'secs_left_in_period'})\n",
        "\n",
        "# ADD FEATURE if game is overtime\n",
        "df['overtime'] = (df['period'] == 5) | (df['period'] == 6)\n",
        "df['overtime'] = df['overtime'].astype(int)\n",
        "\n",
        "# ADD FEATURE 'home_adv' with True for 'gsw' and False otherwise\n",
        "df['home_adv'] = df['htm'] == 'GSW'\n",
        "# Convert True and False to 1 and 0 in the 'is_gsw' column\n",
        "df['home_adv'] = df['home_adv'].astype(int)\n",
        "\n",
        "# convert objects to string\n",
        "# df['action_type'] = df['action_type'].astype(str) <--- necessary?\n",
        "\n",
        "# # parse date\n",
        "# df['game_date'] = pd.to_datetime(df['game_date'])\n",
        "\n",
        "# we don't have missing values!"
      ],
      "metadata": {
        "id": "4UavhS5YbsaS"
      },
      "execution_count": null,
      "outputs": []
    },
    {
      "cell_type": "code",
      "source": [
        "df.shape"
      ],
      "metadata": {
        "colab": {
          "base_uri": "https://localhost:8080/"
        },
        "id": "5VVj3nbahxWG",
        "outputId": "73688bd4-5a6a-4e88-eba3-5adc4d97165b"
      },
      "execution_count": null,
      "outputs": [
        {
          "output_type": "execute_result",
          "data": {
            "text/plain": [
              "(13958, 22)"
            ]
          },
          "metadata": {},
          "execution_count": 92
        }
      ]
    },
    {
      "cell_type": "markdown",
      "metadata": {
        "deletable": false,
        "editable": false,
        "id": "Nh3whBpUOUrZ",
        "nbgrader": {
          "cell_type": "markdown",
          "checksum": "d4c27458bcc532324a3a506a1cf41a2c",
          "grade": false,
          "grade_id": "cell-965e44063af534b5",
          "locked": true,
          "schema_version": 3,
          "solution": false,
          "task": false
        }
      },
      "source": [
        "# II. Split Data"
      ]
    },
    {
      "cell_type": "code",
      "execution_count": null,
      "metadata": {
        "deletable": false,
        "id": "1S9T0AfMOUrZ",
        "nbgrader": {
          "cell_type": "code",
          "checksum": "0f30252ff9e8f3519a29d0364bb2f53b",
          "grade": false,
          "grade_id": "225SC_02a_q",
          "locked": false,
          "schema_version": 3,
          "solution": true,
          "task": false
        }
      },
      "outputs": [],
      "source": [
        "target = 'shot_made_flag'\n",
        "y = df[target]\n",
        "X = df.drop(columns=target)"
      ]
    },
    {
      "cell_type": "markdown",
      "metadata": {
        "deletable": false,
        "editable": false,
        "id": "YE1j6w2lOUrc",
        "nbgrader": {
          "cell_type": "markdown",
          "checksum": "efdf9f11506650d3ae868cf4811f8292",
          "grade": false,
          "grade_id": "cell-5f93454935747581",
          "locked": true,
          "schema_version": 3,
          "solution": false,
          "task": false
        }
      },
      "source": [
        "- training set (`X_train`, `y_train`) contains games from the 2009-10 season through the end of the 2016-17 season.\n",
        "- validation set (`X_val`, `y_val`) contains games from the 2017-18 season.\n",
        "- test set (`X_test`, `y_test`) contains games from the 2018-2019 season.\n",
        "- The NBA season begins in October and ends in June."
      ]
    },
    {
      "cell_type": "code",
      "execution_count": null,
      "metadata": {
        "deletable": false,
        "id": "9BvdaqRoOUrc",
        "nbgrader": {
          "cell_type": "code",
          "checksum": "a786d072437c2876b466722a64ff5085",
          "grade": false,
          "grade_id": "225SC_02b_q",
          "locked": false,
          "schema_version": 3,
          "solution": true,
          "task": false
        }
      },
      "outputs": [],
      "source": [
        "# Set the date cutoffs for training, validation, and testing\n",
        "train_cutoff = '2017-07-01'\n",
        "val_cutoff = '2018-07-01'\n",
        "\n",
        "# Create boolean masks based on date cutoffs\n",
        "train_mask = X.index < train_cutoff\n",
        "val_mask = (X.index >= train_cutoff) & (X.index < val_cutoff)\n",
        "test_mask = X.index >= val_cutoff\n",
        "\n",
        "# Split the data using the masks\n",
        "X_train, y_train = X.loc[train_mask], y.loc[train_mask]\n",
        "X_val, y_val = X.loc[val_mask], y.loc[val_mask]\n",
        "X_test, y_test = X.loc[test_mask], y.loc[test_mask]"
      ]
    },
    {
      "cell_type": "code",
      "execution_count": null,
      "metadata": {
        "deletable": false,
        "editable": false,
        "id": "MjBRCehWOUrf",
        "nbgrader": {
          "cell_type": "code",
          "checksum": "542e32df51f2c93a1f6676c076bbcaa6",
          "grade": true,
          "grade_id": "225SC_02_a",
          "locked": true,
          "points": 1,
          "schema_version": 3,
          "solution": false,
          "task": false
        }
      },
      "outputs": [],
      "source": [
        "assert len(X_train) == len(y_train) == 11081\n",
        "assert len(X_val) == len(y_val) == 1168\n",
        "assert len(X_test) == len(y_test) == 1709\n"
      ]
    },
    {
      "cell_type": "markdown",
      "metadata": {
        "deletable": false,
        "editable": false,
        "id": "8NYOGp4MOUrh",
        "nbgrader": {
          "cell_type": "markdown",
          "checksum": "416ca1511e492007ecf7e71ae9634237",
          "grade": false,
          "grade_id": "cell-28f236308828133c",
          "locked": true,
          "schema_version": 3,
          "solution": false,
          "task": false
        }
      },
      "source": [
        "# III. Establish Baseline"
      ]
    },
    {
      "cell_type": "code",
      "execution_count": null,
      "metadata": {
        "deletable": false,
        "id": "6eZiCkSDOUri",
        "nbgrader": {
          "cell_type": "code",
          "checksum": "c28391427425a03d66b5e324e586f299",
          "grade": false,
          "grade_id": "225SC_03_q",
          "locked": false,
          "schema_version": 3,
          "solution": true,
          "task": false
        },
        "colab": {
          "base_uri": "https://localhost:8080/"
        },
        "outputId": "f7609d3a-9305-433d-b93f-199ac348ccd7"
      },
      "outputs": [
        {
          "output_type": "stream",
          "name": "stdout",
          "text": [
            "Baseline Accuracy: 0.5272087356736757\n"
          ]
        }
      ],
      "source": [
        "baseline_acc = y_train.value_counts(normalize=True).max()\n",
        "print('Baseline Accuracy:', baseline_acc)"
      ]
    },
    {
      "cell_type": "markdown",
      "metadata": {
        "deletable": false,
        "editable": false,
        "id": "ZhvHv71JOUrn",
        "nbgrader": {
          "cell_type": "markdown",
          "checksum": "0373e6c6d748ecfb29c1638f8c93f33a",
          "grade": false,
          "grade_id": "cell-36a0288a6c00e795",
          "locked": true,
          "schema_version": 3,
          "solution": false,
          "task": false
        }
      },
      "source": [
        "# IV. Build Model"
      ]
    },
    {
      "cell_type": "code",
      "execution_count": null,
      "metadata": {
        "deletable": false,
        "id": "UidpqqMwOUro",
        "nbgrader": {
          "cell_type": "code",
          "checksum": "3fc6b9e2872bf60a7b829741ab8d8774",
          "grade": false,
          "grade_id": "225SC_04_q",
          "locked": false,
          "schema_version": 3,
          "solution": true,
          "task": false
        },
        "colab": {
          "base_uri": "https://localhost:8080/",
          "height": 125
        },
        "outputId": "83f8feef-adf7-4137-e0fe-382d7166e04e"
      },
      "outputs": [
        {
          "output_type": "execute_result",
          "data": {
            "text/plain": [
              "Pipeline(steps=[('ordinalencoder',\n",
              "                 OrdinalEncoder(cols=['player_name', 'action_type', 'shot_type',\n",
              "                                      'shot_zone_basic', 'shot_zone_area',\n",
              "                                      'shot_zone_range', 'htm', 'vtm',\n",
              "                                      'season_type'],\n",
              "                                mapping=[{'col': 'player_name',\n",
              "                                          'data_type': dtype('O'),\n",
              "                                          'mapping': Stephen Curry    1\n",
              "NaN             -2\n",
              "dtype: int64},\n",
              "                                         {'col': 'action_type',\n",
              "                                          'data_type': dtype('O'),\n",
              "                                          'mapping': Jump Shot                              1\n",
              "Step Back Jump shot                    2\n",
              "P...\n",
              "MEM     3\n",
              "LAC     4\n",
              "MIN     5\n",
              "POR     6\n",
              "LAL     7\n",
              "IND     8\n",
              "ORL     9\n",
              "SAS    10\n",
              "WAS    11\n",
              "PHX    12\n",
              "BOS    13\n",
              "SAC    14\n",
              "CLE    15\n",
              "MIA    16\n",
              "MIL    17\n",
              "CHI    18\n",
              "DEN    19\n",
              "NJN    20\n",
              "NOH    21\n",
              "CHA    22\n",
              "OKC    23\n",
              "DAL    24\n",
              "UTA    25\n",
              "ATL    26\n",
              "PHI    27\n",
              "DET    28\n",
              "TOR    29\n",
              "NYK    30\n",
              "BKN    31\n",
              "NOP    32\n",
              "NaN    -2\n",
              "dtype: int64},\n",
              "                                         {'col': 'season_type',\n",
              "                                          'data_type': dtype('O'),\n",
              "                                          'mapping': Regular Season    1\n",
              "Playoffs          2\n",
              "NaN              -2\n",
              "dtype: int64}])),\n",
              "                ('randomforestclassifier',\n",
              "                 RandomForestClassifier(n_estimators=25, n_jobs=-1,\n",
              "                                        random_state=42))])"
            ],
            "text/html": [
              "<style>#sk-container-id-25 {color: black;background-color: white;}#sk-container-id-25 pre{padding: 0;}#sk-container-id-25 div.sk-toggleable {background-color: white;}#sk-container-id-25 label.sk-toggleable__label {cursor: pointer;display: block;width: 100%;margin-bottom: 0;padding: 0.3em;box-sizing: border-box;text-align: center;}#sk-container-id-25 label.sk-toggleable__label-arrow:before {content: \"▸\";float: left;margin-right: 0.25em;color: #696969;}#sk-container-id-25 label.sk-toggleable__label-arrow:hover:before {color: black;}#sk-container-id-25 div.sk-estimator:hover label.sk-toggleable__label-arrow:before {color: black;}#sk-container-id-25 div.sk-toggleable__content {max-height: 0;max-width: 0;overflow: hidden;text-align: left;background-color: #f0f8ff;}#sk-container-id-25 div.sk-toggleable__content pre {margin: 0.2em;color: black;border-radius: 0.25em;background-color: #f0f8ff;}#sk-container-id-25 input.sk-toggleable__control:checked~div.sk-toggleable__content {max-height: 200px;max-width: 100%;overflow: auto;}#sk-container-id-25 input.sk-toggleable__control:checked~label.sk-toggleable__label-arrow:before {content: \"▾\";}#sk-container-id-25 div.sk-estimator input.sk-toggleable__control:checked~label.sk-toggleable__label {background-color: #d4ebff;}#sk-container-id-25 div.sk-label input.sk-toggleable__control:checked~label.sk-toggleable__label {background-color: #d4ebff;}#sk-container-id-25 input.sk-hidden--visually {border: 0;clip: rect(1px 1px 1px 1px);clip: rect(1px, 1px, 1px, 1px);height: 1px;margin: -1px;overflow: hidden;padding: 0;position: absolute;width: 1px;}#sk-container-id-25 div.sk-estimator {font-family: monospace;background-color: #f0f8ff;border: 1px dotted black;border-radius: 0.25em;box-sizing: border-box;margin-bottom: 0.5em;}#sk-container-id-25 div.sk-estimator:hover {background-color: #d4ebff;}#sk-container-id-25 div.sk-parallel-item::after {content: \"\";width: 100%;border-bottom: 1px solid gray;flex-grow: 1;}#sk-container-id-25 div.sk-label:hover label.sk-toggleable__label {background-color: #d4ebff;}#sk-container-id-25 div.sk-serial::before {content: \"\";position: absolute;border-left: 1px solid gray;box-sizing: border-box;top: 0;bottom: 0;left: 50%;z-index: 0;}#sk-container-id-25 div.sk-serial {display: flex;flex-direction: column;align-items: center;background-color: white;padding-right: 0.2em;padding-left: 0.2em;position: relative;}#sk-container-id-25 div.sk-item {position: relative;z-index: 1;}#sk-container-id-25 div.sk-parallel {display: flex;align-items: stretch;justify-content: center;background-color: white;position: relative;}#sk-container-id-25 div.sk-item::before, #sk-container-id-25 div.sk-parallel-item::before {content: \"\";position: absolute;border-left: 1px solid gray;box-sizing: border-box;top: 0;bottom: 0;left: 50%;z-index: -1;}#sk-container-id-25 div.sk-parallel-item {display: flex;flex-direction: column;z-index: 1;position: relative;background-color: white;}#sk-container-id-25 div.sk-parallel-item:first-child::after {align-self: flex-end;width: 50%;}#sk-container-id-25 div.sk-parallel-item:last-child::after {align-self: flex-start;width: 50%;}#sk-container-id-25 div.sk-parallel-item:only-child::after {width: 0;}#sk-container-id-25 div.sk-dashed-wrapped {border: 1px dashed gray;margin: 0 0.4em 0.5em 0.4em;box-sizing: border-box;padding-bottom: 0.4em;background-color: white;}#sk-container-id-25 div.sk-label label {font-family: monospace;font-weight: bold;display: inline-block;line-height: 1.2em;}#sk-container-id-25 div.sk-label-container {text-align: center;}#sk-container-id-25 div.sk-container {/* jupyter's `normalize.less` sets `[hidden] { display: none; }` but bootstrap.min.css set `[hidden] { display: none !important; }` so we also need the `!important` here to be able to override the default hidden behavior on the sphinx rendered scikit-learn.org. See: https://github.com/scikit-learn/scikit-learn/issues/21755 */display: inline-block !important;position: relative;}#sk-container-id-25 div.sk-text-repr-fallback {display: none;}</style><div id=\"sk-container-id-25\" class=\"sk-top-container\"><div class=\"sk-text-repr-fallback\"><pre>Pipeline(steps=[(&#x27;ordinalencoder&#x27;,\n",
              "                 OrdinalEncoder(cols=[&#x27;player_name&#x27;, &#x27;action_type&#x27;, &#x27;shot_type&#x27;,\n",
              "                                      &#x27;shot_zone_basic&#x27;, &#x27;shot_zone_area&#x27;,\n",
              "                                      &#x27;shot_zone_range&#x27;, &#x27;htm&#x27;, &#x27;vtm&#x27;,\n",
              "                                      &#x27;season_type&#x27;],\n",
              "                                mapping=[{&#x27;col&#x27;: &#x27;player_name&#x27;,\n",
              "                                          &#x27;data_type&#x27;: dtype(&#x27;O&#x27;),\n",
              "                                          &#x27;mapping&#x27;: Stephen Curry    1\n",
              "NaN             -2\n",
              "dtype: int64},\n",
              "                                         {&#x27;col&#x27;: &#x27;action_type&#x27;,\n",
              "                                          &#x27;data_type&#x27;: dtype(&#x27;O&#x27;),\n",
              "                                          &#x27;mapping&#x27;: Jump Shot                              1\n",
              "Step Back Jump shot                    2\n",
              "P...\n",
              "MEM     3\n",
              "LAC     4\n",
              "MIN     5\n",
              "POR     6\n",
              "LAL     7\n",
              "IND     8\n",
              "ORL     9\n",
              "SAS    10\n",
              "WAS    11\n",
              "PHX    12\n",
              "BOS    13\n",
              "SAC    14\n",
              "CLE    15\n",
              "MIA    16\n",
              "MIL    17\n",
              "CHI    18\n",
              "DEN    19\n",
              "NJN    20\n",
              "NOH    21\n",
              "CHA    22\n",
              "OKC    23\n",
              "DAL    24\n",
              "UTA    25\n",
              "ATL    26\n",
              "PHI    27\n",
              "DET    28\n",
              "TOR    29\n",
              "NYK    30\n",
              "BKN    31\n",
              "NOP    32\n",
              "NaN    -2\n",
              "dtype: int64},\n",
              "                                         {&#x27;col&#x27;: &#x27;season_type&#x27;,\n",
              "                                          &#x27;data_type&#x27;: dtype(&#x27;O&#x27;),\n",
              "                                          &#x27;mapping&#x27;: Regular Season    1\n",
              "Playoffs          2\n",
              "NaN              -2\n",
              "dtype: int64}])),\n",
              "                (&#x27;randomforestclassifier&#x27;,\n",
              "                 RandomForestClassifier(n_estimators=25, n_jobs=-1,\n",
              "                                        random_state=42))])</pre><b>In a Jupyter environment, please rerun this cell to show the HTML representation or trust the notebook. <br />On GitHub, the HTML representation is unable to render, please try loading this page with nbviewer.org.</b></div><div class=\"sk-container\" hidden><div class=\"sk-item sk-dashed-wrapped\"><div class=\"sk-label-container\"><div class=\"sk-label sk-toggleable\"><input class=\"sk-toggleable__control sk-hidden--visually\" id=\"sk-estimator-id-96\" type=\"checkbox\" ><label for=\"sk-estimator-id-96\" class=\"sk-toggleable__label sk-toggleable__label-arrow\">Pipeline</label><div class=\"sk-toggleable__content\"><pre>Pipeline(steps=[(&#x27;ordinalencoder&#x27;,\n",
              "                 OrdinalEncoder(cols=[&#x27;player_name&#x27;, &#x27;action_type&#x27;, &#x27;shot_type&#x27;,\n",
              "                                      &#x27;shot_zone_basic&#x27;, &#x27;shot_zone_area&#x27;,\n",
              "                                      &#x27;shot_zone_range&#x27;, &#x27;htm&#x27;, &#x27;vtm&#x27;,\n",
              "                                      &#x27;season_type&#x27;],\n",
              "                                mapping=[{&#x27;col&#x27;: &#x27;player_name&#x27;,\n",
              "                                          &#x27;data_type&#x27;: dtype(&#x27;O&#x27;),\n",
              "                                          &#x27;mapping&#x27;: Stephen Curry    1\n",
              "NaN             -2\n",
              "dtype: int64},\n",
              "                                         {&#x27;col&#x27;: &#x27;action_type&#x27;,\n",
              "                                          &#x27;data_type&#x27;: dtype(&#x27;O&#x27;),\n",
              "                                          &#x27;mapping&#x27;: Jump Shot                              1\n",
              "Step Back Jump shot                    2\n",
              "P...\n",
              "MEM     3\n",
              "LAC     4\n",
              "MIN     5\n",
              "POR     6\n",
              "LAL     7\n",
              "IND     8\n",
              "ORL     9\n",
              "SAS    10\n",
              "WAS    11\n",
              "PHX    12\n",
              "BOS    13\n",
              "SAC    14\n",
              "CLE    15\n",
              "MIA    16\n",
              "MIL    17\n",
              "CHI    18\n",
              "DEN    19\n",
              "NJN    20\n",
              "NOH    21\n",
              "CHA    22\n",
              "OKC    23\n",
              "DAL    24\n",
              "UTA    25\n",
              "ATL    26\n",
              "PHI    27\n",
              "DET    28\n",
              "TOR    29\n",
              "NYK    30\n",
              "BKN    31\n",
              "NOP    32\n",
              "NaN    -2\n",
              "dtype: int64},\n",
              "                                         {&#x27;col&#x27;: &#x27;season_type&#x27;,\n",
              "                                          &#x27;data_type&#x27;: dtype(&#x27;O&#x27;),\n",
              "                                          &#x27;mapping&#x27;: Regular Season    1\n",
              "Playoffs          2\n",
              "NaN              -2\n",
              "dtype: int64}])),\n",
              "                (&#x27;randomforestclassifier&#x27;,\n",
              "                 RandomForestClassifier(n_estimators=25, n_jobs=-1,\n",
              "                                        random_state=42))])</pre></div></div></div><div class=\"sk-serial\"><div class=\"sk-item\"><div class=\"sk-estimator sk-toggleable\"><input class=\"sk-toggleable__control sk-hidden--visually\" id=\"sk-estimator-id-97\" type=\"checkbox\" ><label for=\"sk-estimator-id-97\" class=\"sk-toggleable__label sk-toggleable__label-arrow\">OrdinalEncoder</label><div class=\"sk-toggleable__content\"><pre>OrdinalEncoder(cols=[&#x27;player_name&#x27;, &#x27;action_type&#x27;, &#x27;shot_type&#x27;,\n",
              "                     &#x27;shot_zone_basic&#x27;, &#x27;shot_zone_area&#x27;, &#x27;shot_zone_range&#x27;,\n",
              "                     &#x27;htm&#x27;, &#x27;vtm&#x27;, &#x27;season_type&#x27;],\n",
              "               mapping=[{&#x27;col&#x27;: &#x27;player_name&#x27;, &#x27;data_type&#x27;: dtype(&#x27;O&#x27;),\n",
              "                         &#x27;mapping&#x27;: Stephen Curry    1\n",
              "NaN             -2\n",
              "dtype: int64},\n",
              "                        {&#x27;col&#x27;: &#x27;action_type&#x27;, &#x27;data_type&#x27;: dtype(&#x27;O&#x27;),\n",
              "                         &#x27;mapping&#x27;: Jump Shot                              1\n",
              "Step Back Jump shot                    2\n",
              "Pullup Jump shot                       3\n",
              "Layup Shot                             4\n",
              "Jump Bank Sh...\n",
              "TOR    28\n",
              "WAS    29\n",
              "NYK    30\n",
              "BKN    31\n",
              "NOP    32\n",
              "NaN    -2\n",
              "dtype: int64},\n",
              "                        {&#x27;col&#x27;: &#x27;vtm&#x27;, &#x27;data_type&#x27;: dtype(&#x27;O&#x27;),\n",
              "                         &#x27;mapping&#x27;: HOU     1\n",
              "GSW     2\n",
              "MEM     3\n",
              "LAC     4\n",
              "MIN     5\n",
              "POR     6\n",
              "LAL     7\n",
              "IND     8\n",
              "ORL     9\n",
              "SAS    10\n",
              "WAS    11\n",
              "PHX    12\n",
              "BOS    13\n",
              "SAC    14\n",
              "CLE    15\n",
              "MIA    16\n",
              "MIL    17\n",
              "CHI    18\n",
              "DEN    19\n",
              "NJN    20\n",
              "NOH    21\n",
              "CHA    22\n",
              "OKC    23\n",
              "DAL    24\n",
              "UTA    25\n",
              "ATL    26\n",
              "PHI    27\n",
              "DET    28\n",
              "TOR    29\n",
              "NYK    30\n",
              "BKN    31\n",
              "NOP    32\n",
              "NaN    -2\n",
              "dtype: int64},\n",
              "                        {&#x27;col&#x27;: &#x27;season_type&#x27;, &#x27;data_type&#x27;: dtype(&#x27;O&#x27;),\n",
              "                         &#x27;mapping&#x27;: Regular Season    1\n",
              "Playoffs          2\n",
              "NaN              -2\n",
              "dtype: int64}])</pre></div></div></div><div class=\"sk-item\"><div class=\"sk-estimator sk-toggleable\"><input class=\"sk-toggleable__control sk-hidden--visually\" id=\"sk-estimator-id-98\" type=\"checkbox\" ><label for=\"sk-estimator-id-98\" class=\"sk-toggleable__label sk-toggleable__label-arrow\">RandomForestClassifier</label><div class=\"sk-toggleable__content\"><pre>RandomForestClassifier(n_estimators=25, n_jobs=-1, random_state=42)</pre></div></div></div></div></div></div></div>"
            ]
          },
          "metadata": {},
          "execution_count": 100
        }
      ],
      "source": [
        "model = make_pipeline(\n",
        "    OrdinalEncoder(),\n",
        "    RandomForestClassifier(n_estimators=25, n_jobs=-1, random_state=42)\n",
        ")\n",
        "\n",
        "model.fit(X_train, y_train)"
      ]
    },
    {
      "cell_type": "markdown",
      "metadata": {
        "deletable": false,
        "editable": false,
        "id": "k_A786FUOUrt",
        "nbgrader": {
          "cell_type": "markdown",
          "checksum": "b830a678806f0afb1fae00d3aae4019c",
          "grade": false,
          "grade_id": "cell-c4ae57b31cfead21",
          "locked": true,
          "schema_version": 3,
          "solution": false,
          "task": false
        }
      },
      "source": [
        "# V. Check Metrics"
      ]
    },
    {
      "cell_type": "code",
      "execution_count": null,
      "metadata": {
        "deletable": false,
        "id": "gHSZCmBhOUru",
        "nbgrader": {
          "cell_type": "code",
          "checksum": "57204172c2fe58d81276cfcb3fe2b88e",
          "grade": false,
          "grade_id": "225SC_05_q",
          "locked": false,
          "schema_version": 3,
          "solution": true,
          "task": false
        },
        "colab": {
          "base_uri": "https://localhost:8080/"
        },
        "outputId": "e47a4d39-ac2f-4965-e98b-6786d8e276e1"
      },
      "outputs": [
        {
          "output_type": "stream",
          "name": "stdout",
          "text": [
            "Training Accuracy Score: 0.9986463315585236\n",
            "Validation Accuracy Score: 0.571917808219178\n"
          ]
        }
      ],
      "source": [
        "train_acc = model.score(X_train, y_train)\n",
        "val_acc = model.score(X_val, y_val)\n",
        "print('Training Accuracy Score:', train_acc)\n",
        "print('Validation Accuracy Score:', val_acc)"
      ]
    },
    {
      "cell_type": "markdown",
      "metadata": {
        "deletable": false,
        "editable": false,
        "nbgrader": {
          "cell_type": "markdown",
          "checksum": "26c6585ca7e1d35df0b4f509ad79ac41",
          "grade": false,
          "grade_id": "cell-40a154aa7afa5ce0",
          "locked": true,
          "schema_version": 3,
          "solution": false,
          "task": false
        },
        "id": "Bs0SfC_yD1jE"
      },
      "source": [
        "# VI. Tune Model\n",
        "\n",
        "Perform tuning \"by hand\" or using [`RandomizedSearchCV`](https://scikit-learn.org/stable/modules/generated/sklearn.model_selection.RandomizedSearchCV.html).\n",
        "\n",
        "- Important hyperparameters for all tree-based models: `max_depth`.\n",
        "- Important hyperparameters for random forest models: `n_estimators`, `max_samples`.\n",
        "- Important hyperparametes for gradient boosting tree models: `n_estimators`, `learning_rate`.\n",
        "\n",
        "- Because I already created a validation set above, there is no need to do k-fold cross-validation here. Set `cv` to `None`.\n",
        "\n",
        "If model's performance on the validation set has a score above `0.6`, then it's not terrible. Also need to calculate its accuracy with test set."
      ]
    },
    {
      "cell_type": "code",
      "execution_count": null,
      "metadata": {
        "deletable": false,
        "nbgrader": {
          "cell_type": "code",
          "checksum": "b5cca689a3aaf250e4f52c3e910bce29",
          "grade": false,
          "grade_id": "cell-573c39cfe6281f06",
          "locked": false,
          "schema_version": 3,
          "solution": true,
          "task": false
        },
        "id": "cdW4NySKD1jE",
        "colab": {
          "base_uri": "https://localhost:8080/",
          "height": 168
        },
        "outputId": "d7941987-beb8-4f95-fddc-b06dfcb34fb3"
      },
      "outputs": [
        {
          "output_type": "stream",
          "name": "stdout",
          "text": [
            "Fitting 5 folds for each of 3 candidates, totalling 15 fits\n"
          ]
        },
        {
          "output_type": "execute_result",
          "data": {
            "text/plain": [
              "RandomizedSearchCV(estimator=Pipeline(steps=[('ordinalencoder',\n",
              "                                              OrdinalEncoder(cols=['player_name',\n",
              "                                                                   'action_type',\n",
              "                                                                   'shot_type',\n",
              "                                                                   'shot_zone_basic',\n",
              "                                                                   'shot_zone_area',\n",
              "                                                                   'shot_zone_range',\n",
              "                                                                   'htm', 'vtm',\n",
              "                                                                   'season_type'],\n",
              "                                                             mapping=[{'col': 'player_name',\n",
              "                                                                       'data_type': dtype('O'),\n",
              "                                                                       'mapping': Stephen Curry    1\n",
              "NaN             -2\n",
              "dtype: int64},\n",
              "                                                                      {'col': 'action_type',\n",
              "                                                                       'data_type': dtype('O'),\n",
              "                                                                       'mapping...\n",
              "                                                                       'mapping': Regular Season    1\n",
              "Playoffs          2\n",
              "NaN              -2\n",
              "dtype: int64}])),\n",
              "                                             ('randomforestclassifier',\n",
              "                                              RandomForestClassifier(n_estimators=25,\n",
              "                                                                     n_jobs=-1,\n",
              "                                                                     random_state=42))]),\n",
              "                   n_iter=3, n_jobs=-1,\n",
              "                   param_distributions={'randomforestclassifier__max_depth': range(5, 40, 5),\n",
              "                                        'randomforestclassifier__max_samples': [0.1,\n",
              "                                                                                0.3,\n",
              "                                                                                0.5,\n",
              "                                                                                0.7,\n",
              "                                                                                0.9,\n",
              "                                                                                1.0],\n",
              "                                        'randomforestclassifier__n_estimators': range(25, 125, 25)},\n",
              "                   verbose=1)"
            ],
            "text/html": [
              "<style>#sk-container-id-29 {color: black;background-color: white;}#sk-container-id-29 pre{padding: 0;}#sk-container-id-29 div.sk-toggleable {background-color: white;}#sk-container-id-29 label.sk-toggleable__label {cursor: pointer;display: block;width: 100%;margin-bottom: 0;padding: 0.3em;box-sizing: border-box;text-align: center;}#sk-container-id-29 label.sk-toggleable__label-arrow:before {content: \"▸\";float: left;margin-right: 0.25em;color: #696969;}#sk-container-id-29 label.sk-toggleable__label-arrow:hover:before {color: black;}#sk-container-id-29 div.sk-estimator:hover label.sk-toggleable__label-arrow:before {color: black;}#sk-container-id-29 div.sk-toggleable__content {max-height: 0;max-width: 0;overflow: hidden;text-align: left;background-color: #f0f8ff;}#sk-container-id-29 div.sk-toggleable__content pre {margin: 0.2em;color: black;border-radius: 0.25em;background-color: #f0f8ff;}#sk-container-id-29 input.sk-toggleable__control:checked~div.sk-toggleable__content {max-height: 200px;max-width: 100%;overflow: auto;}#sk-container-id-29 input.sk-toggleable__control:checked~label.sk-toggleable__label-arrow:before {content: \"▾\";}#sk-container-id-29 div.sk-estimator input.sk-toggleable__control:checked~label.sk-toggleable__label {background-color: #d4ebff;}#sk-container-id-29 div.sk-label input.sk-toggleable__control:checked~label.sk-toggleable__label {background-color: #d4ebff;}#sk-container-id-29 input.sk-hidden--visually {border: 0;clip: rect(1px 1px 1px 1px);clip: rect(1px, 1px, 1px, 1px);height: 1px;margin: -1px;overflow: hidden;padding: 0;position: absolute;width: 1px;}#sk-container-id-29 div.sk-estimator {font-family: monospace;background-color: #f0f8ff;border: 1px dotted black;border-radius: 0.25em;box-sizing: border-box;margin-bottom: 0.5em;}#sk-container-id-29 div.sk-estimator:hover {background-color: #d4ebff;}#sk-container-id-29 div.sk-parallel-item::after {content: \"\";width: 100%;border-bottom: 1px solid gray;flex-grow: 1;}#sk-container-id-29 div.sk-label:hover label.sk-toggleable__label {background-color: #d4ebff;}#sk-container-id-29 div.sk-serial::before {content: \"\";position: absolute;border-left: 1px solid gray;box-sizing: border-box;top: 0;bottom: 0;left: 50%;z-index: 0;}#sk-container-id-29 div.sk-serial {display: flex;flex-direction: column;align-items: center;background-color: white;padding-right: 0.2em;padding-left: 0.2em;position: relative;}#sk-container-id-29 div.sk-item {position: relative;z-index: 1;}#sk-container-id-29 div.sk-parallel {display: flex;align-items: stretch;justify-content: center;background-color: white;position: relative;}#sk-container-id-29 div.sk-item::before, #sk-container-id-29 div.sk-parallel-item::before {content: \"\";position: absolute;border-left: 1px solid gray;box-sizing: border-box;top: 0;bottom: 0;left: 50%;z-index: -1;}#sk-container-id-29 div.sk-parallel-item {display: flex;flex-direction: column;z-index: 1;position: relative;background-color: white;}#sk-container-id-29 div.sk-parallel-item:first-child::after {align-self: flex-end;width: 50%;}#sk-container-id-29 div.sk-parallel-item:last-child::after {align-self: flex-start;width: 50%;}#sk-container-id-29 div.sk-parallel-item:only-child::after {width: 0;}#sk-container-id-29 div.sk-dashed-wrapped {border: 1px dashed gray;margin: 0 0.4em 0.5em 0.4em;box-sizing: border-box;padding-bottom: 0.4em;background-color: white;}#sk-container-id-29 div.sk-label label {font-family: monospace;font-weight: bold;display: inline-block;line-height: 1.2em;}#sk-container-id-29 div.sk-label-container {text-align: center;}#sk-container-id-29 div.sk-container {/* jupyter's `normalize.less` sets `[hidden] { display: none; }` but bootstrap.min.css set `[hidden] { display: none !important; }` so we also need the `!important` here to be able to override the default hidden behavior on the sphinx rendered scikit-learn.org. See: https://github.com/scikit-learn/scikit-learn/issues/21755 */display: inline-block !important;position: relative;}#sk-container-id-29 div.sk-text-repr-fallback {display: none;}</style><div id=\"sk-container-id-29\" class=\"sk-top-container\"><div class=\"sk-text-repr-fallback\"><pre>RandomizedSearchCV(estimator=Pipeline(steps=[(&#x27;ordinalencoder&#x27;,\n",
              "                                              OrdinalEncoder(cols=[&#x27;player_name&#x27;,\n",
              "                                                                   &#x27;action_type&#x27;,\n",
              "                                                                   &#x27;shot_type&#x27;,\n",
              "                                                                   &#x27;shot_zone_basic&#x27;,\n",
              "                                                                   &#x27;shot_zone_area&#x27;,\n",
              "                                                                   &#x27;shot_zone_range&#x27;,\n",
              "                                                                   &#x27;htm&#x27;, &#x27;vtm&#x27;,\n",
              "                                                                   &#x27;season_type&#x27;],\n",
              "                                                             mapping=[{&#x27;col&#x27;: &#x27;player_name&#x27;,\n",
              "                                                                       &#x27;data_type&#x27;: dtype(&#x27;O&#x27;),\n",
              "                                                                       &#x27;mapping&#x27;: Stephen Curry    1\n",
              "NaN             -2\n",
              "dtype: int64},\n",
              "                                                                      {&#x27;col&#x27;: &#x27;action_type&#x27;,\n",
              "                                                                       &#x27;data_type&#x27;: dtype(&#x27;O&#x27;),\n",
              "                                                                       &#x27;mapping...\n",
              "                                                                       &#x27;mapping&#x27;: Regular Season    1\n",
              "Playoffs          2\n",
              "NaN              -2\n",
              "dtype: int64}])),\n",
              "                                             (&#x27;randomforestclassifier&#x27;,\n",
              "                                              RandomForestClassifier(n_estimators=25,\n",
              "                                                                     n_jobs=-1,\n",
              "                                                                     random_state=42))]),\n",
              "                   n_iter=3, n_jobs=-1,\n",
              "                   param_distributions={&#x27;randomforestclassifier__max_depth&#x27;: range(5, 40, 5),\n",
              "                                        &#x27;randomforestclassifier__max_samples&#x27;: [0.1,\n",
              "                                                                                0.3,\n",
              "                                                                                0.5,\n",
              "                                                                                0.7,\n",
              "                                                                                0.9,\n",
              "                                                                                1.0],\n",
              "                                        &#x27;randomforestclassifier__n_estimators&#x27;: range(25, 125, 25)},\n",
              "                   verbose=1)</pre><b>In a Jupyter environment, please rerun this cell to show the HTML representation or trust the notebook. <br />On GitHub, the HTML representation is unable to render, please try loading this page with nbviewer.org.</b></div><div class=\"sk-container\" hidden><div class=\"sk-item sk-dashed-wrapped\"><div class=\"sk-label-container\"><div class=\"sk-label sk-toggleable\"><input class=\"sk-toggleable__control sk-hidden--visually\" id=\"sk-estimator-id-111\" type=\"checkbox\" ><label for=\"sk-estimator-id-111\" class=\"sk-toggleable__label sk-toggleable__label-arrow\">RandomizedSearchCV</label><div class=\"sk-toggleable__content\"><pre>RandomizedSearchCV(estimator=Pipeline(steps=[(&#x27;ordinalencoder&#x27;,\n",
              "                                              OrdinalEncoder(cols=[&#x27;player_name&#x27;,\n",
              "                                                                   &#x27;action_type&#x27;,\n",
              "                                                                   &#x27;shot_type&#x27;,\n",
              "                                                                   &#x27;shot_zone_basic&#x27;,\n",
              "                                                                   &#x27;shot_zone_area&#x27;,\n",
              "                                                                   &#x27;shot_zone_range&#x27;,\n",
              "                                                                   &#x27;htm&#x27;, &#x27;vtm&#x27;,\n",
              "                                                                   &#x27;season_type&#x27;],\n",
              "                                                             mapping=[{&#x27;col&#x27;: &#x27;player_name&#x27;,\n",
              "                                                                       &#x27;data_type&#x27;: dtype(&#x27;O&#x27;),\n",
              "                                                                       &#x27;mapping&#x27;: Stephen Curry    1\n",
              "NaN             -2\n",
              "dtype: int64},\n",
              "                                                                      {&#x27;col&#x27;: &#x27;action_type&#x27;,\n",
              "                                                                       &#x27;data_type&#x27;: dtype(&#x27;O&#x27;),\n",
              "                                                                       &#x27;mapping...\n",
              "                                                                       &#x27;mapping&#x27;: Regular Season    1\n",
              "Playoffs          2\n",
              "NaN              -2\n",
              "dtype: int64}])),\n",
              "                                             (&#x27;randomforestclassifier&#x27;,\n",
              "                                              RandomForestClassifier(n_estimators=25,\n",
              "                                                                     n_jobs=-1,\n",
              "                                                                     random_state=42))]),\n",
              "                   n_iter=3, n_jobs=-1,\n",
              "                   param_distributions={&#x27;randomforestclassifier__max_depth&#x27;: range(5, 40, 5),\n",
              "                                        &#x27;randomforestclassifier__max_samples&#x27;: [0.1,\n",
              "                                                                                0.3,\n",
              "                                                                                0.5,\n",
              "                                                                                0.7,\n",
              "                                                                                0.9,\n",
              "                                                                                1.0],\n",
              "                                        &#x27;randomforestclassifier__n_estimators&#x27;: range(25, 125, 25)},\n",
              "                   verbose=1)</pre></div></div></div><div class=\"sk-parallel\"><div class=\"sk-parallel-item\"><div class=\"sk-item\"><div class=\"sk-label-container\"><div class=\"sk-label sk-toggleable\"><input class=\"sk-toggleable__control sk-hidden--visually\" id=\"sk-estimator-id-112\" type=\"checkbox\" ><label for=\"sk-estimator-id-112\" class=\"sk-toggleable__label sk-toggleable__label-arrow\">estimator: Pipeline</label><div class=\"sk-toggleable__content\"><pre>Pipeline(steps=[(&#x27;ordinalencoder&#x27;,\n",
              "                 OrdinalEncoder(cols=[&#x27;player_name&#x27;, &#x27;action_type&#x27;, &#x27;shot_type&#x27;,\n",
              "                                      &#x27;shot_zone_basic&#x27;, &#x27;shot_zone_area&#x27;,\n",
              "                                      &#x27;shot_zone_range&#x27;, &#x27;htm&#x27;, &#x27;vtm&#x27;,\n",
              "                                      &#x27;season_type&#x27;],\n",
              "                                mapping=[{&#x27;col&#x27;: &#x27;player_name&#x27;,\n",
              "                                          &#x27;data_type&#x27;: dtype(&#x27;O&#x27;),\n",
              "                                          &#x27;mapping&#x27;: Stephen Curry    1\n",
              "NaN             -2\n",
              "dtype: int64},\n",
              "                                         {&#x27;col&#x27;: &#x27;action_type&#x27;,\n",
              "                                          &#x27;data_type&#x27;: dtype(&#x27;O&#x27;),\n",
              "                                          &#x27;mapping&#x27;: Jump Shot                              1\n",
              "Step Back Jump shot                    2\n",
              "P...\n",
              "MEM     3\n",
              "LAC     4\n",
              "MIN     5\n",
              "POR     6\n",
              "LAL     7\n",
              "IND     8\n",
              "ORL     9\n",
              "SAS    10\n",
              "WAS    11\n",
              "PHX    12\n",
              "BOS    13\n",
              "SAC    14\n",
              "CLE    15\n",
              "MIA    16\n",
              "MIL    17\n",
              "CHI    18\n",
              "DEN    19\n",
              "NJN    20\n",
              "NOH    21\n",
              "CHA    22\n",
              "OKC    23\n",
              "DAL    24\n",
              "UTA    25\n",
              "ATL    26\n",
              "PHI    27\n",
              "DET    28\n",
              "TOR    29\n",
              "NYK    30\n",
              "BKN    31\n",
              "NOP    32\n",
              "NaN    -2\n",
              "dtype: int64},\n",
              "                                         {&#x27;col&#x27;: &#x27;season_type&#x27;,\n",
              "                                          &#x27;data_type&#x27;: dtype(&#x27;O&#x27;),\n",
              "                                          &#x27;mapping&#x27;: Regular Season    1\n",
              "Playoffs          2\n",
              "NaN              -2\n",
              "dtype: int64}])),\n",
              "                (&#x27;randomforestclassifier&#x27;,\n",
              "                 RandomForestClassifier(n_estimators=25, n_jobs=-1,\n",
              "                                        random_state=42))])</pre></div></div></div><div class=\"sk-serial\"><div class=\"sk-item\"><div class=\"sk-serial\"><div class=\"sk-item\"><div class=\"sk-estimator sk-toggleable\"><input class=\"sk-toggleable__control sk-hidden--visually\" id=\"sk-estimator-id-113\" type=\"checkbox\" ><label for=\"sk-estimator-id-113\" class=\"sk-toggleable__label sk-toggleable__label-arrow\">OrdinalEncoder</label><div class=\"sk-toggleable__content\"><pre>OrdinalEncoder(cols=[&#x27;player_name&#x27;, &#x27;action_type&#x27;, &#x27;shot_type&#x27;,\n",
              "                     &#x27;shot_zone_basic&#x27;, &#x27;shot_zone_area&#x27;, &#x27;shot_zone_range&#x27;,\n",
              "                     &#x27;htm&#x27;, &#x27;vtm&#x27;, &#x27;season_type&#x27;],\n",
              "               mapping=[{&#x27;col&#x27;: &#x27;player_name&#x27;, &#x27;data_type&#x27;: dtype(&#x27;O&#x27;),\n",
              "                         &#x27;mapping&#x27;: Stephen Curry    1\n",
              "NaN             -2\n",
              "dtype: int64},\n",
              "                        {&#x27;col&#x27;: &#x27;action_type&#x27;, &#x27;data_type&#x27;: dtype(&#x27;O&#x27;),\n",
              "                         &#x27;mapping&#x27;: Jump Shot                              1\n",
              "Step Back Jump shot                    2\n",
              "Pullup Jump shot                       3\n",
              "Layup Shot                             4\n",
              "Jump Bank Sh...\n",
              "TOR    28\n",
              "WAS    29\n",
              "NYK    30\n",
              "BKN    31\n",
              "NOP    32\n",
              "NaN    -2\n",
              "dtype: int64},\n",
              "                        {&#x27;col&#x27;: &#x27;vtm&#x27;, &#x27;data_type&#x27;: dtype(&#x27;O&#x27;),\n",
              "                         &#x27;mapping&#x27;: HOU     1\n",
              "GSW     2\n",
              "MEM     3\n",
              "LAC     4\n",
              "MIN     5\n",
              "POR     6\n",
              "LAL     7\n",
              "IND     8\n",
              "ORL     9\n",
              "SAS    10\n",
              "WAS    11\n",
              "PHX    12\n",
              "BOS    13\n",
              "SAC    14\n",
              "CLE    15\n",
              "MIA    16\n",
              "MIL    17\n",
              "CHI    18\n",
              "DEN    19\n",
              "NJN    20\n",
              "NOH    21\n",
              "CHA    22\n",
              "OKC    23\n",
              "DAL    24\n",
              "UTA    25\n",
              "ATL    26\n",
              "PHI    27\n",
              "DET    28\n",
              "TOR    29\n",
              "NYK    30\n",
              "BKN    31\n",
              "NOP    32\n",
              "NaN    -2\n",
              "dtype: int64},\n",
              "                        {&#x27;col&#x27;: &#x27;season_type&#x27;, &#x27;data_type&#x27;: dtype(&#x27;O&#x27;),\n",
              "                         &#x27;mapping&#x27;: Regular Season    1\n",
              "Playoffs          2\n",
              "NaN              -2\n",
              "dtype: int64}])</pre></div></div></div><div class=\"sk-item\"><div class=\"sk-estimator sk-toggleable\"><input class=\"sk-toggleable__control sk-hidden--visually\" id=\"sk-estimator-id-114\" type=\"checkbox\" ><label for=\"sk-estimator-id-114\" class=\"sk-toggleable__label sk-toggleable__label-arrow\">RandomForestClassifier</label><div class=\"sk-toggleable__content\"><pre>RandomForestClassifier(n_estimators=25, n_jobs=-1, random_state=42)</pre></div></div></div></div></div></div></div></div></div></div></div></div>"
            ]
          },
          "metadata": {},
          "execution_count": 110
        }
      ],
      "source": [
        "param_grid = {\n",
        "    'randomforestclassifier__max_depth': range(5,40,5),\n",
        "    'randomforestclassifier__n_estimators': range(25,125,25),\n",
        "    'randomforestclassifier__max_samples': [0.1,0.3,0.5,0.7,0.9,1.0],\n",
        "    # 'randomforestclassifier__learning_rate': range(5, 40, 5)\n",
        "}\n",
        "\n",
        "model_random_search = RandomizedSearchCV(\n",
        "    model,\n",
        "    param_distributions=param_grid,\n",
        "    n_jobs=-1,\n",
        "    verbose=1,\n",
        "    n_iter=3,\n",
        ")\n",
        "\n",
        "model_random_search.fit(X_test, y_test)"
      ]
    },
    {
      "cell_type": "code",
      "source": [
        "test_acc = model_random_search.best_score_\n",
        "print('Testing Accuracy Score:', test_acc)"
      ],
      "metadata": {
        "colab": {
          "base_uri": "https://localhost:8080/"
        },
        "id": "5hxEe4JrTGeN",
        "outputId": "efafbfb7-31ef-47c4-f72c-81044c1fa933"
      },
      "execution_count": null,
      "outputs": [
        {
          "output_type": "stream",
          "name": "stdout",
          "text": [
            "Testing Accuracy Score: 0.6056147210646362\n"
          ]
        }
      ]
    },
    {
      "cell_type": "markdown",
      "metadata": {
        "deletable": false,
        "editable": false,
        "nbgrader": {
          "cell_type": "markdown",
          "checksum": "8db3430fd99f6657dd83938a0d536c1e",
          "grade": false,
          "grade_id": "cell-0e008b7c42ac3b70",
          "locked": true,
          "schema_version": 3,
          "solution": false,
          "task": false
        },
        "id": "Y_A6FD8oD1jG"
      },
      "source": [
        "# VII. Communication"
      ]
    },
    {
      "cell_type": "markdown",
      "metadata": {
        "deletable": false,
        "editable": false,
        "id": "gREDVKaGOUrz",
        "nbgrader": {
          "cell_type": "markdown",
          "checksum": "3e1b9d74a856e492e1c5b1c630fa8cfc",
          "grade": false,
          "grade_id": "cell-235fe09bb4f2bda6",
          "locked": true,
          "schema_version": 3,
          "solution": false,
          "task": false
        }
      },
      "source": [
        "Confusion matrix for my model using my **test data**."
      ]
    },
    {
      "cell_type": "code",
      "execution_count": null,
      "metadata": {
        "deletable": false,
        "id": "W9_4caTROUrz",
        "nbgrader": {
          "cell_type": "code",
          "checksum": "43e2179a73f1d179803ed2ec2a3c97a8",
          "grade": false,
          "grade_id": "225SC_06_a",
          "locked": false,
          "schema_version": 3,
          "solution": true,
          "task": false
        },
        "colab": {
          "base_uri": "https://localhost:8080/",
          "height": 472
        },
        "outputId": "9177a157-9e5a-4753-b303-286e9f721d66"
      },
      "outputs": [
        {
          "output_type": "display_data",
          "data": {
            "text/plain": [
              "<Figure size 640x480 with 2 Axes>"
            ],
            "image/png": "[encoded data removed]"
          },
          "metadata": {}
        }
      ],
      "source": [
        "ConfusionMatrixDisplay.from_estimator(\n",
        "    model_random_search,\n",
        "    X_test,\n",
        "    y_test,\n",
        "    display_labels=['shot missed (0)', 'shot made (1)']\n",
        ")\n",
        "\n",
        "plt.title('Curry Confusion Matrix');"
      ]
    },
    {
      "cell_type": "code",
      "source": [
        "my_precision = 477 / (477+198)\n",
        "my_recall = 477 / (477+320)\n",
        "print('My model precision', instructor_precision)\n",
        "print('My model recall', instructor_recall)"
      ],
      "metadata": {
        "colab": {
          "base_uri": "https://localhost:8080/"
        },
        "id": "q0q7_VtUaemr",
        "outputId": "4a7c420b-0cbf-45a7-f1d6-3134337f1908"
      },
      "execution_count": null,
      "outputs": [
        {
          "output_type": "stream",
          "name": "stdout",
          "text": [
            "My model precision 0.5816216216216217\n",
            "My model recall 0.6750313676286073\n"
          ]
        }
      ]
    }
  ],
  "metadata": {
    "colab": {
      "provenance": [],
      "include_colab_link": true
    },
    "kernelspec": {
      "display_name": "Python 3",
      "language": "python",
      "name": "python3"
    },
    "language_info": {
      "codemirror_mode": {
        "name": "ipython",
        "version": 3
      },
      "file_extension": ".py",
      "mimetype": "text/x-python",
      "name": "python",
      "nbconvert_exporter": "python",
      "pygments_lexer": "ipython3",
      "version": "3.8.8"
    }
  },
  "nbformat": 4,
  "nbformat_minor": 0
}
