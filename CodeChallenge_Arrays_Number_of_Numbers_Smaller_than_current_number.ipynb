{
  "nbformat": 4,
  "nbformat_minor": 0,
  "metadata": {
    "colab": {
      "provenance": [],
      "authorship_tag": "ABX9TyPcy92cFRD4jdfF3mcjVBZM",
      "include_colab_link": true
    },
    "kernelspec": {
      "name": "python3",
      "display_name": "Python 3"
    },
    "language_info": {
      "name": "python"
    }
  },
  "cells": [
    {
      "cell_type": "markdown",
      "metadata": {
        "id": "view-in-github",
        "colab_type": "text"
      },
      "source": [
        "<a href=\"https://colab.research.google.com/github/tsangrebecca/PersonalProjects/blob/main/CodeChallenge_Arrays_Number_of_Numbers_Smaller_than_current_number.ipynb\" target=\"_parent\"><img src=\"https://colab.research.google.com/assets/colab-badge.svg\" alt=\"Open In Colab\"/></a>"
      ]
    },
    {
      "cell_type": "code",
      "execution_count": null,
      "metadata": {
        "id": "DIt1vg4gSFTb"
      },
      "outputs": [],
      "source": [
        "def solution(nums):\n",
        "  # brute force with double loops\n",
        "  result = []\n",
        "  for i in range(len(nums)):\n",
        "    count = 0\n",
        "    for j in range(len(nums)):\n",
        "      if i != j and nums[j] < nums[i]: # with i != j, we skip nums[i] already so for the inner loop we can put same range number as outer loop\n",
        "                                      # nums[j] < nums[i]: rest of the number smaller than the number pointed to by outer loop\n",
        "          count += 1\n",
        "    result.append(count)\n",
        "  return result"
      ]
    },
    {
      "cell_type": "code",
      "source": [
        "solution([9,0,2,6])"
      ],
      "metadata": {
        "colab": {
          "base_uri": "https://localhost:8080/"
        },
        "id": "dQhJbiaAWJCX",
        "outputId": "d07281cf-fdd2-4888-fb81-0d0b5c5b3c9a"
      },
      "execution_count": null,
      "outputs": [
        {
          "output_type": "execute_result",
          "data": {
            "text/plain": [
              "[3, 0, 1, 2]"
            ]
          },
          "metadata": {},
          "execution_count": 5
        }
      ]
    },
    {
      "cell_type": "code",
      "source": [],
      "metadata": {
        "id": "SrR8lEkAWRmp"
      },
      "execution_count": null,
      "outputs": []
    }
  ]
}